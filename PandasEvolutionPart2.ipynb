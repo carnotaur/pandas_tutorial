{
 "cells": [
  {
   "cell_type": "markdown",
   "metadata": {
    "slideshow": {
     "slide_type": "slide"
    }
   },
   "source": [
    "# <center> PANDAS : \n",
    "# <center> Эволюционный пинок - Часть 2\n",
    "   "
   ]
  },
  {
   "cell_type": "markdown",
   "metadata": {
    "slideshow": {
     "slide_type": "slide"
    }
   },
   "source": [
    "### <center> Панды\n",
    "Больша́я па́нда, или бамбу́ковый медве́дь (лат. Ailuropoda melanoleuca) — вид всеядных млекопитающих из семейства медвежьих со своеобразной чёрно-белой окраской шерсти, обладающих некоторыми признаками енотов. Единственный современный вид рода Ailuropus подсемейства Ailuropodinae. Большие панды обитают в горных регионах центрального Китая: Сычуань и Тибет.\n",
    "<center> <img src= \"imgs/external-content.duckduckgo.com.jpeg\" width=600></img>"
   ]
  },
  {
   "cell_type": "markdown",
   "metadata": {
    "slideshow": {
     "slide_type": "slide"
    }
   },
   "source": [
    "### <center> Pandas"
   ]
  },
  {
   "cell_type": "markdown",
   "metadata": {},
   "source": [
    "Загрузить данные и показать фрейм"
   ]
  },
  {
   "cell_type": "code",
   "execution_count": 1,
   "metadata": {
    "slideshow": {
     "slide_type": "fragment"
    }
   },
   "outputs": [],
   "source": [
    "import pandas as pd\n",
    "path = 'data/raw_total_fight_data.csv'"
   ]
  },
  {
   "cell_type": "markdown",
   "metadata": {
    "slideshow": {
     "slide_type": "slide"
    }
   },
   "source": [
    "#### Первичный анализ"
   ]
  },
  {
   "cell_type": "markdown",
   "metadata": {},
   "source": [
    "Показать основную информацию"
   ]
  },
  {
   "cell_type": "code",
   "execution_count": null,
   "metadata": {},
   "outputs": [],
   "source": []
  },
  {
   "cell_type": "markdown",
   "metadata": {},
   "source": [
    "Выбрать только колонки типа object"
   ]
  },
  {
   "cell_type": "code",
   "execution_count": 6,
   "metadata": {
    "collapsed": true,
    "jupyter": {
     "outputs_hidden": true
    },
    "slideshow": {
     "slide_type": "subslide"
    }
   },
   "outputs": [
    {
     "data": {
      "text/html": [
       "<div>\n",
       "<style scoped>\n",
       "    .dataframe tbody tr th:only-of-type {\n",
       "        vertical-align: middle;\n",
       "    }\n",
       "\n",
       "    .dataframe tbody tr th {\n",
       "        vertical-align: top;\n",
       "    }\n",
       "\n",
       "    .dataframe thead th {\n",
       "        text-align: right;\n",
       "    }\n",
       "</style>\n",
       "<table border=\"1\" class=\"dataframe\">\n",
       "  <thead>\n",
       "    <tr style=\"text-align: right;\">\n",
       "      <th></th>\n",
       "      <th>R_fighter</th>\n",
       "      <th>B_fighter</th>\n",
       "      <th>R_SIG_STR.</th>\n",
       "      <th>B_SIG_STR.</th>\n",
       "      <th>R_SIG_STR_pct</th>\n",
       "      <th>B_SIG_STR_pct</th>\n",
       "      <th>R_TOTAL_STR.</th>\n",
       "      <th>B_TOTAL_STR.</th>\n",
       "      <th>R_TD</th>\n",
       "      <th>B_TD</th>\n",
       "      <th>...</th>\n",
       "      <th>R_GROUND</th>\n",
       "      <th>B_GROUND</th>\n",
       "      <th>win_by</th>\n",
       "      <th>last_round_time</th>\n",
       "      <th>Format</th>\n",
       "      <th>Referee</th>\n",
       "      <th>date</th>\n",
       "      <th>location</th>\n",
       "      <th>Fight_type</th>\n",
       "      <th>Winner</th>\n",
       "    </tr>\n",
       "  </thead>\n",
       "  <tbody>\n",
       "    <tr>\n",
       "      <th>0</th>\n",
       "      <td>Henry Cejudo</td>\n",
       "      <td>Marlon Moraes</td>\n",
       "      <td>90 of 171</td>\n",
       "      <td>57 of 119</td>\n",
       "      <td>52%</td>\n",
       "      <td>47%</td>\n",
       "      <td>99 of 182</td>\n",
       "      <td>59 of 121</td>\n",
       "      <td>1 of 4</td>\n",
       "      <td>0 of 2</td>\n",
       "      <td>...</td>\n",
       "      <td>26 of 30</td>\n",
       "      <td>1 of 1</td>\n",
       "      <td>KO/TKO</td>\n",
       "      <td>4:51</td>\n",
       "      <td>5 Rnd (5-5-5-5-5)</td>\n",
       "      <td>Marc Goddard</td>\n",
       "      <td>June 08, 2019</td>\n",
       "      <td>Chicago, Illinois, USA</td>\n",
       "      <td>UFC Bantamweight Title Bout</td>\n",
       "      <td>Henry Cejudo</td>\n",
       "    </tr>\n",
       "    <tr>\n",
       "      <th>1</th>\n",
       "      <td>Valentina Shevchenko</td>\n",
       "      <td>Jessica Eye</td>\n",
       "      <td>8 of 11</td>\n",
       "      <td>2 of 12</td>\n",
       "      <td>72%</td>\n",
       "      <td>16%</td>\n",
       "      <td>37 of 40</td>\n",
       "      <td>42 of 52</td>\n",
       "      <td>2 of 2</td>\n",
       "      <td>0 of 0</td>\n",
       "      <td>...</td>\n",
       "      <td>1 of 1</td>\n",
       "      <td>0 of 0</td>\n",
       "      <td>KO/TKO</td>\n",
       "      <td>0:26</td>\n",
       "      <td>5 Rnd (5-5-5-5-5)</td>\n",
       "      <td>Robert Madrigal</td>\n",
       "      <td>June 08, 2019</td>\n",
       "      <td>Chicago, Illinois, USA</td>\n",
       "      <td>UFC Women's Flyweight Title Bout</td>\n",
       "      <td>Valentina Shevchenko</td>\n",
       "    </tr>\n",
       "    <tr>\n",
       "      <th>2</th>\n",
       "      <td>Tony Ferguson</td>\n",
       "      <td>Donald Cerrone</td>\n",
       "      <td>104 of 200</td>\n",
       "      <td>68 of 185</td>\n",
       "      <td>52%</td>\n",
       "      <td>36%</td>\n",
       "      <td>104 of 200</td>\n",
       "      <td>68 of 185</td>\n",
       "      <td>0 of 0</td>\n",
       "      <td>1 of 1</td>\n",
       "      <td>...</td>\n",
       "      <td>0 of 0</td>\n",
       "      <td>0 of 0</td>\n",
       "      <td>TKO - Doctor's Stoppage</td>\n",
       "      <td>5:00</td>\n",
       "      <td>3 Rnd (5-5-5)</td>\n",
       "      <td>Dan Miragliotta</td>\n",
       "      <td>June 08, 2019</td>\n",
       "      <td>Chicago, Illinois, USA</td>\n",
       "      <td>Lightweight Bout</td>\n",
       "      <td>Tony Ferguson</td>\n",
       "    </tr>\n",
       "    <tr>\n",
       "      <th>3</th>\n",
       "      <td>Jimmie Rivera</td>\n",
       "      <td>Petr Yan</td>\n",
       "      <td>73 of 192</td>\n",
       "      <td>56 of 189</td>\n",
       "      <td>38%</td>\n",
       "      <td>29%</td>\n",
       "      <td>76 of 195</td>\n",
       "      <td>58 of 192</td>\n",
       "      <td>0 of 3</td>\n",
       "      <td>1 of 3</td>\n",
       "      <td>...</td>\n",
       "      <td>4 of 4</td>\n",
       "      <td>4 of 10</td>\n",
       "      <td>Decision - Unanimous</td>\n",
       "      <td>5:00</td>\n",
       "      <td>3 Rnd (5-5-5)</td>\n",
       "      <td>Kevin MacDonald</td>\n",
       "      <td>June 08, 2019</td>\n",
       "      <td>Chicago, Illinois, USA</td>\n",
       "      <td>Bantamweight Bout</td>\n",
       "      <td>Petr Yan</td>\n",
       "    </tr>\n",
       "    <tr>\n",
       "      <th>4</th>\n",
       "      <td>Tai Tuivasa</td>\n",
       "      <td>Blagoy Ivanov</td>\n",
       "      <td>64 of 144</td>\n",
       "      <td>73 of 123</td>\n",
       "      <td>44%</td>\n",
       "      <td>59%</td>\n",
       "      <td>66 of 146</td>\n",
       "      <td>81 of 131</td>\n",
       "      <td>0 of 0</td>\n",
       "      <td>2 of 2</td>\n",
       "      <td>...</td>\n",
       "      <td>0 of 0</td>\n",
       "      <td>6 of 6</td>\n",
       "      <td>Decision - Unanimous</td>\n",
       "      <td>5:00</td>\n",
       "      <td>3 Rnd (5-5-5)</td>\n",
       "      <td>Dan Miragliotta</td>\n",
       "      <td>June 08, 2019</td>\n",
       "      <td>Chicago, Illinois, USA</td>\n",
       "      <td>Heavyweight Bout</td>\n",
       "      <td>Blagoy Ivanov</td>\n",
       "    </tr>\n",
       "  </tbody>\n",
       "</table>\n",
       "<p>5 rows × 32 columns</p>\n",
       "</div>"
      ],
      "text/plain": [
       "              R_fighter       B_fighter  R_SIG_STR. B_SIG_STR. R_SIG_STR_pct  \\\n",
       "0          Henry Cejudo   Marlon Moraes   90 of 171  57 of 119           52%   \n",
       "1  Valentina Shevchenko     Jessica Eye     8 of 11    2 of 12           72%   \n",
       "2         Tony Ferguson  Donald Cerrone  104 of 200  68 of 185           52%   \n",
       "3         Jimmie Rivera        Petr Yan   73 of 192  56 of 189           38%   \n",
       "4           Tai Tuivasa   Blagoy Ivanov   64 of 144  73 of 123           44%   \n",
       "\n",
       "  B_SIG_STR_pct R_TOTAL_STR. B_TOTAL_STR.    R_TD    B_TD  ...  R_GROUND  \\\n",
       "0           47%    99 of 182    59 of 121  1 of 4  0 of 2  ...  26 of 30   \n",
       "1           16%     37 of 40     42 of 52  2 of 2  0 of 0  ...    1 of 1   \n",
       "2           36%   104 of 200    68 of 185  0 of 0  1 of 1  ...    0 of 0   \n",
       "3           29%    76 of 195    58 of 192  0 of 3  1 of 3  ...    4 of 4   \n",
       "4           59%    66 of 146    81 of 131  0 of 0  2 of 2  ...    0 of 0   \n",
       "\n",
       "  B_GROUND                   win_by last_round_time             Format  \\\n",
       "0   1 of 1                   KO/TKO            4:51  5 Rnd (5-5-5-5-5)   \n",
       "1   0 of 0                   KO/TKO            0:26  5 Rnd (5-5-5-5-5)   \n",
       "2   0 of 0  TKO - Doctor's Stoppage            5:00      3 Rnd (5-5-5)   \n",
       "3  4 of 10     Decision - Unanimous            5:00      3 Rnd (5-5-5)   \n",
       "4   6 of 6     Decision - Unanimous            5:00      3 Rnd (5-5-5)   \n",
       "\n",
       "           Referee           date                location  \\\n",
       "0     Marc Goddard  June 08, 2019  Chicago, Illinois, USA   \n",
       "1  Robert Madrigal  June 08, 2019  Chicago, Illinois, USA   \n",
       "2  Dan Miragliotta  June 08, 2019  Chicago, Illinois, USA   \n",
       "3  Kevin MacDonald  June 08, 2019  Chicago, Illinois, USA   \n",
       "4  Dan Miragliotta  June 08, 2019  Chicago, Illinois, USA   \n",
       "\n",
       "                         Fight_type                Winner  \n",
       "0       UFC Bantamweight Title Bout          Henry Cejudo  \n",
       "1  UFC Women's Flyweight Title Bout  Valentina Shevchenko  \n",
       "2                  Lightweight Bout         Tony Ferguson  \n",
       "3                 Bantamweight Bout              Petr Yan  \n",
       "4                  Heavyweight Bout         Blagoy Ivanov  \n",
       "\n",
       "[5 rows x 32 columns]"
      ]
     },
     "execution_count": 6,
     "metadata": {},
     "output_type": "execute_result"
    }
   ],
   "source": []
  },
  {
   "cell_type": "markdown",
   "metadata": {
    "slideshow": {
     "slide_type": "slide"
    }
   },
   "source": [
    "### Категории"
   ]
  },
  {
   "cell_type": "markdown",
   "metadata": {
    "slideshow": {
     "slide_type": "fragment"
    }
   },
   "source": [
    "<center> <img  src=\"imgs/4.jpeg\" width=800></img>"
   ]
  },
  {
   "cell_type": "code",
   "execution_count": 25,
   "metadata": {
    "slideshow": {
     "slide_type": "subslide"
    }
   },
   "outputs": [
    {
     "name": "stdout",
     "output_type": "stream",
     "text": [
      "R_fighter 1334\n",
      "B_fighter 1774\n",
      "R_SIG_STR. 3038\n",
      "B_SIG_STR. 2903\n",
      "R_SIG_STR_pct 95\n",
      "B_SIG_STR_pct 90\n",
      "R_TOTAL_STR. 3681\n",
      "B_TOTAL_STR. 3479\n",
      "R_TD 157\n",
      "B_TD 154\n",
      "R_TD_pct 69\n",
      "B_TD_pct 62\n",
      "R_HEAD 2620\n",
      "B_HEAD 2475\n",
      "R_BODY 541\n",
      "B_BODY 508\n",
      "R_LEG 393\n",
      "B_LEG 355\n",
      "R_DISTANCE 2382\n",
      "B_DISTANCE 2391\n",
      "R_CLINCH 472\n",
      "B_CLINCH 469\n",
      "R_GROUND 641\n",
      "B_GROUND 465\n",
      "win_by 10\n",
      "last_round_time 333\n",
      "Format 19\n",
      "Referee 190\n",
      "date 476\n",
      "location 157\n",
      "Fight_type 112\n",
      "Winner 1267\n"
     ]
    }
   ],
   "source": [
    "for column_name in df.select_dtypes(include='object'):\n",
    "    print(column_name, df[column_name].nunique())"
   ]
  },
  {
   "cell_type": "code",
   "execution_count": 26,
   "metadata": {
    "slideshow": {
     "slide_type": "subslide"
    }
   },
   "outputs": [
    {
     "name": "stdout",
     "output_type": "stream",
     "text": [
      "['KO/TKO', \"TKO - Doctor's Stoppage\", 'Decision - Unanimous', 'Submission', 'Decision - Split', 'Decision - Majority', 'DQ', 'Overturned', 'Could Not Continue', 'Other']\n"
     ]
    }
   ],
   "source": [
    "print(df['win_by'].unique().tolist())\n",
    "categories = [\n",
    "     'Не категория', # 0\n",
    "     'KO/TKO',  # 1\n",
    "     \"TKO - Doctor's Stoppage\",\n",
    "     'Decision - Unanimous',\n",
    "     'Submission',\n",
    "     'Decision - Split',\n",
    "     'Decision - Majority',\n",
    "     'DQ',\n",
    "     'Overturned',\n",
    "     'Could Not Continue',\n",
    "     'Other',\n",
    "]"
   ]
  },
  {
   "cell_type": "code",
   "execution_count": 27,
   "metadata": {
    "slideshow": {
     "slide_type": "subslide"
    }
   },
   "outputs": [
    {
     "data": {
      "text/plain": [
       "0                     KO/TKO\n",
       "1                     KO/TKO\n",
       "2    TKO - Doctor's Stoppage\n",
       "3       Decision - Unanimous\n",
       "4       Decision - Unanimous\n",
       "dtype: category\n",
       "Categories (11, object): [Не категория < KO/TKO < TKO - Doctor's Stoppage < Decision - Unanimous ... DQ < Overturned < Could Not Continue < Other]"
      ]
     },
     "execution_count": 27,
     "metadata": {},
     "output_type": "execute_result"
    }
   ],
   "source": [
    "raw_cats = pd.Categorical(df['win_by'], categories=categories, ordered=True)\n",
    "win_by = pd.Series(raw_cats)\n",
    "win_by.head()"
   ]
  },
  {
   "cell_type": "code",
   "execution_count": 28,
   "metadata": {
    "slideshow": {
     "slide_type": "fragment"
    }
   },
   "outputs": [
    {
     "data": {
      "text/plain": [
       "0                     KO/TKO\n",
       "1                     KO/TKO\n",
       "2    TKO - Doctor's Stoppage\n",
       "3       Decision - Unanimous\n",
       "4       Decision - Unanimous\n",
       "dtype: category\n",
       "Categories (11, object): [Не категория, KO/TKO, TKO - Doctor's Stoppage, Decision - Unanimous, ..., DQ, Overturned, Could Not Continue, Other]"
      ]
     },
     "execution_count": 28,
     "metadata": {},
     "output_type": "execute_result"
    }
   ],
   "source": [
    "raw_cats = pd.Categorical(df['win_by'], categories=categories, ordered=False)\n",
    "win_by = pd.Series(raw_cats)\n",
    "win_by.head()"
   ]
  },
  {
   "cell_type": "code",
   "execution_count": 29,
   "metadata": {
    "slideshow": {
     "slide_type": "subslide"
    }
   },
   "outputs": [
    {
     "data": {
      "text/plain": [
       "0                     KO/TKO\n",
       "1                     KO/TKO\n",
       "2    TKO - Doctor's Stoppage\n",
       "3       Decision - Unanimous\n",
       "4       Decision - Unanimous\n",
       "dtype: category\n",
       "Categories (11, object): [Не категория < KO/TKO < TKO - Doctor's Stoppage < Decision - Unanimous ... DQ < Overturned < Could Not Continue < Other]"
      ]
     },
     "execution_count": 29,
     "metadata": {},
     "output_type": "execute_result"
    }
   ],
   "source": [
    "raw_cats = pd.Categorical(df['win_by'], categories=categories, ordered=True)\n",
    "win_by = pd.Series(raw_cats)\n",
    "win_by.head()"
   ]
  },
  {
   "cell_type": "markdown",
   "metadata": {
    "slideshow": {
     "slide_type": "subslide"
    }
   },
   "source": [
    "Ну или просто"
   ]
  },
  {
   "cell_type": "code",
   "execution_count": 30,
   "metadata": {
    "slideshow": {
     "slide_type": "fragment"
    }
   },
   "outputs": [
    {
     "data": {
      "text/plain": [
       "0                     KO/TKO\n",
       "1                     KO/TKO\n",
       "2    TKO - Doctor's Stoppage\n",
       "3       Decision - Unanimous\n",
       "4       Decision - Unanimous\n",
       "Name: win_by, dtype: category\n",
       "Categories (10, object): [Could Not Continue, DQ, Decision - Majority, Decision - Split, ..., Other, Overturned, Submission, TKO - Doctor's Stoppage]"
      ]
     },
     "execution_count": 30,
     "metadata": {},
     "output_type": "execute_result"
    }
   ],
   "source": [
    "df['win_by'].astype('category').head()"
   ]
  },
  {
   "cell_type": "code",
   "execution_count": 31,
   "metadata": {
    "slideshow": {
     "slide_type": "subslide"
    }
   },
   "outputs": [
    {
     "name": "stdout",
     "output_type": "stream",
     "text": [
      "Прежнее потребление памяти:  359862\n",
      "После конвертации  6421\n",
      "Улучшение в потребляемой памяти 56.04\n"
     ]
    }
   ],
   "source": [
    "old_mem_usage = df['win_by'].memory_usage(deep='True')\n",
    "new_mem_usage = win_by.memory_usage(deep='True')\n",
    "print('Прежнее потребление памяти: ', old_mem_usage)\n",
    "print('После конвертации ', new_mem_usage)\n",
    "print('Улучшение в потребляемой памяти {:.2f}'.format(old_mem_usage / new_mem_usage))"
   ]
  },
  {
   "cell_type": "markdown",
   "metadata": {
    "slideshow": {
     "slide_type": "slide"
    }
   },
   "source": [
    "### Resample"
   ]
  },
  {
   "cell_type": "markdown",
   "metadata": {
    "slideshow": {
     "slide_type": "fragment"
    }
   },
   "source": [
    "<center> <img src=\"imgs/pandalast.jpeg\" width=800>"
   ]
  },
  {
   "cell_type": "code",
   "execution_count": 36,
   "metadata": {
    "slideshow": {
     "slide_type": "subslide"
    }
   },
   "outputs": [
    {
     "data": {
      "text/html": [
       "<div>\n",
       "<style scoped>\n",
       "    .dataframe tbody tr th:only-of-type {\n",
       "        vertical-align: middle;\n",
       "    }\n",
       "\n",
       "    .dataframe tbody tr th {\n",
       "        vertical-align: top;\n",
       "    }\n",
       "\n",
       "    .dataframe thead th {\n",
       "        text-align: right;\n",
       "    }\n",
       "</style>\n",
       "<table border=\"1\" class=\"dataframe\">\n",
       "  <thead>\n",
       "    <tr style=\"text-align: right;\">\n",
       "      <th></th>\n",
       "      <th>R_fighter</th>\n",
       "      <th>B_fighter</th>\n",
       "      <th>R_KD</th>\n",
       "      <th>B_KD</th>\n",
       "      <th>R_SIG_STR.</th>\n",
       "      <th>B_SIG_STR.</th>\n",
       "      <th>R_SIG_STR_pct</th>\n",
       "      <th>B_SIG_STR_pct</th>\n",
       "      <th>R_TOTAL_STR.</th>\n",
       "      <th>B_TOTAL_STR.</th>\n",
       "      <th>...</th>\n",
       "      <th>B_GROUND</th>\n",
       "      <th>win_by</th>\n",
       "      <th>last_round</th>\n",
       "      <th>last_round_time</th>\n",
       "      <th>Format</th>\n",
       "      <th>Referee</th>\n",
       "      <th>date</th>\n",
       "      <th>location</th>\n",
       "      <th>Fight_type</th>\n",
       "      <th>Winner</th>\n",
       "    </tr>\n",
       "    <tr>\n",
       "      <th>date</th>\n",
       "      <th></th>\n",
       "      <th></th>\n",
       "      <th></th>\n",
       "      <th></th>\n",
       "      <th></th>\n",
       "      <th></th>\n",
       "      <th></th>\n",
       "      <th></th>\n",
       "      <th></th>\n",
       "      <th></th>\n",
       "      <th></th>\n",
       "      <th></th>\n",
       "      <th></th>\n",
       "      <th></th>\n",
       "      <th></th>\n",
       "      <th></th>\n",
       "      <th></th>\n",
       "      <th></th>\n",
       "      <th></th>\n",
       "      <th></th>\n",
       "      <th></th>\n",
       "    </tr>\n",
       "  </thead>\n",
       "  <tbody>\n",
       "    <tr>\n",
       "      <th>2019-06-08</th>\n",
       "      <td>Henry Cejudo</td>\n",
       "      <td>Marlon Moraes</td>\n",
       "      <td>0</td>\n",
       "      <td>0</td>\n",
       "      <td>90 of 171</td>\n",
       "      <td>57 of 119</td>\n",
       "      <td>52%</td>\n",
       "      <td>47%</td>\n",
       "      <td>99 of 182</td>\n",
       "      <td>59 of 121</td>\n",
       "      <td>...</td>\n",
       "      <td>1 of 1</td>\n",
       "      <td>KO/TKO</td>\n",
       "      <td>3</td>\n",
       "      <td>4:51</td>\n",
       "      <td>5 Rnd (5-5-5-5-5)</td>\n",
       "      <td>Marc Goddard</td>\n",
       "      <td>June 08, 2019</td>\n",
       "      <td>Chicago, Illinois, USA</td>\n",
       "      <td>UFC Bantamweight Title Bout</td>\n",
       "      <td>Henry Cejudo</td>\n",
       "    </tr>\n",
       "    <tr>\n",
       "      <th>2019-06-08</th>\n",
       "      <td>Valentina Shevchenko</td>\n",
       "      <td>Jessica Eye</td>\n",
       "      <td>1</td>\n",
       "      <td>0</td>\n",
       "      <td>8 of 11</td>\n",
       "      <td>2 of 12</td>\n",
       "      <td>72%</td>\n",
       "      <td>16%</td>\n",
       "      <td>37 of 40</td>\n",
       "      <td>42 of 52</td>\n",
       "      <td>...</td>\n",
       "      <td>0 of 0</td>\n",
       "      <td>KO/TKO</td>\n",
       "      <td>2</td>\n",
       "      <td>0:26</td>\n",
       "      <td>5 Rnd (5-5-5-5-5)</td>\n",
       "      <td>Robert Madrigal</td>\n",
       "      <td>June 08, 2019</td>\n",
       "      <td>Chicago, Illinois, USA</td>\n",
       "      <td>UFC Women's Flyweight Title Bout</td>\n",
       "      <td>Valentina Shevchenko</td>\n",
       "    </tr>\n",
       "    <tr>\n",
       "      <th>2019-06-08</th>\n",
       "      <td>Tony Ferguson</td>\n",
       "      <td>Donald Cerrone</td>\n",
       "      <td>0</td>\n",
       "      <td>0</td>\n",
       "      <td>104 of 200</td>\n",
       "      <td>68 of 185</td>\n",
       "      <td>52%</td>\n",
       "      <td>36%</td>\n",
       "      <td>104 of 200</td>\n",
       "      <td>68 of 185</td>\n",
       "      <td>...</td>\n",
       "      <td>0 of 0</td>\n",
       "      <td>TKO - Doctor's Stoppage</td>\n",
       "      <td>2</td>\n",
       "      <td>5:00</td>\n",
       "      <td>3 Rnd (5-5-5)</td>\n",
       "      <td>Dan Miragliotta</td>\n",
       "      <td>June 08, 2019</td>\n",
       "      <td>Chicago, Illinois, USA</td>\n",
       "      <td>Lightweight Bout</td>\n",
       "      <td>Tony Ferguson</td>\n",
       "    </tr>\n",
       "    <tr>\n",
       "      <th>2019-06-08</th>\n",
       "      <td>Jimmie Rivera</td>\n",
       "      <td>Petr Yan</td>\n",
       "      <td>0</td>\n",
       "      <td>2</td>\n",
       "      <td>73 of 192</td>\n",
       "      <td>56 of 189</td>\n",
       "      <td>38%</td>\n",
       "      <td>29%</td>\n",
       "      <td>76 of 195</td>\n",
       "      <td>58 of 192</td>\n",
       "      <td>...</td>\n",
       "      <td>4 of 10</td>\n",
       "      <td>Decision - Unanimous</td>\n",
       "      <td>3</td>\n",
       "      <td>5:00</td>\n",
       "      <td>3 Rnd (5-5-5)</td>\n",
       "      <td>Kevin MacDonald</td>\n",
       "      <td>June 08, 2019</td>\n",
       "      <td>Chicago, Illinois, USA</td>\n",
       "      <td>Bantamweight Bout</td>\n",
       "      <td>Petr Yan</td>\n",
       "    </tr>\n",
       "    <tr>\n",
       "      <th>2019-06-08</th>\n",
       "      <td>Tai Tuivasa</td>\n",
       "      <td>Blagoy Ivanov</td>\n",
       "      <td>0</td>\n",
       "      <td>1</td>\n",
       "      <td>64 of 144</td>\n",
       "      <td>73 of 123</td>\n",
       "      <td>44%</td>\n",
       "      <td>59%</td>\n",
       "      <td>66 of 146</td>\n",
       "      <td>81 of 131</td>\n",
       "      <td>...</td>\n",
       "      <td>6 of 6</td>\n",
       "      <td>Decision - Unanimous</td>\n",
       "      <td>3</td>\n",
       "      <td>5:00</td>\n",
       "      <td>3 Rnd (5-5-5)</td>\n",
       "      <td>Dan Miragliotta</td>\n",
       "      <td>June 08, 2019</td>\n",
       "      <td>Chicago, Illinois, USA</td>\n",
       "      <td>Heavyweight Bout</td>\n",
       "      <td>Blagoy Ivanov</td>\n",
       "    </tr>\n",
       "  </tbody>\n",
       "</table>\n",
       "<p>5 rows × 41 columns</p>\n",
       "</div>"
      ],
      "text/plain": [
       "                       R_fighter       B_fighter  R_KD  B_KD  R_SIG_STR.  \\\n",
       "date                                                                       \n",
       "2019-06-08          Henry Cejudo   Marlon Moraes     0     0   90 of 171   \n",
       "2019-06-08  Valentina Shevchenko     Jessica Eye     1     0     8 of 11   \n",
       "2019-06-08         Tony Ferguson  Donald Cerrone     0     0  104 of 200   \n",
       "2019-06-08         Jimmie Rivera        Petr Yan     0     2   73 of 192   \n",
       "2019-06-08           Tai Tuivasa   Blagoy Ivanov     0     1   64 of 144   \n",
       "\n",
       "           B_SIG_STR. R_SIG_STR_pct B_SIG_STR_pct R_TOTAL_STR. B_TOTAL_STR.  \\\n",
       "date                                                                          \n",
       "2019-06-08  57 of 119           52%           47%    99 of 182    59 of 121   \n",
       "2019-06-08    2 of 12           72%           16%     37 of 40     42 of 52   \n",
       "2019-06-08  68 of 185           52%           36%   104 of 200    68 of 185   \n",
       "2019-06-08  56 of 189           38%           29%    76 of 195    58 of 192   \n",
       "2019-06-08  73 of 123           44%           59%    66 of 146    81 of 131   \n",
       "\n",
       "            ... B_GROUND                   win_by last_round last_round_time  \\\n",
       "date        ...                                                                \n",
       "2019-06-08  ...   1 of 1                   KO/TKO          3            4:51   \n",
       "2019-06-08  ...   0 of 0                   KO/TKO          2            0:26   \n",
       "2019-06-08  ...   0 of 0  TKO - Doctor's Stoppage          2            5:00   \n",
       "2019-06-08  ...  4 of 10     Decision - Unanimous          3            5:00   \n",
       "2019-06-08  ...   6 of 6     Decision - Unanimous          3            5:00   \n",
       "\n",
       "                       Format          Referee           date  \\\n",
       "date                                                            \n",
       "2019-06-08  5 Rnd (5-5-5-5-5)     Marc Goddard  June 08, 2019   \n",
       "2019-06-08  5 Rnd (5-5-5-5-5)  Robert Madrigal  June 08, 2019   \n",
       "2019-06-08      3 Rnd (5-5-5)  Dan Miragliotta  June 08, 2019   \n",
       "2019-06-08      3 Rnd (5-5-5)  Kevin MacDonald  June 08, 2019   \n",
       "2019-06-08      3 Rnd (5-5-5)  Dan Miragliotta  June 08, 2019   \n",
       "\n",
       "                          location                        Fight_type  \\\n",
       "date                                                                   \n",
       "2019-06-08  Chicago, Illinois, USA       UFC Bantamweight Title Bout   \n",
       "2019-06-08  Chicago, Illinois, USA  UFC Women's Flyweight Title Bout   \n",
       "2019-06-08  Chicago, Illinois, USA                  Lightweight Bout   \n",
       "2019-06-08  Chicago, Illinois, USA                 Bantamweight Bout   \n",
       "2019-06-08  Chicago, Illinois, USA                  Heavyweight Bout   \n",
       "\n",
       "                          Winner  \n",
       "date                              \n",
       "2019-06-08          Henry Cejudo  \n",
       "2019-06-08  Valentina Shevchenko  \n",
       "2019-06-08         Tony Ferguson  \n",
       "2019-06-08              Petr Yan  \n",
       "2019-06-08         Blagoy Ivanov  \n",
       "\n",
       "[5 rows x 41 columns]"
      ]
     },
     "execution_count": 36,
     "metadata": {},
     "output_type": "execute_result"
    }
   ],
   "source": [
    "df = df.set_index(date)\n",
    "df.head()"
   ]
  },
  {
   "cell_type": "code",
   "execution_count": 37,
   "metadata": {
    "slideshow": {
     "slide_type": "subslide"
    }
   },
   "outputs": [
    {
     "data": {
      "text/plain": [
       "date\n",
       "2019-02-28    2.183673\n",
       "2019-03-31    2.451613\n",
       "2019-04-30    2.540541\n",
       "2019-05-31    2.567568\n",
       "2019-06-30    2.520000\n",
       "Freq: M, Name: last_round, dtype: float64"
      ]
     },
     "execution_count": 37,
     "metadata": {},
     "output_type": "execute_result"
    }
   ],
   "source": [
    "df.resample('1M')['last_round'].mean().tail(5)"
   ]
  },
  {
   "cell_type": "markdown",
   "metadata": {
    "slideshow": {
     "slide_type": "slide"
    }
   },
   "source": [
    "### Method Chaining"
   ]
  },
  {
   "cell_type": "markdown",
   "metadata": {
    "slideshow": {
     "slide_type": "fragment"
    }
   },
   "source": [
    "<center> <img src=\"imgs/redpanda.jpeg\" width=600>"
   ]
  },
  {
   "cell_type": "code",
   "execution_count": 40,
   "metadata": {
    "slideshow": {
     "slide_type": "subslide"
    }
   },
   "outputs": [],
   "source": [
    "%matplotlib inline\n",
    "import matplotlib.pyplot as plt\n",
    "import seaborn as sns\n",
    "import pandas as pd\n",
    "plt.style.use('seaborn')"
   ]
  },
  {
   "cell_type": "code",
   "execution_count": 41,
   "metadata": {
    "slideshow": {
     "slide_type": "subslide"
    }
   },
   "outputs": [
    {
     "data": {
      "image/png": "[encoded data removed]",
      "text/plain": [
       "<Figure size 1296x216 with 1 Axes>"
      ]
     },
     "metadata": {},
     "output_type": "display_data"
    }
   ],
   "source": [
    "df = df.set_index(date)\n",
    "last_round_data = df.resample('1M')['last_round'].mean()\n",
    "last_round_data = last_round_data.fillna(0)\n",
    "filtered_last_round_data = last_round_data['2014-01-01':]\n",
    "filtered_last_round_data.plot(figsize=(18, 3));"
   ]
  },
  {
   "cell_type": "code",
   "execution_count": 42,
   "metadata": {
    "slideshow": {
     "slide_type": "subslide"
    }
   },
   "outputs": [
    {
     "data": {
      "image/png": "[encoded data removed]",
      "text/plain": [
       "<Figure size 1080x216 with 1 Axes>"
      ]
     },
     "metadata": {},
     "output_type": "display_data"
    }
   ],
   "source": [
    "(\n",
    "    df.set_index(date)\n",
    "    .resample('1M')\n",
    "    ['last_round'].mean()\n",
    "    .fillna(0)\n",
    "    .loc['2014-01-01':]\n",
    "    .plot(figsize=(15, 3))\n",
    ");"
   ]
  },
  {
   "cell_type": "code",
   "execution_count": 43,
   "metadata": {
    "slideshow": {
     "slide_type": "subslide"
    }
   },
   "outputs": [
    {
     "data": {
      "text/html": [
       "<div>\n",
       "<style scoped>\n",
       "    .dataframe tbody tr th:only-of-type {\n",
       "        vertical-align: middle;\n",
       "    }\n",
       "\n",
       "    .dataframe tbody tr th {\n",
       "        vertical-align: top;\n",
       "    }\n",
       "\n",
       "    .dataframe thead th {\n",
       "        text-align: right;\n",
       "    }\n",
       "</style>\n",
       "<table border=\"1\" class=\"dataframe\">\n",
       "  <thead>\n",
       "    <tr style=\"text-align: right;\">\n",
       "      <th></th>\n",
       "      <th></th>\n",
       "      <th>last_round</th>\n",
       "    </tr>\n",
       "    <tr>\n",
       "      <th>date</th>\n",
       "      <th>cities</th>\n",
       "      <th></th>\n",
       "    </tr>\n",
       "  </thead>\n",
       "  <tbody>\n",
       "    <tr>\n",
       "      <th>1993-11-30</th>\n",
       "      <th>Denver</th>\n",
       "      <td>1.000000</td>\n",
       "    </tr>\n",
       "    <tr>\n",
       "      <th>1994-03-31</th>\n",
       "      <th>Denver</th>\n",
       "      <td>1.000000</td>\n",
       "    </tr>\n",
       "    <tr>\n",
       "      <th>1994-09-30</th>\n",
       "      <th>Charlotte</th>\n",
       "      <td>1.000000</td>\n",
       "    </tr>\n",
       "    <tr>\n",
       "      <th>1994-12-31</th>\n",
       "      <th>Tulsa</th>\n",
       "      <td>1.000000</td>\n",
       "    </tr>\n",
       "    <tr>\n",
       "      <th>1995-04-30</th>\n",
       "      <th>Charlotte</th>\n",
       "      <td>1.111111</td>\n",
       "    </tr>\n",
       "  </tbody>\n",
       "</table>\n",
       "</div>"
      ],
      "text/plain": [
       "                      last_round\n",
       "date       cities               \n",
       "1993-11-30 Denver       1.000000\n",
       "1994-03-31 Denver       1.000000\n",
       "1994-09-30 Charlotte    1.000000\n",
       "1994-12-31 Tulsa        1.000000\n",
       "1995-04-30 Charlotte    1.111111"
      ]
     },
     "execution_count": 43,
     "metadata": {},
     "output_type": "execute_result"
    }
   ],
   "source": [
    "#slicer = pd.IndexSliсe\n",
    "(\n",
    "    df.assign(cities = lambda x: x['location'].str.split(',').str[0])\n",
    "      .groupby([pd.Grouper(level=0, freq='1m'), 'cities'])\n",
    "      ['last_round']\n",
    "      .mean()\n",
    "      .to_frame()\n",
    "      #.loc[slicer['2014-01-01':, :], :]\n",
    "      .head()\n",
    ") "
   ]
  },
  {
   "cell_type": "markdown",
   "metadata": {
    "slideshow": {
     "slide_type": "slide"
    }
   },
   "source": [
    "### Pipelines"
   ]
  },
  {
   "cell_type": "code",
   "execution_count": 44,
   "metadata": {
    "slideshow": {
     "slide_type": "fragment"
    }
   },
   "outputs": [],
   "source": [
    "# Мы бы хотели делать так\n",
    "# (\n",
    "#   df.clean_dataset()\n",
    "#     .filter_data()\n",
    "#     .add_super_feauters()\n",
    "#     .make_cofee()\n",
    "# )"
   ]
  },
  {
   "cell_type": "code",
   "execution_count": 45,
   "metadata": {
    "slideshow": {
     "slide_type": "fragment"
    }
   },
   "outputs": [],
   "source": [
    "# Но делаем максимум так\n",
    "# clean_df = clean_dataset(df)\n",
    "# filtered_df = filter_data(clean_df)\n",
    "# super_df = add_super_feauters(filtered_df)\n",
    "# cofee = make_cofee(super_df)"
   ]
  },
  {
   "cell_type": "markdown",
   "metadata": {
    "slideshow": {
     "slide_type": "subslide"
    }
   },
   "source": [
    "Минусы:  \n",
    "    -  Больший расход памяти и времени\n",
    "    -  Искусственные переменные\n",
    "Плюсы:\n",
    "    -  Контролируемость процесса обработки данных\n",
    "    -  Дебаггинг"
   ]
  },
  {
   "cell_type": "code",
   "execution_count": 46,
   "metadata": {
    "slideshow": {
     "slide_type": "subslide"
    }
   },
   "outputs": [],
   "source": [
    "def make_smth_stange(df):\n",
    "    \"\"\"\n",
    "    DO SOMETHING\n",
    "    \"\"\"\n",
    "    return df"
   ]
  },
  {
   "cell_type": "code",
   "execution_count": 47,
   "metadata": {
    "slideshow": {
     "slide_type": "fragment"
    }
   },
   "outputs": [
    {
     "data": {
      "text/plain": [
       "True"
      ]
     },
     "execution_count": 47,
     "metadata": {},
     "output_type": "execute_result"
    }
   ],
   "source": [
    "result = df.pipe(make_smth_stange)\n",
    "result.equals(df)  "
   ]
  },
  {
   "cell_type": "code",
   "execution_count": 48,
   "metadata": {
    "slideshow": {
     "slide_type": "subslide"
    }
   },
   "outputs": [],
   "source": [
    "def filter_dataset(df):\n",
    "    return df.loc[:'2014'].query('B_fighter == \"Marlon Moraes\"')"
   ]
  },
  {
   "cell_type": "code",
   "execution_count": 49,
   "metadata": {
    "slideshow": {
     "slide_type": "fragment"
    }
   },
   "outputs": [
    {
     "data": {
      "text/html": [
       "<div>\n",
       "<style scoped>\n",
       "    .dataframe tbody tr th:only-of-type {\n",
       "        vertical-align: middle;\n",
       "    }\n",
       "\n",
       "    .dataframe tbody tr th {\n",
       "        vertical-align: top;\n",
       "    }\n",
       "\n",
       "    .dataframe thead th {\n",
       "        text-align: right;\n",
       "    }\n",
       "</style>\n",
       "<table border=\"1\" class=\"dataframe\">\n",
       "  <thead>\n",
       "    <tr style=\"text-align: right;\">\n",
       "      <th></th>\n",
       "      <th>R_fighter</th>\n",
       "      <th>B_fighter</th>\n",
       "      <th>R_KD</th>\n",
       "      <th>B_KD</th>\n",
       "      <th>R_SIG_STR.</th>\n",
       "      <th>B_SIG_STR.</th>\n",
       "      <th>R_SIG_STR_pct</th>\n",
       "      <th>B_SIG_STR_pct</th>\n",
       "      <th>R_TOTAL_STR.</th>\n",
       "      <th>B_TOTAL_STR.</th>\n",
       "      <th>...</th>\n",
       "      <th>B_GROUND</th>\n",
       "      <th>win_by</th>\n",
       "      <th>last_round</th>\n",
       "      <th>last_round_time</th>\n",
       "      <th>Format</th>\n",
       "      <th>Referee</th>\n",
       "      <th>date</th>\n",
       "      <th>location</th>\n",
       "      <th>Fight_type</th>\n",
       "      <th>Winner</th>\n",
       "    </tr>\n",
       "    <tr>\n",
       "      <th>date</th>\n",
       "      <th></th>\n",
       "      <th></th>\n",
       "      <th></th>\n",
       "      <th></th>\n",
       "      <th></th>\n",
       "      <th></th>\n",
       "      <th></th>\n",
       "      <th></th>\n",
       "      <th></th>\n",
       "      <th></th>\n",
       "      <th></th>\n",
       "      <th></th>\n",
       "      <th></th>\n",
       "      <th></th>\n",
       "      <th></th>\n",
       "      <th></th>\n",
       "      <th></th>\n",
       "      <th></th>\n",
       "      <th></th>\n",
       "      <th></th>\n",
       "      <th></th>\n",
       "    </tr>\n",
       "  </thead>\n",
       "  <tbody>\n",
       "    <tr>\n",
       "      <th>2019-06-08</th>\n",
       "      <td>Henry Cejudo</td>\n",
       "      <td>Marlon Moraes</td>\n",
       "      <td>0</td>\n",
       "      <td>0</td>\n",
       "      <td>90 of 171</td>\n",
       "      <td>57 of 119</td>\n",
       "      <td>52%</td>\n",
       "      <td>47%</td>\n",
       "      <td>99 of 182</td>\n",
       "      <td>59 of 121</td>\n",
       "      <td>...</td>\n",
       "      <td>1 of 1</td>\n",
       "      <td>KO/TKO</td>\n",
       "      <td>3</td>\n",
       "      <td>4:51</td>\n",
       "      <td>5 Rnd (5-5-5-5-5)</td>\n",
       "      <td>Marc Goddard</td>\n",
       "      <td>June 08, 2019</td>\n",
       "      <td>Chicago, Illinois, USA</td>\n",
       "      <td>UFC Bantamweight Title Bout</td>\n",
       "      <td>Henry Cejudo</td>\n",
       "    </tr>\n",
       "    <tr>\n",
       "      <th>2019-02-02</th>\n",
       "      <td>Raphael Assuncao</td>\n",
       "      <td>Marlon Moraes</td>\n",
       "      <td>0</td>\n",
       "      <td>1</td>\n",
       "      <td>2 of 12</td>\n",
       "      <td>10 of 23</td>\n",
       "      <td>16%</td>\n",
       "      <td>43%</td>\n",
       "      <td>3 of 13</td>\n",
       "      <td>12 of 25</td>\n",
       "      <td>...</td>\n",
       "      <td>3 of 5</td>\n",
       "      <td>Submission</td>\n",
       "      <td>1</td>\n",
       "      <td>3:17</td>\n",
       "      <td>5 Rnd (5-5-5-5-5)</td>\n",
       "      <td>Jason Herzog</td>\n",
       "      <td>February 02, 2019</td>\n",
       "      <td>Fortaleza, Ceara, Brazil</td>\n",
       "      <td>Bantamweight Bout</td>\n",
       "      <td>Marlon Moraes</td>\n",
       "    </tr>\n",
       "    <tr>\n",
       "      <th>2018-06-01</th>\n",
       "      <td>Jimmie Rivera</td>\n",
       "      <td>Marlon Moraes</td>\n",
       "      <td>0</td>\n",
       "      <td>1</td>\n",
       "      <td>0 of 3</td>\n",
       "      <td>7 of 9</td>\n",
       "      <td>0%</td>\n",
       "      <td>77%</td>\n",
       "      <td>0 of 3</td>\n",
       "      <td>7 of 9</td>\n",
       "      <td>...</td>\n",
       "      <td>5 of 6</td>\n",
       "      <td>KO/TKO</td>\n",
       "      <td>1</td>\n",
       "      <td>0:33</td>\n",
       "      <td>5 Rnd (5-5-5-5-5)</td>\n",
       "      <td>Dan Miragliotta</td>\n",
       "      <td>June 01, 2018</td>\n",
       "      <td>Utica, New York, USA</td>\n",
       "      <td>Bantamweight Bout</td>\n",
       "      <td>Marlon Moraes</td>\n",
       "    </tr>\n",
       "    <tr>\n",
       "      <th>2017-11-11</th>\n",
       "      <td>John Dodson</td>\n",
       "      <td>Marlon Moraes</td>\n",
       "      <td>1</td>\n",
       "      <td>0</td>\n",
       "      <td>43 of 105</td>\n",
       "      <td>45 of 131</td>\n",
       "      <td>40%</td>\n",
       "      <td>34%</td>\n",
       "      <td>47 of 109</td>\n",
       "      <td>45 of 131</td>\n",
       "      <td>...</td>\n",
       "      <td>0 of 0</td>\n",
       "      <td>Decision - Split</td>\n",
       "      <td>3</td>\n",
       "      <td>5:00</td>\n",
       "      <td>3 Rnd (5-5-5)</td>\n",
       "      <td>Bill Bookwalter</td>\n",
       "      <td>November 11, 2017</td>\n",
       "      <td>Norfolk, Virginia, USA</td>\n",
       "      <td>Bantamweight Bout</td>\n",
       "      <td>Marlon Moraes</td>\n",
       "    </tr>\n",
       "    <tr>\n",
       "      <th>2017-06-03</th>\n",
       "      <td>Raphael Assuncao</td>\n",
       "      <td>Marlon Moraes</td>\n",
       "      <td>0</td>\n",
       "      <td>0</td>\n",
       "      <td>43 of 134</td>\n",
       "      <td>44 of 150</td>\n",
       "      <td>32%</td>\n",
       "      <td>29%</td>\n",
       "      <td>43 of 134</td>\n",
       "      <td>44 of 150</td>\n",
       "      <td>...</td>\n",
       "      <td>0 of 0</td>\n",
       "      <td>Decision - Split</td>\n",
       "      <td>3</td>\n",
       "      <td>5:00</td>\n",
       "      <td>3 Rnd (5-5-5)</td>\n",
       "      <td>Osiris Maia</td>\n",
       "      <td>June 03, 2017</td>\n",
       "      <td>Rio de Janeiro, Rio de Janeiro, Brazil</td>\n",
       "      <td>Bantamweight Bout</td>\n",
       "      <td>Raphael Assuncao</td>\n",
       "    </tr>\n",
       "  </tbody>\n",
       "</table>\n",
       "<p>5 rows × 41 columns</p>\n",
       "</div>"
      ],
      "text/plain": [
       "                   R_fighter      B_fighter  R_KD  B_KD R_SIG_STR. B_SIG_STR.  \\\n",
       "date                                                                            \n",
       "2019-06-08      Henry Cejudo  Marlon Moraes     0     0  90 of 171  57 of 119   \n",
       "2019-02-02  Raphael Assuncao  Marlon Moraes     0     1    2 of 12   10 of 23   \n",
       "2018-06-01     Jimmie Rivera  Marlon Moraes     0     1     0 of 3     7 of 9   \n",
       "2017-11-11       John Dodson  Marlon Moraes     1     0  43 of 105  45 of 131   \n",
       "2017-06-03  Raphael Assuncao  Marlon Moraes     0     0  43 of 134  44 of 150   \n",
       "\n",
       "           R_SIG_STR_pct B_SIG_STR_pct R_TOTAL_STR. B_TOTAL_STR.  ...  \\\n",
       "date                                                              ...   \n",
       "2019-06-08           52%           47%    99 of 182    59 of 121  ...   \n",
       "2019-02-02           16%           43%      3 of 13     12 of 25  ...   \n",
       "2018-06-01            0%           77%       0 of 3       7 of 9  ...   \n",
       "2017-11-11           40%           34%    47 of 109    45 of 131  ...   \n",
       "2017-06-03           32%           29%    43 of 134    44 of 150  ...   \n",
       "\n",
       "           B_GROUND            win_by last_round last_round_time  \\\n",
       "date                                                               \n",
       "2019-06-08   1 of 1            KO/TKO          3            4:51   \n",
       "2019-02-02   3 of 5        Submission          1            3:17   \n",
       "2018-06-01   5 of 6            KO/TKO          1            0:33   \n",
       "2017-11-11   0 of 0  Decision - Split          3            5:00   \n",
       "2017-06-03   0 of 0  Decision - Split          3            5:00   \n",
       "\n",
       "                       Format          Referee               date  \\\n",
       "date                                                                \n",
       "2019-06-08  5 Rnd (5-5-5-5-5)     Marc Goddard      June 08, 2019   \n",
       "2019-02-02  5 Rnd (5-5-5-5-5)     Jason Herzog  February 02, 2019   \n",
       "2018-06-01  5 Rnd (5-5-5-5-5)  Dan Miragliotta      June 01, 2018   \n",
       "2017-11-11      3 Rnd (5-5-5)  Bill Bookwalter  November 11, 2017   \n",
       "2017-06-03      3 Rnd (5-5-5)      Osiris Maia      June 03, 2017   \n",
       "\n",
       "                                          location  \\\n",
       "date                                                 \n",
       "2019-06-08                  Chicago, Illinois, USA   \n",
       "2019-02-02                Fortaleza, Ceara, Brazil   \n",
       "2018-06-01                    Utica, New York, USA   \n",
       "2017-11-11                  Norfolk, Virginia, USA   \n",
       "2017-06-03  Rio de Janeiro, Rio de Janeiro, Brazil   \n",
       "\n",
       "                             Fight_type            Winner  \n",
       "date                                                       \n",
       "2019-06-08  UFC Bantamweight Title Bout      Henry Cejudo  \n",
       "2019-02-02            Bantamweight Bout     Marlon Moraes  \n",
       "2018-06-01            Bantamweight Bout     Marlon Moraes  \n",
       "2017-11-11            Bantamweight Bout     Marlon Moraes  \n",
       "2017-06-03            Bantamweight Bout  Raphael Assuncao  \n",
       "\n",
       "[5 rows x 41 columns]"
      ]
     },
     "execution_count": 49,
     "metadata": {},
     "output_type": "execute_result"
    }
   ],
   "source": [
    "df.pipe(filter_dataset)"
   ]
  },
  {
   "cell_type": "markdown",
   "metadata": {
    "slideshow": {
     "slide_type": "slide"
    }
   },
   "source": [
    "# Resources"
   ]
  },
  {
   "cell_type": "markdown",
   "metadata": {
    "slideshow": {
     "slide_type": "fragment"
    }
   },
   "source": [
    "Книга по Pandas и не только:  <br>\n",
    "https://jakevdp.github.io/PythonDataScienceHandbook/  <br>\n",
    "<br>\n",
    "Серия статей по продвинотому pandas:  <br>\n",
    "https://tomaugspurger.github.io/modern-1-intro<br>\n",
    "<br>\n",
    "Список туториалов от самого pandas:  <br>\n",
    "https://pandas.pydata.org/pandas-docs/stable/getting_started/tutorials.html<br>\n"
   ]
  },
  {
   "cell_type": "markdown",
   "metadata": {
    "slideshow": {
     "slide_type": "fragment"
    }
   },
   "source": [
    "Презентацию можно будет достать по ссылке:   \n",
    "https://github.com/carnotaur/pandas_tutorial"
   ]
  }
 ],
 "metadata": {
  "celltoolbar": "Slideshow",
  "kernelspec": {
   "display_name": "Python 3",
   "language": "python",
   "name": "python3"
  },
  "language_info": {
   "codemirror_mode": {
    "name": "ipython",
    "version": 3
   },
   "file_extension": ".py",
   "mimetype": "text/x-python",
   "name": "python",
   "nbconvert_exporter": "python",
   "pygments_lexer": "ipython3",
   "version": "3.6.8"
  }
 },
 "nbformat": 4,
 "nbformat_minor": 4
}

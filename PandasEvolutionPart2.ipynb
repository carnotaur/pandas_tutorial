{
 "cells": [
  {
   "cell_type": "markdown",
   "metadata": {
    "slideshow": {
     "slide_type": "-"
    }
   },
   "source": [
    "# <center> PANDAS : \n",
    "# <center> Эволюционный пинок - Часть 2\n",
    "   "
   ]
  },
  {
   "cell_type": "markdown",
   "metadata": {
    "slideshow": {
     "slide_type": "slide"
    }
   },
   "source": [
    "### <center> Панды\n",
    "Больша́я па́нда, или бамбу́ковый медве́дь (лат. Ailuropoda melanoleuca) — вид всеядных млекопитающих из семейства медвежьих со своеобразной чёрно-белой окраской шерсти, обладающих некоторыми признаками енотов. Единственный современный вид рода Ailuropus подсемейства Ailuropodinae. Большие панды обитают в горных регионах центрального Китая: Сычуань и Тибет.\n",
    "<center> <img src= \"imgs/external-content.duckduckgo.com.jpeg\" width=600></img>"
   ]
  },
  {
   "cell_type": "markdown",
   "metadata": {
    "slideshow": {
     "slide_type": "slide"
    }
   },
   "source": [
    "### <center> Pandas"
   ]
  },
  {
   "cell_type": "markdown",
   "metadata": {},
   "source": [
    "Загрузить данные и показать фрейм"
   ]
  },
  {
   "cell_type": "code",
   "execution_count": 15,
   "metadata": {
    "slideshow": {
     "slide_type": "fragment"
    }
   },
   "outputs": [
    {
     "data": {
      "text/html": [
       "<div>\n",
       "<style scoped>\n",
       "    .dataframe tbody tr th:only-of-type {\n",
       "        vertical-align: middle;\n",
       "    }\n",
       "\n",
       "    .dataframe tbody tr th {\n",
       "        vertical-align: top;\n",
       "    }\n",
       "\n",
       "    .dataframe thead th {\n",
       "        text-align: right;\n",
       "    }\n",
       "</style>\n",
       "<table border=\"1\" class=\"dataframe\">\n",
       "  <thead>\n",
       "    <tr style=\"text-align: right;\">\n",
       "      <th></th>\n",
       "      <th>R_fighter</th>\n",
       "      <th>B_fighter</th>\n",
       "      <th>R_KD</th>\n",
       "      <th>B_KD</th>\n",
       "      <th>R_SIG_STR.</th>\n",
       "      <th>B_SIG_STR.</th>\n",
       "      <th>R_SIG_STR_pct</th>\n",
       "      <th>B_SIG_STR_pct</th>\n",
       "      <th>R_TOTAL_STR.</th>\n",
       "      <th>B_TOTAL_STR.</th>\n",
       "      <th>...</th>\n",
       "      <th>B_GROUND</th>\n",
       "      <th>win_by</th>\n",
       "      <th>last_round</th>\n",
       "      <th>last_round_time</th>\n",
       "      <th>Format</th>\n",
       "      <th>Referee</th>\n",
       "      <th>date</th>\n",
       "      <th>location</th>\n",
       "      <th>Fight_type</th>\n",
       "      <th>Winner</th>\n",
       "    </tr>\n",
       "  </thead>\n",
       "  <tbody>\n",
       "    <tr>\n",
       "      <th>0</th>\n",
       "      <td>Henry Cejudo</td>\n",
       "      <td>Marlon Moraes</td>\n",
       "      <td>0</td>\n",
       "      <td>0</td>\n",
       "      <td>90 of 171</td>\n",
       "      <td>57 of 119</td>\n",
       "      <td>52%</td>\n",
       "      <td>47%</td>\n",
       "      <td>99 of 182</td>\n",
       "      <td>59 of 121</td>\n",
       "      <td>...</td>\n",
       "      <td>1 of 1</td>\n",
       "      <td>KO/TKO</td>\n",
       "      <td>3</td>\n",
       "      <td>4:51</td>\n",
       "      <td>5 Rnd (5-5-5-5-5)</td>\n",
       "      <td>Marc Goddard</td>\n",
       "      <td>June 08, 2019</td>\n",
       "      <td>Chicago, Illinois, USA</td>\n",
       "      <td>UFC Bantamweight Title Bout</td>\n",
       "      <td>Henry Cejudo</td>\n",
       "    </tr>\n",
       "    <tr>\n",
       "      <th>1</th>\n",
       "      <td>Valentina Shevchenko</td>\n",
       "      <td>Jessica Eye</td>\n",
       "      <td>1</td>\n",
       "      <td>0</td>\n",
       "      <td>8 of 11</td>\n",
       "      <td>2 of 12</td>\n",
       "      <td>72%</td>\n",
       "      <td>16%</td>\n",
       "      <td>37 of 40</td>\n",
       "      <td>42 of 52</td>\n",
       "      <td>...</td>\n",
       "      <td>0 of 0</td>\n",
       "      <td>KO/TKO</td>\n",
       "      <td>2</td>\n",
       "      <td>0:26</td>\n",
       "      <td>5 Rnd (5-5-5-5-5)</td>\n",
       "      <td>Robert Madrigal</td>\n",
       "      <td>June 08, 2019</td>\n",
       "      <td>Chicago, Illinois, USA</td>\n",
       "      <td>UFC Women's Flyweight Title Bout</td>\n",
       "      <td>Valentina Shevchenko</td>\n",
       "    </tr>\n",
       "    <tr>\n",
       "      <th>2</th>\n",
       "      <td>Tony Ferguson</td>\n",
       "      <td>Donald Cerrone</td>\n",
       "      <td>0</td>\n",
       "      <td>0</td>\n",
       "      <td>104 of 200</td>\n",
       "      <td>68 of 185</td>\n",
       "      <td>52%</td>\n",
       "      <td>36%</td>\n",
       "      <td>104 of 200</td>\n",
       "      <td>68 of 185</td>\n",
       "      <td>...</td>\n",
       "      <td>0 of 0</td>\n",
       "      <td>TKO - Doctor's Stoppage</td>\n",
       "      <td>2</td>\n",
       "      <td>5:00</td>\n",
       "      <td>3 Rnd (5-5-5)</td>\n",
       "      <td>Dan Miragliotta</td>\n",
       "      <td>June 08, 2019</td>\n",
       "      <td>Chicago, Illinois, USA</td>\n",
       "      <td>Lightweight Bout</td>\n",
       "      <td>Tony Ferguson</td>\n",
       "    </tr>\n",
       "    <tr>\n",
       "      <th>3</th>\n",
       "      <td>Jimmie Rivera</td>\n",
       "      <td>Petr Yan</td>\n",
       "      <td>0</td>\n",
       "      <td>2</td>\n",
       "      <td>73 of 192</td>\n",
       "      <td>56 of 189</td>\n",
       "      <td>38%</td>\n",
       "      <td>29%</td>\n",
       "      <td>76 of 195</td>\n",
       "      <td>58 of 192</td>\n",
       "      <td>...</td>\n",
       "      <td>4 of 10</td>\n",
       "      <td>Decision - Unanimous</td>\n",
       "      <td>3</td>\n",
       "      <td>5:00</td>\n",
       "      <td>3 Rnd (5-5-5)</td>\n",
       "      <td>Kevin MacDonald</td>\n",
       "      <td>June 08, 2019</td>\n",
       "      <td>Chicago, Illinois, USA</td>\n",
       "      <td>Bantamweight Bout</td>\n",
       "      <td>Petr Yan</td>\n",
       "    </tr>\n",
       "    <tr>\n",
       "      <th>4</th>\n",
       "      <td>Tai Tuivasa</td>\n",
       "      <td>Blagoy Ivanov</td>\n",
       "      <td>0</td>\n",
       "      <td>1</td>\n",
       "      <td>64 of 144</td>\n",
       "      <td>73 of 123</td>\n",
       "      <td>44%</td>\n",
       "      <td>59%</td>\n",
       "      <td>66 of 146</td>\n",
       "      <td>81 of 131</td>\n",
       "      <td>...</td>\n",
       "      <td>6 of 6</td>\n",
       "      <td>Decision - Unanimous</td>\n",
       "      <td>3</td>\n",
       "      <td>5:00</td>\n",
       "      <td>3 Rnd (5-5-5)</td>\n",
       "      <td>Dan Miragliotta</td>\n",
       "      <td>June 08, 2019</td>\n",
       "      <td>Chicago, Illinois, USA</td>\n",
       "      <td>Heavyweight Bout</td>\n",
       "      <td>Blagoy Ivanov</td>\n",
       "    </tr>\n",
       "  </tbody>\n",
       "</table>\n",
       "<p>5 rows × 41 columns</p>\n",
       "</div>"
      ],
      "text/plain": [
       "              R_fighter       B_fighter  R_KD  B_KD  R_SIG_STR. B_SIG_STR.  \\\n",
       "0          Henry Cejudo   Marlon Moraes     0     0   90 of 171  57 of 119   \n",
       "1  Valentina Shevchenko     Jessica Eye     1     0     8 of 11    2 of 12   \n",
       "2         Tony Ferguson  Donald Cerrone     0     0  104 of 200  68 of 185   \n",
       "3         Jimmie Rivera        Petr Yan     0     2   73 of 192  56 of 189   \n",
       "4           Tai Tuivasa   Blagoy Ivanov     0     1   64 of 144  73 of 123   \n",
       "\n",
       "  R_SIG_STR_pct B_SIG_STR_pct R_TOTAL_STR. B_TOTAL_STR.  ... B_GROUND  \\\n",
       "0           52%           47%    99 of 182    59 of 121  ...   1 of 1   \n",
       "1           72%           16%     37 of 40     42 of 52  ...   0 of 0   \n",
       "2           52%           36%   104 of 200    68 of 185  ...   0 of 0   \n",
       "3           38%           29%    76 of 195    58 of 192  ...  4 of 10   \n",
       "4           44%           59%    66 of 146    81 of 131  ...   6 of 6   \n",
       "\n",
       "                    win_by last_round last_round_time             Format  \\\n",
       "0                   KO/TKO          3            4:51  5 Rnd (5-5-5-5-5)   \n",
       "1                   KO/TKO          2            0:26  5 Rnd (5-5-5-5-5)   \n",
       "2  TKO - Doctor's Stoppage          2            5:00      3 Rnd (5-5-5)   \n",
       "3     Decision - Unanimous          3            5:00      3 Rnd (5-5-5)   \n",
       "4     Decision - Unanimous          3            5:00      3 Rnd (5-5-5)   \n",
       "\n",
       "           Referee           date                location  \\\n",
       "0     Marc Goddard  June 08, 2019  Chicago, Illinois, USA   \n",
       "1  Robert Madrigal  June 08, 2019  Chicago, Illinois, USA   \n",
       "2  Dan Miragliotta  June 08, 2019  Chicago, Illinois, USA   \n",
       "3  Kevin MacDonald  June 08, 2019  Chicago, Illinois, USA   \n",
       "4  Dan Miragliotta  June 08, 2019  Chicago, Illinois, USA   \n",
       "\n",
       "                         Fight_type                Winner  \n",
       "0       UFC Bantamweight Title Bout          Henry Cejudo  \n",
       "1  UFC Women's Flyweight Title Bout  Valentina Shevchenko  \n",
       "2                  Lightweight Bout         Tony Ferguson  \n",
       "3                 Bantamweight Bout              Petr Yan  \n",
       "4                  Heavyweight Bout         Blagoy Ivanov  \n",
       "\n",
       "[5 rows x 41 columns]"
      ]
     },
     "execution_count": 15,
     "metadata": {},
     "output_type": "execute_result"
    }
   ],
   "source": [
    "from pathlib import Path\n",
    "import pandas as pd\n",
    "data_dir = Path('data')\n",
    "path_data = data_dir.joinpath('raw_total_fight_data.csv')\n",
    "path = 'data/raw_total_fight_data.csv'\n",
    "df = pd.read_csv(path_data, delimiter=';')\n",
    "df.head()"
   ]
  },
  {
   "cell_type": "markdown",
   "metadata": {
    "slideshow": {
     "slide_type": "slide"
    }
   },
   "source": [
    "#### Первичный анализ"
   ]
  },
  {
   "cell_type": "markdown",
   "metadata": {},
   "source": [
    "Показать основную информацию"
   ]
  },
  {
   "cell_type": "code",
   "execution_count": null,
   "metadata": {},
   "outputs": [],
   "source": []
  },
  {
   "cell_type": "markdown",
   "metadata": {
    "slideshow": {
     "slide_type": "slide"
    }
   },
   "source": [
    "### Категории"
   ]
  },
  {
   "cell_type": "markdown",
   "metadata": {
    "slideshow": {
     "slide_type": "fragment"
    }
   },
   "source": [
    "<center> <img  src=\"imgs/4.jpeg\" width=800></img>"
   ]
  },
  {
   "cell_type": "code",
   "execution_count": 25,
   "metadata": {
    "slideshow": {
     "slide_type": "subslide"
    }
   },
   "outputs": [
    {
     "name": "stdout",
     "output_type": "stream",
     "text": [
      "R_fighter 1334\n",
      "B_fighter 1774\n",
      "R_SIG_STR. 3038\n",
      "B_SIG_STR. 2903\n",
      "R_SIG_STR_pct 95\n",
      "B_SIG_STR_pct 90\n",
      "R_TOTAL_STR. 3681\n",
      "B_TOTAL_STR. 3479\n",
      "R_TD 157\n",
      "B_TD 154\n",
      "R_TD_pct 69\n",
      "B_TD_pct 62\n",
      "R_HEAD 2620\n",
      "B_HEAD 2475\n",
      "R_BODY 541\n",
      "B_BODY 508\n",
      "R_LEG 393\n",
      "B_LEG 355\n",
      "R_DISTANCE 2382\n",
      "B_DISTANCE 2391\n",
      "R_CLINCH 472\n",
      "B_CLINCH 469\n",
      "R_GROUND 641\n",
      "B_GROUND 465\n",
      "win_by 10\n",
      "last_round_time 333\n",
      "Format 19\n",
      "Referee 190\n",
      "date 476\n",
      "location 157\n",
      "Fight_type 112\n",
      "Winner 1267\n"
     ]
    }
   ],
   "source": [
    "for column_name in df.select_dtypes(include='object'):\n",
    "    print(column_name, df[column_name].nunique())"
   ]
  },
  {
   "cell_type": "code",
   "execution_count": 20,
   "metadata": {
    "slideshow": {
     "slide_type": "subslide"
    }
   },
   "outputs": [
    {
     "name": "stdout",
     "output_type": "stream",
     "text": [
      "['KO/TKO', \"TKO - Doctor's Stoppage\", 'Decision - Unanimous', 'Submission', 'Decision - Split', 'Decision - Majority', 'DQ', 'Overturned', 'Could Not Continue', 'Other']\n"
     ]
    }
   ],
   "source": [
    "print(df['win_by'].unique().tolist())\n",
    "categories = [\n",
    "     'Не категория', # 0\n",
    "     'KO/TKO',  # 1\n",
    "     \"TKO - Doctor's Stoppage\",\n",
    "     'Decision - Unanimous',\n",
    "     'Submission',\n",
    "     'Decision - Split',\n",
    "     'Decision - Majority',\n",
    "     'DQ',\n",
    "     'Overturned',\n",
    "     'Could Not Continue',\n",
    "     'Other',\n",
    "    'MR'\n",
    "]"
   ]
  },
  {
   "cell_type": "markdown",
   "metadata": {},
   "source": [
    "Перевести в Категорию колонку win_by c помощью categories"
   ]
  },
  {
   "cell_type": "code",
   "execution_count": 28,
   "metadata": {
    "slideshow": {
     "slide_type": "subslide"
    }
   },
   "outputs": [
    {
     "data": {
      "text/plain": [
       "0                     KO/TKO\n",
       "1                     KO/TKO\n",
       "2    TKO - Doctor's Stoppage\n",
       "3       Decision - Unanimous\n",
       "4       Decision - Unanimous\n",
       "dtype: category\n",
       "Categories (12, object): [Не категория < KO/TKO < TKO - Doctor's Stoppage < Decision - Unanimous ... Overturned < Could Not Continue < Other < MR]"
      ]
     },
     "execution_count": 28,
     "metadata": {},
     "output_type": "execute_result"
    }
   ],
   "source": [
    "raw_cats = pd.Categorical(df['win_by'], categories=categories, ordered=True)\n",
    "win_by = pd.Series(raw_cats)\n",
    "win_by.head()"
   ]
  },
  {
   "cell_type": "markdown",
   "metadata": {
    "slideshow": {
     "slide_type": "subslide"
    }
   },
   "source": [
    "Ну или просто"
   ]
  },
  {
   "cell_type": "code",
   "execution_count": 31,
   "metadata": {
    "slideshow": {
     "slide_type": "fragment"
    }
   },
   "outputs": [
    {
     "data": {
      "text/plain": [
       "0                     KO/TKO\n",
       "1                     KO/TKO\n",
       "2    TKO - Doctor's Stoppage\n",
       "3       Decision - Unanimous\n",
       "4       Decision - Unanimous\n",
       "Name: win_by, dtype: category\n",
       "Categories (10, object): [Could Not Continue, DQ, Decision - Majority, Decision - Split, ..., Other, Overturned, Submission, TKO - Doctor's Stoppage]"
      ]
     },
     "execution_count": 31,
     "metadata": {},
     "output_type": "execute_result"
    }
   ],
   "source": [
    "df['win_by'].astype('category').head()"
   ]
  },
  {
   "cell_type": "code",
   "execution_count": 32,
   "metadata": {
    "slideshow": {
     "slide_type": "subslide"
    }
   },
   "outputs": [
    {
     "name": "stdout",
     "output_type": "stream",
     "text": [
      "Прежнее потребление памяти:  6291\n",
      "После конвертации  6480\n",
      "Улучшение в потребляемой памяти 0.97\n"
     ]
    }
   ],
   "source": [
    "old_mem_usage = df['win_by'].memory_usage(deep='True')\n",
    "new_mem_usage = win_by.memory_usage(deep='True')\n",
    "print('Прежнее потребление памяти: ', old_mem_usage)\n",
    "print('После конвертации ', new_mem_usage)\n",
    "print('Улучшение в потребляемой памяти {:.2f}'.format(old_mem_usage / new_mem_usage))"
   ]
  },
  {
   "cell_type": "markdown",
   "metadata": {
    "slideshow": {
     "slide_type": "slide"
    }
   },
   "source": [
    "### Resample"
   ]
  },
  {
   "cell_type": "markdown",
   "metadata": {
    "slideshow": {
     "slide_type": "fragment"
    }
   },
   "source": [
    "<center> <img src=\"imgs/pandalast.jpeg\" width=800>"
   ]
  },
  {
   "cell_type": "markdown",
   "metadata": {},
   "source": [
    "Конвертирование дат - конвертируйте в datetime с помощью метода to_datetime"
   ]
  },
  {
   "cell_type": "code",
   "execution_count": null,
   "metadata": {},
   "outputs": [],
   "source": []
  },
  {
   "cell_type": "markdown",
   "metadata": {},
   "source": [
    "Добавим как индекс"
   ]
  },
  {
   "cell_type": "code",
   "execution_count": null,
   "metadata": {
    "slideshow": {
     "slide_type": "subslide"
    }
   },
   "outputs": [],
   "source": []
  },
  {
   "cell_type": "markdown",
   "metadata": {},
   "source": [
    "Пример "
   ]
  },
  {
   "cell_type": "code",
   "execution_count": 37,
   "metadata": {
    "slideshow": {
     "slide_type": "subslide"
    }
   },
   "outputs": [
    {
     "data": {
      "text/plain": [
       "date\n",
       "2019-02-28    2.183673\n",
       "2019-03-31    2.451613\n",
       "2019-04-30    2.540541\n",
       "2019-05-31    2.567568\n",
       "2019-06-30    2.520000\n",
       "Freq: M, Name: last_round, dtype: float64"
      ]
     },
     "execution_count": 37,
     "metadata": {},
     "output_type": "execute_result"
    }
   ],
   "source": [
    "df.resample('1M')['last_round'].mean().tail(5)"
   ]
  },
  {
   "cell_type": "code",
   "execution_count": null,
   "metadata": {},
   "outputs": [],
   "source": [
    "# Теперь медиану"
   ]
  },
  {
   "cell_type": "code",
   "execution_count": null,
   "metadata": {},
   "outputs": [],
   "source": []
  },
  {
   "cell_type": "markdown",
   "metadata": {
    "slideshow": {
     "slide_type": "slide"
    }
   },
   "source": [
    "### Method Chaining"
   ]
  },
  {
   "cell_type": "markdown",
   "metadata": {
    "slideshow": {
     "slide_type": "fragment"
    }
   },
   "source": [
    "<center> <img src=\"imgs/redpanda.jpeg\" width=600>"
   ]
  },
  {
   "cell_type": "code",
   "execution_count": 38,
   "metadata": {
    "slideshow": {
     "slide_type": "subslide"
    }
   },
   "outputs": [],
   "source": [
    "%matplotlib inline\n",
    "import matplotlib.pyplot as plt\n",
    "import pandas as pd\n",
    "plt.style.use('seaborn')"
   ]
  },
  {
   "cell_type": "code",
   "execution_count": 39,
   "metadata": {
    "slideshow": {
     "slide_type": "subslide"
    }
   },
   "outputs": [
    {
     "data": {
      "image/png": "[encoded data removed]",
      "text/plain": [
       "<Figure size 1296x216 with 1 Axes>"
      ]
     },
     "metadata": {},
     "output_type": "display_data"
    }
   ],
   "source": [
    "df = df.set_index(date)\n",
    "last_round_data = df.resample('1M')['last_round'].mean()\n",
    "last_round_data = last_round_data.fillna(0)\n",
    "filtered_last_round_data = last_round_data['2014-01-01':]\n",
    "filtered_last_round_data.plot(figsize=(18, 3));"
   ]
  },
  {
   "cell_type": "code",
   "execution_count": 40,
   "metadata": {
    "slideshow": {
     "slide_type": "subslide"
    }
   },
   "outputs": [
    {
     "data": {
      "image/png": "[encoded data removed]",
      "text/plain": [
       "<Figure size 1080x216 with 1 Axes>"
      ]
     },
     "metadata": {},
     "output_type": "display_data"
    }
   ],
   "source": [
    "(\n",
    "    df.set_index(date)\n",
    "    .resample('1M')\n",
    "    ['last_round'].mean()\n",
    "    .fillna(0)\n",
    "    .loc['2014-01-01':]\n",
    "    .plot(figsize=(15, 3))\n",
    ");"
   ]
  },
  {
   "cell_type": "markdown",
   "metadata": {},
   "source": [
    "1. Создать колонку cities из location - 0 колонка внутри\n",
    "2. Двухурвневая группировка - а) Время, по минутам б) cities\n",
    "3. Среднее last_round\n",
    "4. to frame\n",
    "5. Взять только с 2014 года - slicer\n",
    "6. Голова"
   ]
  },
  {
   "cell_type": "code",
   "execution_count": 57,
   "metadata": {},
   "outputs": [],
   "source": [
    "slicer = pd.IndexSlice"
   ]
  },
  {
   "cell_type": "code",
   "execution_count": 56,
   "metadata": {},
   "outputs": [
    {
     "data": {
      "text/html": [
       "<div>\n",
       "<style scoped>\n",
       "    .dataframe tbody tr th:only-of-type {\n",
       "        vertical-align: middle;\n",
       "    }\n",
       "\n",
       "    .dataframe tbody tr th {\n",
       "        vertical-align: top;\n",
       "    }\n",
       "\n",
       "    .dataframe thead th {\n",
       "        text-align: right;\n",
       "    }\n",
       "</style>\n",
       "<table border=\"1\" class=\"dataframe\">\n",
       "  <thead>\n",
       "    <tr style=\"text-align: right;\">\n",
       "      <th></th>\n",
       "      <th></th>\n",
       "      <th>last_round</th>\n",
       "    </tr>\n",
       "    <tr>\n",
       "      <th>date</th>\n",
       "      <th>cities</th>\n",
       "      <th></th>\n",
       "    </tr>\n",
       "  </thead>\n",
       "  <tbody>\n",
       "    <tr>\n",
       "      <th rowspan=\"3\" valign=\"top\">2014-01-31</th>\n",
       "      <th>Chicago</th>\n",
       "      <td>2.636364</td>\n",
       "    </tr>\n",
       "    <tr>\n",
       "      <th>Duluth</th>\n",
       "      <td>2.583333</td>\n",
       "    </tr>\n",
       "    <tr>\n",
       "      <th>Singapore</th>\n",
       "      <td>2.500000</td>\n",
       "    </tr>\n",
       "    <tr>\n",
       "      <th rowspan=\"2\" valign=\"top\">2014-02-28</th>\n",
       "      <th>Jaragua do Sul</th>\n",
       "      <td>3.000000</td>\n",
       "    </tr>\n",
       "    <tr>\n",
       "      <th>Las Vegas</th>\n",
       "      <td>2.272727</td>\n",
       "    </tr>\n",
       "  </tbody>\n",
       "</table>\n",
       "</div>"
      ],
      "text/plain": [
       "                           last_round\n",
       "date       cities                    \n",
       "2014-01-31 Chicago           2.636364\n",
       "           Duluth            2.583333\n",
       "           Singapore         2.500000\n",
       "2014-02-28 Jaragua do Sul    3.000000\n",
       "           Las Vegas         2.272727"
      ]
     },
     "execution_count": 56,
     "metadata": {},
     "output_type": "execute_result"
    }
   ],
   "source": []
  },
  {
   "cell_type": "markdown",
   "metadata": {
    "slideshow": {
     "slide_type": "slide"
    }
   },
   "source": [
    "### Pipelines"
   ]
  },
  {
   "cell_type": "code",
   "execution_count": 58,
   "metadata": {
    "slideshow": {
     "slide_type": "fragment"
    }
   },
   "outputs": [],
   "source": [
    "# Мы бы хотели делать так\n",
    "# (\n",
    "#   df.clean_dataset()\n",
    "#     .filter_data()\n",
    "#     .add_super_feauters()\n",
    "#     .make_cofee()\n",
    "# )"
   ]
  },
  {
   "cell_type": "code",
   "execution_count": 45,
   "metadata": {
    "slideshow": {
     "slide_type": "fragment"
    }
   },
   "outputs": [],
   "source": [
    "# Но делаем максимум так\n",
    "# clean_df = clean_dataset(df)\n",
    "# filtered_df = filter_data(clean_df)\n",
    "# super_df = add_super_feauters(filtered_df)\n",
    "# cofee = make_cofee(super_df)"
   ]
  },
  {
   "cell_type": "markdown",
   "metadata": {
    "slideshow": {
     "slide_type": "subslide"
    }
   },
   "source": [
    "Минусы:  \n",
    "    -  Больший расход памяти и времени\n",
    "    -  Искусственные переменные\n",
    "Плюсы:\n",
    "    -  Контролируемость процесса обработки данных\n",
    "    -  Дебаггинг"
   ]
  },
  {
   "cell_type": "code",
   "execution_count": 59,
   "metadata": {
    "slideshow": {
     "slide_type": "subslide"
    }
   },
   "outputs": [],
   "source": [
    "def make_smth_stange(df):\n",
    "    \"\"\"\n",
    "    DO SOMETHING\n",
    "    \"\"\"\n",
    "    return df"
   ]
  },
  {
   "cell_type": "code",
   "execution_count": 60,
   "metadata": {
    "slideshow": {
     "slide_type": "fragment"
    }
   },
   "outputs": [
    {
     "data": {
      "text/plain": [
       "True"
      ]
     },
     "execution_count": 60,
     "metadata": {},
     "output_type": "execute_result"
    }
   ],
   "source": [
    "result = df.pipe(make_smth_stange)\n",
    "result.equals(df)  "
   ]
  },
  {
   "cell_type": "code",
   "execution_count": 61,
   "metadata": {
    "slideshow": {
     "slide_type": "subslide"
    }
   },
   "outputs": [],
   "source": [
    "def filter_dataset(df):\n",
    "    return df.loc[:'2014'].query('B_fighter == \"Marlon Moraes\"')"
   ]
  },
  {
   "cell_type": "code",
   "execution_count": 62,
   "metadata": {
    "slideshow": {
     "slide_type": "fragment"
    }
   },
   "outputs": [
    {
     "data": {
      "text/html": [
       "<div>\n",
       "<style scoped>\n",
       "    .dataframe tbody tr th:only-of-type {\n",
       "        vertical-align: middle;\n",
       "    }\n",
       "\n",
       "    .dataframe tbody tr th {\n",
       "        vertical-align: top;\n",
       "    }\n",
       "\n",
       "    .dataframe thead th {\n",
       "        text-align: right;\n",
       "    }\n",
       "</style>\n",
       "<table border=\"1\" class=\"dataframe\">\n",
       "  <thead>\n",
       "    <tr style=\"text-align: right;\">\n",
       "      <th></th>\n",
       "      <th>R_fighter</th>\n",
       "      <th>B_fighter</th>\n",
       "      <th>R_KD</th>\n",
       "      <th>B_KD</th>\n",
       "      <th>R_SIG_STR.</th>\n",
       "      <th>B_SIG_STR.</th>\n",
       "      <th>R_SIG_STR_pct</th>\n",
       "      <th>B_SIG_STR_pct</th>\n",
       "      <th>R_TOTAL_STR.</th>\n",
       "      <th>B_TOTAL_STR.</th>\n",
       "      <th>...</th>\n",
       "      <th>B_GROUND</th>\n",
       "      <th>win_by</th>\n",
       "      <th>last_round</th>\n",
       "      <th>last_round_time</th>\n",
       "      <th>Format</th>\n",
       "      <th>Referee</th>\n",
       "      <th>date</th>\n",
       "      <th>location</th>\n",
       "      <th>Fight_type</th>\n",
       "      <th>Winner</th>\n",
       "    </tr>\n",
       "    <tr>\n",
       "      <th>date</th>\n",
       "      <th></th>\n",
       "      <th></th>\n",
       "      <th></th>\n",
       "      <th></th>\n",
       "      <th></th>\n",
       "      <th></th>\n",
       "      <th></th>\n",
       "      <th></th>\n",
       "      <th></th>\n",
       "      <th></th>\n",
       "      <th></th>\n",
       "      <th></th>\n",
       "      <th></th>\n",
       "      <th></th>\n",
       "      <th></th>\n",
       "      <th></th>\n",
       "      <th></th>\n",
       "      <th></th>\n",
       "      <th></th>\n",
       "      <th></th>\n",
       "      <th></th>\n",
       "    </tr>\n",
       "  </thead>\n",
       "  <tbody>\n",
       "    <tr>\n",
       "      <th>2019-06-08</th>\n",
       "      <td>Henry Cejudo</td>\n",
       "      <td>Marlon Moraes</td>\n",
       "      <td>0</td>\n",
       "      <td>0</td>\n",
       "      <td>90 of 171</td>\n",
       "      <td>57 of 119</td>\n",
       "      <td>52%</td>\n",
       "      <td>47%</td>\n",
       "      <td>99 of 182</td>\n",
       "      <td>59 of 121</td>\n",
       "      <td>...</td>\n",
       "      <td>1 of 1</td>\n",
       "      <td>KO/TKO</td>\n",
       "      <td>3</td>\n",
       "      <td>4:51</td>\n",
       "      <td>5 Rnd (5-5-5-5-5)</td>\n",
       "      <td>Marc Goddard</td>\n",
       "      <td>June 08, 2019</td>\n",
       "      <td>Chicago, Illinois, USA</td>\n",
       "      <td>UFC Bantamweight Title Bout</td>\n",
       "      <td>Henry Cejudo</td>\n",
       "    </tr>\n",
       "    <tr>\n",
       "      <th>2019-02-02</th>\n",
       "      <td>Raphael Assuncao</td>\n",
       "      <td>Marlon Moraes</td>\n",
       "      <td>0</td>\n",
       "      <td>1</td>\n",
       "      <td>2 of 12</td>\n",
       "      <td>10 of 23</td>\n",
       "      <td>16%</td>\n",
       "      <td>43%</td>\n",
       "      <td>3 of 13</td>\n",
       "      <td>12 of 25</td>\n",
       "      <td>...</td>\n",
       "      <td>3 of 5</td>\n",
       "      <td>Submission</td>\n",
       "      <td>1</td>\n",
       "      <td>3:17</td>\n",
       "      <td>5 Rnd (5-5-5-5-5)</td>\n",
       "      <td>Jason Herzog</td>\n",
       "      <td>February 02, 2019</td>\n",
       "      <td>Fortaleza, Ceara, Brazil</td>\n",
       "      <td>Bantamweight Bout</td>\n",
       "      <td>Marlon Moraes</td>\n",
       "    </tr>\n",
       "    <tr>\n",
       "      <th>2018-06-01</th>\n",
       "      <td>Jimmie Rivera</td>\n",
       "      <td>Marlon Moraes</td>\n",
       "      <td>0</td>\n",
       "      <td>1</td>\n",
       "      <td>0 of 3</td>\n",
       "      <td>7 of 9</td>\n",
       "      <td>0%</td>\n",
       "      <td>77%</td>\n",
       "      <td>0 of 3</td>\n",
       "      <td>7 of 9</td>\n",
       "      <td>...</td>\n",
       "      <td>5 of 6</td>\n",
       "      <td>KO/TKO</td>\n",
       "      <td>1</td>\n",
       "      <td>0:33</td>\n",
       "      <td>5 Rnd (5-5-5-5-5)</td>\n",
       "      <td>Dan Miragliotta</td>\n",
       "      <td>June 01, 2018</td>\n",
       "      <td>Utica, New York, USA</td>\n",
       "      <td>Bantamweight Bout</td>\n",
       "      <td>Marlon Moraes</td>\n",
       "    </tr>\n",
       "    <tr>\n",
       "      <th>2017-11-11</th>\n",
       "      <td>John Dodson</td>\n",
       "      <td>Marlon Moraes</td>\n",
       "      <td>1</td>\n",
       "      <td>0</td>\n",
       "      <td>43 of 105</td>\n",
       "      <td>45 of 131</td>\n",
       "      <td>40%</td>\n",
       "      <td>34%</td>\n",
       "      <td>47 of 109</td>\n",
       "      <td>45 of 131</td>\n",
       "      <td>...</td>\n",
       "      <td>0 of 0</td>\n",
       "      <td>Decision - Split</td>\n",
       "      <td>3</td>\n",
       "      <td>5:00</td>\n",
       "      <td>3 Rnd (5-5-5)</td>\n",
       "      <td>Bill Bookwalter</td>\n",
       "      <td>November 11, 2017</td>\n",
       "      <td>Norfolk, Virginia, USA</td>\n",
       "      <td>Bantamweight Bout</td>\n",
       "      <td>Marlon Moraes</td>\n",
       "    </tr>\n",
       "    <tr>\n",
       "      <th>2017-06-03</th>\n",
       "      <td>Raphael Assuncao</td>\n",
       "      <td>Marlon Moraes</td>\n",
       "      <td>0</td>\n",
       "      <td>0</td>\n",
       "      <td>43 of 134</td>\n",
       "      <td>44 of 150</td>\n",
       "      <td>32%</td>\n",
       "      <td>29%</td>\n",
       "      <td>43 of 134</td>\n",
       "      <td>44 of 150</td>\n",
       "      <td>...</td>\n",
       "      <td>0 of 0</td>\n",
       "      <td>Decision - Split</td>\n",
       "      <td>3</td>\n",
       "      <td>5:00</td>\n",
       "      <td>3 Rnd (5-5-5)</td>\n",
       "      <td>Osiris Maia</td>\n",
       "      <td>June 03, 2017</td>\n",
       "      <td>Rio de Janeiro, Rio de Janeiro, Brazil</td>\n",
       "      <td>Bantamweight Bout</td>\n",
       "      <td>Raphael Assuncao</td>\n",
       "    </tr>\n",
       "  </tbody>\n",
       "</table>\n",
       "<p>5 rows × 41 columns</p>\n",
       "</div>"
      ],
      "text/plain": [
       "                   R_fighter      B_fighter  R_KD  B_KD R_SIG_STR. B_SIG_STR.  \\\n",
       "date                                                                            \n",
       "2019-06-08      Henry Cejudo  Marlon Moraes     0     0  90 of 171  57 of 119   \n",
       "2019-02-02  Raphael Assuncao  Marlon Moraes     0     1    2 of 12   10 of 23   \n",
       "2018-06-01     Jimmie Rivera  Marlon Moraes     0     1     0 of 3     7 of 9   \n",
       "2017-11-11       John Dodson  Marlon Moraes     1     0  43 of 105  45 of 131   \n",
       "2017-06-03  Raphael Assuncao  Marlon Moraes     0     0  43 of 134  44 of 150   \n",
       "\n",
       "           R_SIG_STR_pct B_SIG_STR_pct R_TOTAL_STR. B_TOTAL_STR.  ...  \\\n",
       "date                                                              ...   \n",
       "2019-06-08           52%           47%    99 of 182    59 of 121  ...   \n",
       "2019-02-02           16%           43%      3 of 13     12 of 25  ...   \n",
       "2018-06-01            0%           77%       0 of 3       7 of 9  ...   \n",
       "2017-11-11           40%           34%    47 of 109    45 of 131  ...   \n",
       "2017-06-03           32%           29%    43 of 134    44 of 150  ...   \n",
       "\n",
       "           B_GROUND            win_by last_round last_round_time  \\\n",
       "date                                                               \n",
       "2019-06-08   1 of 1            KO/TKO          3            4:51   \n",
       "2019-02-02   3 of 5        Submission          1            3:17   \n",
       "2018-06-01   5 of 6            KO/TKO          1            0:33   \n",
       "2017-11-11   0 of 0  Decision - Split          3            5:00   \n",
       "2017-06-03   0 of 0  Decision - Split          3            5:00   \n",
       "\n",
       "                       Format          Referee               date  \\\n",
       "date                                                                \n",
       "2019-06-08  5 Rnd (5-5-5-5-5)     Marc Goddard      June 08, 2019   \n",
       "2019-02-02  5 Rnd (5-5-5-5-5)     Jason Herzog  February 02, 2019   \n",
       "2018-06-01  5 Rnd (5-5-5-5-5)  Dan Miragliotta      June 01, 2018   \n",
       "2017-11-11      3 Rnd (5-5-5)  Bill Bookwalter  November 11, 2017   \n",
       "2017-06-03      3 Rnd (5-5-5)      Osiris Maia      June 03, 2017   \n",
       "\n",
       "                                          location  \\\n",
       "date                                                 \n",
       "2019-06-08                  Chicago, Illinois, USA   \n",
       "2019-02-02                Fortaleza, Ceara, Brazil   \n",
       "2018-06-01                    Utica, New York, USA   \n",
       "2017-11-11                  Norfolk, Virginia, USA   \n",
       "2017-06-03  Rio de Janeiro, Rio de Janeiro, Brazil   \n",
       "\n",
       "                             Fight_type            Winner  \n",
       "date                                                       \n",
       "2019-06-08  UFC Bantamweight Title Bout      Henry Cejudo  \n",
       "2019-02-02            Bantamweight Bout     Marlon Moraes  \n",
       "2018-06-01            Bantamweight Bout     Marlon Moraes  \n",
       "2017-11-11            Bantamweight Bout     Marlon Moraes  \n",
       "2017-06-03            Bantamweight Bout  Raphael Assuncao  \n",
       "\n",
       "[5 rows x 41 columns]"
      ]
     },
     "execution_count": 62,
     "metadata": {},
     "output_type": "execute_result"
    }
   ],
   "source": [
    "df.pipe(filter_dataset)"
   ]
  },
  {
   "cell_type": "markdown",
   "metadata": {},
   "source": [
    "Simulation"
   ]
  },
  {
   "cell_type": "code",
   "execution_count": 88,
   "metadata": {},
   "outputs": [],
   "source": [
    "def get_linear_birth_rates(birth_rate: float, \n",
    "                    forecast_duration: int, \n",
    "                    change_factor: float, \n",
    "                    min_fertility: float):\n",
    "    \"\"\"\n",
    "        Возвращает список crude birth rate по периодам \n",
    "        на будущие forecast_duration периодов\n",
    "    \"\"\"\n",
    "    birth_rates = []\n",
    "    for _ in range(forecast_duration):\n",
    "        birth_rate *= change_factor\n",
    "        if birth_rate <= min_fertility:\n",
    "            birth_rate = min_fertility\n",
    "        birth_rates.append(birth_rate)\n",
    "\n",
    "    return birth_rates"
   ]
  },
  {
   "cell_type": "code",
   "execution_count": 125,
   "metadata": {},
   "outputs": [],
   "source": [
    "def population_change(forecast_duration: int, \n",
    "                      init_birth_rate: float, \n",
    "                      init_death_rate: float, \n",
    "                      init_pop_size: int, \n",
    "                      change_factor: float, \n",
    "                      min_fertility: float ) -> list:\n",
    "    \"\"\"\n",
    "        Предсказывает изменения в росте популяции\n",
    "    \"\"\"\n",
    "    population_size = int(init_pop_size)\n",
    "    pops = []\n",
    "    \n",
    "    birth_rates = get_linear_birth_rates(\n",
    "        init_birth_rate, \n",
    "        forecast_duration,\n",
    "        change_factor,\n",
    "        min_fertility\n",
    "    )\n",
    "    print(birth_rates[-1])\n",
    "    for year in range(forecast_duration):\n",
    "        total_birth = birth_rates[year] * population_size \n",
    "        total_death = init_death_rate * population_size\n",
    "        difference = total_birth - total_death\n",
    "        population_size += difference\n",
    "        population_size = population_size\n",
    "        pops.append(population_size)\n",
    "    return pops, birth_rates"
   ]
  },
  {
   "cell_type": "code",
   "execution_count": 126,
   "metadata": {},
   "outputs": [
    {
     "data": {
      "text/plain": [
       "(0.99, 0.96)"
      ]
     },
     "execution_count": 126,
     "metadata": {},
     "output_type": "execute_result"
    }
   ],
   "source": [
    "# EUROPE\n",
    "ITALY_FERTILITY_CHANGE = 0.96\n",
    "ITALY_DEATH_RATE = 0.015    # as in Italy 2019\n",
    "ITALY_BIRTH_RATE = 0.007    # Italy 2019\n",
    "ITALY_INIT_POP_SIZE = 54 * 10 **6\n",
    "ITALY_MIN_FERTILITY_RATE = 0.003\n",
    "\n",
    "# MUSLIM\n",
    "MUSLIM_FERTILITY_CHANGE = 0.99 \n",
    "MUSLIM_DEATH_RATE = 0.005    # as in Egypt 2017\n",
    "MUSLIM_BIRTH_RATE = 0.027     # Egypt 2017\n",
    "MUSLIM_INIT_POP_SIZE = 1.6 * 10 ** 6     # Pew Research 2016\n",
    "MUSLIM_MIN_FERTILITY = 0.01\n",
    "MUSLIM_FERTILITY_CHANGE, ITALY_FERTILITY_CHANGE"
   ]
  },
  {
   "cell_type": "code",
   "execution_count": 127,
   "metadata": {},
   "outputs": [],
   "source": [
    "import matplotlib.pyplot as plt\n",
    "plt.style.use('seaborn')"
   ]
  },
  {
   "cell_type": "code",
   "execution_count": 133,
   "metadata": {},
   "outputs": [
    {
     "name": "stdout",
     "output_type": "stream",
     "text": [
      "0.003\n",
      "0.01\n",
      "Inital Share of Muslim Population  2.88%\n",
      "Forecasted Share of Muslim Population  23.88%\n",
      "Italy population 16707169\n",
      "Muslim population 5240906\n"
     ]
    }
   ],
   "source": [
    "forecast_duration = 100    # in years\n",
    "\n",
    "italy_pop, italy_birth_rates = population_change(forecast_duration, \n",
    "                        ITALY_BIRTH_RATE, \n",
    "                        ITALY_DEATH_RATE, \n",
    "                        ITALY_INIT_POP_SIZE, \n",
    "                        ITALY_FERTILITY_CHANGE, \n",
    "                        ITALY_MIN_FERTILITY_RATE)\n",
    "\n",
    "muslim_pop, muslim_birth_rates = population_change(forecast_duration, \n",
    "                        MUSLIM_BIRTH_RATE, \n",
    "                        MUSLIM_DEATH_RATE, \n",
    "                        MUSLIM_INIT_POP_SIZE, \n",
    "                        MUSLIM_FERTILITY_CHANGE, \n",
    "                        MUSLIM_MIN_FERTILITY)\n",
    "\n",
    "init_share = MUSLIM_INIT_POP_SIZE / (MUSLIM_INIT_POP_SIZE + ITALY_INIT_POP_SIZE)\n",
    "new_share = muslim_pop[-1] / (muslim_pop[-1] + italy_pop[-1])\n",
    "print(f'Inital Share of Muslim Population {init_share: .2%}')\n",
    "print(f'Forecasted Share of Muslim Population {new_share: .2%}')\n",
    "print(f'Italy population {int(italy_pop[-1])}',)\n",
    "print(f'Muslim population {int(muslim_pop[-1])}', )"
   ]
  },
  {
   "cell_type": "markdown",
   "metadata": {},
   "source": [
    "Давайте построим график"
   ]
  },
  {
   "cell_type": "code",
   "execution_count": null,
   "metadata": {},
   "outputs": [],
   "source": []
  },
  {
   "cell_type": "markdown",
   "metadata": {},
   "source": [
    "Для birth rates теперь"
   ]
  },
  {
   "cell_type": "code",
   "execution_count": null,
   "metadata": {},
   "outputs": [],
   "source": []
  },
  {
   "cell_type": "markdown",
   "metadata": {},
   "source": [
    "Санализируем настоящие данные"
   ]
  },
  {
   "cell_type": "code",
   "execution_count": 143,
   "metadata": {},
   "outputs": [
    {
     "data": {
      "text/html": [
       "<div>\n",
       "<style scoped>\n",
       "    .dataframe tbody tr th:only-of-type {\n",
       "        vertical-align: middle;\n",
       "    }\n",
       "\n",
       "    .dataframe tbody tr th {\n",
       "        vertical-align: top;\n",
       "    }\n",
       "\n",
       "    .dataframe thead th {\n",
       "        text-align: right;\n",
       "    }\n",
       "</style>\n",
       "<table border=\"1\" class=\"dataframe\">\n",
       "  <thead>\n",
       "    <tr style=\"text-align: right;\">\n",
       "      <th></th>\n",
       "      <th>Country Name</th>\n",
       "      <th>Country Code</th>\n",
       "      <th>Indicator Name</th>\n",
       "      <th>Indicator Code</th>\n",
       "      <th>1960</th>\n",
       "      <th>1961</th>\n",
       "      <th>1962</th>\n",
       "      <th>1963</th>\n",
       "      <th>1964</th>\n",
       "      <th>1965</th>\n",
       "      <th>...</th>\n",
       "      <th>2010</th>\n",
       "      <th>2011</th>\n",
       "      <th>2012</th>\n",
       "      <th>2013</th>\n",
       "      <th>2014</th>\n",
       "      <th>2015</th>\n",
       "      <th>2016</th>\n",
       "      <th>2017</th>\n",
       "      <th>2018</th>\n",
       "      <th>2019</th>\n",
       "    </tr>\n",
       "  </thead>\n",
       "  <tbody>\n",
       "    <tr>\n",
       "      <th>0</th>\n",
       "      <td>Aruba</td>\n",
       "      <td>ABW</td>\n",
       "      <td>Fertility rate, total (births per woman)</td>\n",
       "      <td>SP.DYN.TFRT.IN</td>\n",
       "      <td>4.820</td>\n",
       "      <td>4.655</td>\n",
       "      <td>4.471</td>\n",
       "      <td>4.271</td>\n",
       "      <td>4.059</td>\n",
       "      <td>3.842</td>\n",
       "      <td>...</td>\n",
       "      <td>1.768</td>\n",
       "      <td>1.779</td>\n",
       "      <td>1.795</td>\n",
       "      <td>1.813</td>\n",
       "      <td>1.834</td>\n",
       "      <td>1.854</td>\n",
       "      <td>1.872</td>\n",
       "      <td>1.886</td>\n",
       "      <td>1.896</td>\n",
       "      <td>NaN</td>\n",
       "    </tr>\n",
       "    <tr>\n",
       "      <th>1</th>\n",
       "      <td>Afghanistan</td>\n",
       "      <td>AFG</td>\n",
       "      <td>Fertility rate, total (births per woman)</td>\n",
       "      <td>SP.DYN.TFRT.IN</td>\n",
       "      <td>7.450</td>\n",
       "      <td>7.450</td>\n",
       "      <td>7.450</td>\n",
       "      <td>7.450</td>\n",
       "      <td>7.450</td>\n",
       "      <td>7.450</td>\n",
       "      <td>...</td>\n",
       "      <td>5.977</td>\n",
       "      <td>5.770</td>\n",
       "      <td>5.562</td>\n",
       "      <td>5.359</td>\n",
       "      <td>5.163</td>\n",
       "      <td>4.976</td>\n",
       "      <td>4.800</td>\n",
       "      <td>4.633</td>\n",
       "      <td>4.473</td>\n",
       "      <td>NaN</td>\n",
       "    </tr>\n",
       "    <tr>\n",
       "      <th>2</th>\n",
       "      <td>Angola</td>\n",
       "      <td>AGO</td>\n",
       "      <td>Fertility rate, total (births per woman)</td>\n",
       "      <td>SP.DYN.TFRT.IN</td>\n",
       "      <td>6.708</td>\n",
       "      <td>6.790</td>\n",
       "      <td>6.872</td>\n",
       "      <td>6.954</td>\n",
       "      <td>7.036</td>\n",
       "      <td>7.116</td>\n",
       "      <td>...</td>\n",
       "      <td>6.194</td>\n",
       "      <td>6.120</td>\n",
       "      <td>6.039</td>\n",
       "      <td>5.953</td>\n",
       "      <td>5.864</td>\n",
       "      <td>5.774</td>\n",
       "      <td>5.686</td>\n",
       "      <td>5.600</td>\n",
       "      <td>5.519</td>\n",
       "      <td>NaN</td>\n",
       "    </tr>\n",
       "    <tr>\n",
       "      <th>3</th>\n",
       "      <td>Albania</td>\n",
       "      <td>ALB</td>\n",
       "      <td>Fertility rate, total (births per woman)</td>\n",
       "      <td>SP.DYN.TFRT.IN</td>\n",
       "      <td>6.489</td>\n",
       "      <td>6.401</td>\n",
       "      <td>6.282</td>\n",
       "      <td>6.133</td>\n",
       "      <td>5.960</td>\n",
       "      <td>5.773</td>\n",
       "      <td>...</td>\n",
       "      <td>1.660</td>\n",
       "      <td>1.673</td>\n",
       "      <td>1.684</td>\n",
       "      <td>1.690</td>\n",
       "      <td>1.688</td>\n",
       "      <td>1.677</td>\n",
       "      <td>1.659</td>\n",
       "      <td>1.638</td>\n",
       "      <td>1.617</td>\n",
       "      <td>NaN</td>\n",
       "    </tr>\n",
       "    <tr>\n",
       "      <th>4</th>\n",
       "      <td>Andorra</td>\n",
       "      <td>AND</td>\n",
       "      <td>Fertility rate, total (births per woman)</td>\n",
       "      <td>SP.DYN.TFRT.IN</td>\n",
       "      <td>NaN</td>\n",
       "      <td>NaN</td>\n",
       "      <td>NaN</td>\n",
       "      <td>NaN</td>\n",
       "      <td>NaN</td>\n",
       "      <td>NaN</td>\n",
       "      <td>...</td>\n",
       "      <td>1.270</td>\n",
       "      <td>NaN</td>\n",
       "      <td>NaN</td>\n",
       "      <td>NaN</td>\n",
       "      <td>NaN</td>\n",
       "      <td>NaN</td>\n",
       "      <td>NaN</td>\n",
       "      <td>NaN</td>\n",
       "      <td>NaN</td>\n",
       "      <td>NaN</td>\n",
       "    </tr>\n",
       "  </tbody>\n",
       "</table>\n",
       "<p>5 rows × 64 columns</p>\n",
       "</div>"
      ],
      "text/plain": [
       "  Country Name Country Code                            Indicator Name  \\\n",
       "0        Aruba          ABW  Fertility rate, total (births per woman)   \n",
       "1  Afghanistan          AFG  Fertility rate, total (births per woman)   \n",
       "2       Angola          AGO  Fertility rate, total (births per woman)   \n",
       "3      Albania          ALB  Fertility rate, total (births per woman)   \n",
       "4      Andorra          AND  Fertility rate, total (births per woman)   \n",
       "\n",
       "   Indicator Code   1960   1961   1962   1963   1964   1965  ...   2010  \\\n",
       "0  SP.DYN.TFRT.IN  4.820  4.655  4.471  4.271  4.059  3.842  ...  1.768   \n",
       "1  SP.DYN.TFRT.IN  7.450  7.450  7.450  7.450  7.450  7.450  ...  5.977   \n",
       "2  SP.DYN.TFRT.IN  6.708  6.790  6.872  6.954  7.036  7.116  ...  6.194   \n",
       "3  SP.DYN.TFRT.IN  6.489  6.401  6.282  6.133  5.960  5.773  ...  1.660   \n",
       "4  SP.DYN.TFRT.IN    NaN    NaN    NaN    NaN    NaN    NaN  ...  1.270   \n",
       "\n",
       "    2011   2012   2013   2014   2015   2016   2017   2018  2019  \n",
       "0  1.779  1.795  1.813  1.834  1.854  1.872  1.886  1.896   NaN  \n",
       "1  5.770  5.562  5.359  5.163  4.976  4.800  4.633  4.473   NaN  \n",
       "2  6.120  6.039  5.953  5.864  5.774  5.686  5.600  5.519   NaN  \n",
       "3  1.673  1.684  1.690  1.688  1.677  1.659  1.638  1.617   NaN  \n",
       "4    NaN    NaN    NaN    NaN    NaN    NaN    NaN    NaN   NaN  \n",
       "\n",
       "[5 rows x 64 columns]"
      ]
     },
     "execution_count": 143,
     "metadata": {},
     "output_type": "execute_result"
    }
   ],
   "source": [
    "url = 'http://api.worldbank.org/v2/en/indicator/SP.DYN.TFRT.IN?downloadformat=excel'\n",
    "# pip install xlrd\n",
    "crude_birth_rate = pd.read_excel(url, header=3)\n",
    "crude_birth_rate.head()"
   ]
  },
  {
   "cell_type": "code",
   "execution_count": 145,
   "metadata": {},
   "outputs": [],
   "source": [
    "not_neede_columns = ['Country Code', 'Indicator Name', 'Indicator Code']\n",
    "crude_birth_rate = (\n",
    "    crude_birth_rate\n",
    "        .drop(not_neede_columns, axis=1)\n",
    "        .set_index('Country Name')\n",
    ")"
   ]
  },
  {
   "cell_type": "markdown",
   "metadata": {},
   "source": [
    "Построим несколько графиков"
   ]
  },
  {
   "cell_type": "code",
   "execution_count": null,
   "metadata": {
    "scrolled": false
   },
   "outputs": [],
   "source": []
  },
  {
   "cell_type": "markdown",
   "metadata": {
    "slideshow": {
     "slide_type": "slide"
    }
   },
   "source": [
    "# Resources"
   ]
  },
  {
   "cell_type": "markdown",
   "metadata": {
    "slideshow": {
     "slide_type": "fragment"
    }
   },
   "source": [
    "Книга по Pandas и не только:  <br>\n",
    "https://jakevdp.github.io/PythonDataScienceHandbook/  <br>\n",
    "<br>\n",
    "Серия статей по продвинотому pandas:  <br>\n",
    "https://tomaugspurger.github.io/modern-1-intro<br>\n",
    "<br>\n",
    "Список туториалов от самого pandas:  <br>\n",
    "https://pandas.pydata.org/pandas-docs/stable/getting_started/tutorials.html<br>\n"
   ]
  },
  {
   "cell_type": "markdown",
   "metadata": {
    "slideshow": {
     "slide_type": "fragment"
    }
   },
   "source": [
    "Презентацию можно будет достать по ссылке:   \n",
    "https://github.com/carnotaur/pandas_tutorial"
   ]
  }
 ],
 "metadata": {
  "kernelspec": {
   "display_name": "Python 3",
   "language": "python",
   "name": "python3"
  },
  "language_info": {
   "codemirror_mode": {
    "name": "ipython",
    "version": 3
   },
   "file_extension": ".py",
   "mimetype": "text/x-python",
   "name": "python",
   "nbconvert_exporter": "python",
   "pygments_lexer": "ipython3",
   "version": "3.6.8"
  }
 },
 "nbformat": 4,
 "nbformat_minor": 4
}

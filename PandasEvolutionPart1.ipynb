{
 "cells": [
  {
   "cell_type": "markdown",
   "metadata": {
    "slideshow": {
     "slide_type": "slide"
    }
   },
   "source": [
    "# <center> PANDAS : \n",
    "# <center> Эволюционный пинок - Часть 1"
   ]
  },
  {
   "cell_type": "markdown",
   "metadata": {
    "slideshow": {
     "slide_type": "slide"
    }
   },
   "source": [
    "### <center> Панды\n",
    "Больша́я па́нда, или бамбу́ковый медве́дь (лат. Ailuropoda melanoleuca) — вид всеядных млекопитающих из семейства медвежьих со своеобразной чёрно-белой окраской шерсти, обладающих некоторыми признаками енотов. Единственный современный вид рода Ailuropus подсемейства Ailuropodinae. Большие панды обитают в горных регионах центрального Китая: Сычуань и Тибет.\n",
    "<center> <img src=\"imgs/external-content.duckduckgo.com.jpeg\" width=600></img>"
   ]
  },
  {
   "cell_type": "markdown",
   "metadata": {
    "slideshow": {
     "slide_type": "slide"
    }
   },
   "source": [
    "### <center> Pandas"
   ]
  },
  {
   "cell_type": "markdown",
   "metadata": {
    "slideshow": {
     "slide_type": "subslide"
    }
   },
   "source": [
    "Загрузить данные и показать фрейм, delimiter = ';'"
   ]
  },
  {
   "cell_type": "code",
   "execution_count": 2,
   "metadata": {
    "slideshow": {
     "slide_type": "fragment"
    }
   },
   "outputs": [
    {
     "data": {
      "text/html": [
       "<div>\n",
       "<style scoped>\n",
       "    .dataframe tbody tr th:only-of-type {\n",
       "        vertical-align: middle;\n",
       "    }\n",
       "\n",
       "    .dataframe tbody tr th {\n",
       "        vertical-align: top;\n",
       "    }\n",
       "\n",
       "    .dataframe thead th {\n",
       "        text-align: right;\n",
       "    }\n",
       "</style>\n",
       "<table border=\"1\" class=\"dataframe\">\n",
       "  <thead>\n",
       "    <tr style=\"text-align: right;\">\n",
       "      <th></th>\n",
       "      <th>R_fighter</th>\n",
       "      <th>B_fighter</th>\n",
       "      <th>R_KD</th>\n",
       "      <th>B_KD</th>\n",
       "      <th>R_SIG_STR.</th>\n",
       "      <th>B_SIG_STR.</th>\n",
       "      <th>R_SIG_STR_pct</th>\n",
       "      <th>B_SIG_STR_pct</th>\n",
       "      <th>R_TOTAL_STR.</th>\n",
       "      <th>B_TOTAL_STR.</th>\n",
       "      <th>...</th>\n",
       "      <th>B_GROUND</th>\n",
       "      <th>win_by</th>\n",
       "      <th>last_round</th>\n",
       "      <th>last_round_time</th>\n",
       "      <th>Format</th>\n",
       "      <th>Referee</th>\n",
       "      <th>date</th>\n",
       "      <th>location</th>\n",
       "      <th>Fight_type</th>\n",
       "      <th>Winner</th>\n",
       "    </tr>\n",
       "  </thead>\n",
       "  <tbody>\n",
       "    <tr>\n",
       "      <th>0</th>\n",
       "      <td>Henry Cejudo</td>\n",
       "      <td>Marlon Moraes</td>\n",
       "      <td>0</td>\n",
       "      <td>0</td>\n",
       "      <td>90 of 171</td>\n",
       "      <td>57 of 119</td>\n",
       "      <td>52%</td>\n",
       "      <td>47%</td>\n",
       "      <td>99 of 182</td>\n",
       "      <td>59 of 121</td>\n",
       "      <td>...</td>\n",
       "      <td>1 of 1</td>\n",
       "      <td>KO/TKO</td>\n",
       "      <td>3</td>\n",
       "      <td>4:51</td>\n",
       "      <td>5 Rnd (5-5-5-5-5)</td>\n",
       "      <td>Marc Goddard</td>\n",
       "      <td>June 08, 2019</td>\n",
       "      <td>Chicago, Illinois, USA</td>\n",
       "      <td>UFC Bantamweight Title Bout</td>\n",
       "      <td>Henry Cejudo</td>\n",
       "    </tr>\n",
       "    <tr>\n",
       "      <th>1</th>\n",
       "      <td>Valentina Shevchenko</td>\n",
       "      <td>Jessica Eye</td>\n",
       "      <td>1</td>\n",
       "      <td>0</td>\n",
       "      <td>8 of 11</td>\n",
       "      <td>2 of 12</td>\n",
       "      <td>72%</td>\n",
       "      <td>16%</td>\n",
       "      <td>37 of 40</td>\n",
       "      <td>42 of 52</td>\n",
       "      <td>...</td>\n",
       "      <td>0 of 0</td>\n",
       "      <td>KO/TKO</td>\n",
       "      <td>2</td>\n",
       "      <td>0:26</td>\n",
       "      <td>5 Rnd (5-5-5-5-5)</td>\n",
       "      <td>Robert Madrigal</td>\n",
       "      <td>June 08, 2019</td>\n",
       "      <td>Chicago, Illinois, USA</td>\n",
       "      <td>UFC Women's Flyweight Title Bout</td>\n",
       "      <td>Valentina Shevchenko</td>\n",
       "    </tr>\n",
       "    <tr>\n",
       "      <th>2</th>\n",
       "      <td>Tony Ferguson</td>\n",
       "      <td>Donald Cerrone</td>\n",
       "      <td>0</td>\n",
       "      <td>0</td>\n",
       "      <td>104 of 200</td>\n",
       "      <td>68 of 185</td>\n",
       "      <td>52%</td>\n",
       "      <td>36%</td>\n",
       "      <td>104 of 200</td>\n",
       "      <td>68 of 185</td>\n",
       "      <td>...</td>\n",
       "      <td>0 of 0</td>\n",
       "      <td>TKO - Doctor's Stoppage</td>\n",
       "      <td>2</td>\n",
       "      <td>5:00</td>\n",
       "      <td>3 Rnd (5-5-5)</td>\n",
       "      <td>Dan Miragliotta</td>\n",
       "      <td>June 08, 2019</td>\n",
       "      <td>Chicago, Illinois, USA</td>\n",
       "      <td>Lightweight Bout</td>\n",
       "      <td>Tony Ferguson</td>\n",
       "    </tr>\n",
       "    <tr>\n",
       "      <th>3</th>\n",
       "      <td>Jimmie Rivera</td>\n",
       "      <td>Petr Yan</td>\n",
       "      <td>0</td>\n",
       "      <td>2</td>\n",
       "      <td>73 of 192</td>\n",
       "      <td>56 of 189</td>\n",
       "      <td>38%</td>\n",
       "      <td>29%</td>\n",
       "      <td>76 of 195</td>\n",
       "      <td>58 of 192</td>\n",
       "      <td>...</td>\n",
       "      <td>4 of 10</td>\n",
       "      <td>Decision - Unanimous</td>\n",
       "      <td>3</td>\n",
       "      <td>5:00</td>\n",
       "      <td>3 Rnd (5-5-5)</td>\n",
       "      <td>Kevin MacDonald</td>\n",
       "      <td>June 08, 2019</td>\n",
       "      <td>Chicago, Illinois, USA</td>\n",
       "      <td>Bantamweight Bout</td>\n",
       "      <td>Petr Yan</td>\n",
       "    </tr>\n",
       "    <tr>\n",
       "      <th>4</th>\n",
       "      <td>Tai Tuivasa</td>\n",
       "      <td>Blagoy Ivanov</td>\n",
       "      <td>0</td>\n",
       "      <td>1</td>\n",
       "      <td>64 of 144</td>\n",
       "      <td>73 of 123</td>\n",
       "      <td>44%</td>\n",
       "      <td>59%</td>\n",
       "      <td>66 of 146</td>\n",
       "      <td>81 of 131</td>\n",
       "      <td>...</td>\n",
       "      <td>6 of 6</td>\n",
       "      <td>Decision - Unanimous</td>\n",
       "      <td>3</td>\n",
       "      <td>5:00</td>\n",
       "      <td>3 Rnd (5-5-5)</td>\n",
       "      <td>Dan Miragliotta</td>\n",
       "      <td>June 08, 2019</td>\n",
       "      <td>Chicago, Illinois, USA</td>\n",
       "      <td>Heavyweight Bout</td>\n",
       "      <td>Blagoy Ivanov</td>\n",
       "    </tr>\n",
       "  </tbody>\n",
       "</table>\n",
       "<p>5 rows × 41 columns</p>\n",
       "</div>"
      ],
      "text/plain": [
       "              R_fighter       B_fighter  R_KD  B_KD  R_SIG_STR. B_SIG_STR.  \\\n",
       "0          Henry Cejudo   Marlon Moraes     0     0   90 of 171  57 of 119   \n",
       "1  Valentina Shevchenko     Jessica Eye     1     0     8 of 11    2 of 12   \n",
       "2         Tony Ferguson  Donald Cerrone     0     0  104 of 200  68 of 185   \n",
       "3         Jimmie Rivera        Petr Yan     0     2   73 of 192  56 of 189   \n",
       "4           Tai Tuivasa   Blagoy Ivanov     0     1   64 of 144  73 of 123   \n",
       "\n",
       "  R_SIG_STR_pct B_SIG_STR_pct R_TOTAL_STR. B_TOTAL_STR.  ... B_GROUND  \\\n",
       "0           52%           47%    99 of 182    59 of 121  ...   1 of 1   \n",
       "1           72%           16%     37 of 40     42 of 52  ...   0 of 0   \n",
       "2           52%           36%   104 of 200    68 of 185  ...   0 of 0   \n",
       "3           38%           29%    76 of 195    58 of 192  ...  4 of 10   \n",
       "4           44%           59%    66 of 146    81 of 131  ...   6 of 6   \n",
       "\n",
       "                    win_by last_round last_round_time             Format  \\\n",
       "0                   KO/TKO          3            4:51  5 Rnd (5-5-5-5-5)   \n",
       "1                   KO/TKO          2            0:26  5 Rnd (5-5-5-5-5)   \n",
       "2  TKO - Doctor's Stoppage          2            5:00      3 Rnd (5-5-5)   \n",
       "3     Decision - Unanimous          3            5:00      3 Rnd (5-5-5)   \n",
       "4     Decision - Unanimous          3            5:00      3 Rnd (5-5-5)   \n",
       "\n",
       "           Referee           date                location  \\\n",
       "0     Marc Goddard  June 08, 2019  Chicago, Illinois, USA   \n",
       "1  Robert Madrigal  June 08, 2019  Chicago, Illinois, USA   \n",
       "2  Dan Miragliotta  June 08, 2019  Chicago, Illinois, USA   \n",
       "3  Kevin MacDonald  June 08, 2019  Chicago, Illinois, USA   \n",
       "4  Dan Miragliotta  June 08, 2019  Chicago, Illinois, USA   \n",
       "\n",
       "                         Fight_type                Winner  \n",
       "0       UFC Bantamweight Title Bout          Henry Cejudo  \n",
       "1  UFC Women's Flyweight Title Bout  Valentina Shevchenko  \n",
       "2                  Lightweight Bout         Tony Ferguson  \n",
       "3                 Bantamweight Bout              Petr Yan  \n",
       "4                  Heavyweight Bout         Blagoy Ivanov  \n",
       "\n",
       "[5 rows x 41 columns]"
      ]
     },
     "execution_count": 2,
     "metadata": {},
     "output_type": "execute_result"
    }
   ],
   "source": [
    "import pandas as pd\n",
    "path = 'data/raw_total_fight_data.csv'\n",
    "df = pd.read_csv(path, delimiter=';')\n",
    "df.head()"
   ]
  },
  {
   "cell_type": "markdown",
   "metadata": {
    "slideshow": {
     "slide_type": "slide"
    }
   },
   "source": [
    "#### Первичный анализ"
   ]
  },
  {
   "cell_type": "markdown",
   "metadata": {
    "slideshow": {
     "slide_type": "subslide"
    }
   },
   "source": [
    "Показать основную информацию"
   ]
  },
  {
   "cell_type": "code",
   "execution_count": null,
   "metadata": {
    "slideshow": {
     "slide_type": "fragment"
    }
   },
   "outputs": [],
   "source": []
  },
  {
   "cell_type": "markdown",
   "metadata": {
    "slideshow": {
     "slide_type": "subslide"
    }
   },
   "source": [
    "Выбрать только колонки типа object"
   ]
  },
  {
   "cell_type": "code",
   "execution_count": null,
   "metadata": {
    "jupyter": {
     "outputs_hidden": true
    },
    "slideshow": {
     "slide_type": "fragment"
    }
   },
   "outputs": [],
   "source": []
  },
  {
   "cell_type": "markdown",
   "metadata": {
    "jupyter": {
     "source_hidden": true
    },
    "slideshow": {
     "slide_type": "slide"
    }
   },
   "source": [
    "#### Повтор небольшой"
   ]
  },
  {
   "cell_type": "markdown",
   "metadata": {},
   "source": [
    "<center> <img src=\"imgs/panda-hug.jpg\" width=600></img>"
   ]
  },
  {
   "cell_type": "markdown",
   "metadata": {
    "slideshow": {
     "slide_type": "subslide"
    }
   },
   "source": [
    "Создать новую колонку"
   ]
  },
  {
   "cell_type": "code",
   "execution_count": null,
   "metadata": {
    "slideshow": {
     "slide_type": "fragment"
    }
   },
   "outputs": [],
   "source": []
  },
  {
   "cell_type": "markdown",
   "metadata": {
    "slideshow": {
     "slide_type": "subslide"
    }
   },
   "source": [
    "isnull - посмотрите количество пропусков в данных"
   ]
  },
  {
   "cell_type": "code",
   "execution_count": null,
   "metadata": {
    "slideshow": {
     "slide_type": "fragment"
    }
   },
   "outputs": [],
   "source": []
  },
  {
   "cell_type": "markdown",
   "metadata": {
    "slideshow": {
     "slide_type": "subslide"
    }
   },
   "source": [
    "Посчитайте частоту значений в колонке R_REV"
   ]
  },
  {
   "cell_type": "markdown",
   "metadata": {},
   "source": [
    "Создайте новый индекс с помощью range(len(df))"
   ]
  },
  {
   "cell_type": "code",
   "execution_count": null,
   "metadata": {},
   "outputs": [],
   "source": []
  },
  {
   "cell_type": "markdown",
   "metadata": {},
   "source": [
    "Выберите новые колонки и новый индекс"
   ]
  },
  {
   "cell_type": "code",
   "execution_count": null,
   "metadata": {},
   "outputs": [],
   "source": []
  },
  {
   "cell_type": "markdown",
   "metadata": {},
   "source": [
    "Фильтрация данных по колонке B_fighter"
   ]
  },
  {
   "cell_type": "code",
   "execution_count": null,
   "metadata": {},
   "outputs": [],
   "source": []
  },
  {
   "cell_type": "markdown",
   "metadata": {},
   "source": [
    "Расчитайте среднее R_PASS по колонке B_KD"
   ]
  },
  {
   "cell_type": "code",
   "execution_count": null,
   "metadata": {},
   "outputs": [],
   "source": []
  },
  {
   "cell_type": "markdown",
   "metadata": {
    "slideshow": {
     "slide_type": "slide"
    }
   },
   "source": [
    "#### Работа с Strings"
   ]
  },
  {
   "cell_type": "markdown",
   "metadata": {
    "slideshow": {
     "slide_type": "fragment"
    }
   },
   "source": [
    "<center> <img src=\"imgs/external-content.ууу.com.jpeg\" width=800></img>"
   ]
  },
  {
   "cell_type": "code",
   "execution_count": 3,
   "metadata": {
    "slideshow": {
     "slide_type": "subslide"
    }
   },
   "outputs": [
    {
     "data": {
      "text/plain": [
       "0    Chicago, Illinois, USA\n",
       "1    Chicago, Illinois, USA\n",
       "2    Chicago, Illinois, USA\n",
       "3    Chicago, Illinois, USA\n",
       "4    Chicago, Illinois, USA\n",
       "Name: location, dtype: object"
      ]
     },
     "execution_count": 3,
     "metadata": {},
     "output_type": "execute_result"
    }
   ],
   "source": [
    "df['location'].head()"
   ]
  },
  {
   "cell_type": "markdown",
   "metadata": {
    "slideshow": {
     "slide_type": "subslide"
    }
   },
   "source": [
    "Часто делают так:"
   ]
  },
  {
   "cell_type": "code",
   "execution_count": 4,
   "metadata": {
    "jupyter": {
     "outputs_hidden": true
    },
    "slideshow": {
     "slide_type": "fragment"
    }
   },
   "outputs": [
    {
     "data": {
      "text/plain": [
       "{0: ['Chicago', ' Illinois', ' USA'],\n",
       " 1: ['Chicago', ' Illinois', ' USA'],\n",
       " 2: ['Chicago', ' Illinois', ' USA'],\n",
       " 3: ['Chicago', ' Illinois', ' USA'],\n",
       " 4: ['Chicago', ' Illinois', ' USA'],\n",
       " 5: ['Chicago', ' Illinois', ' USA'],\n",
       " 6: ['Chicago', ' Illinois', ' USA'],\n",
       " 7: ['Chicago', ' Illinois', ' USA'],\n",
       " 8: ['Chicago', ' Illinois', ' USA'],\n",
       " 9: ['Chicago', ' Illinois', ' USA'],\n",
       " 10: ['Chicago', ' Illinois', ' USA'],\n",
       " 11: ['Chicago', ' Illinois', ' USA'],\n",
       " 12: ['Chicago', ' Illinois', ' USA'],\n",
       " 13: ['Stockholm', ' Sweden'],\n",
       " 14: ['Stockholm', ' Sweden'],\n",
       " 15: ['Stockholm', ' Sweden'],\n",
       " 16: ['Stockholm', ' Sweden'],\n",
       " 17: ['Stockholm', ' Sweden'],\n",
       " 18: ['Stockholm', ' Sweden'],\n",
       " 19: ['Stockholm', ' Sweden'],\n",
       " 20: ['Stockholm', ' Sweden'],\n",
       " 21: ['Stockholm', ' Sweden'],\n",
       " 22: ['Stockholm', ' Sweden'],\n",
       " 23: ['Stockholm', ' Sweden'],\n",
       " 24: ['Stockholm', ' Sweden'],\n",
       " 25: ['Rochester', ' New York', ' USA'],\n",
       " 26: ['Rochester', ' New York', ' USA'],\n",
       " 27: ['Rochester', ' New York', ' USA'],\n",
       " 28: ['Rochester', ' New York', ' USA'],\n",
       " 29: ['Rochester', ' New York', ' USA'],\n",
       " 30: ['Rochester', ' New York', ' USA'],\n",
       " 31: ['Rochester', ' New York', ' USA'],\n",
       " 32: ['Rochester', ' New York', ' USA'],\n",
       " 33: ['Rochester', ' New York', ' USA'],\n",
       " 34: ['Rochester', ' New York', ' USA'],\n",
       " 35: ['Rochester', ' New York', ' USA'],\n",
       " 36: ['Rochester', ' New York', ' USA'],\n",
       " 37: ['Rochester', ' New York', ' USA'],\n",
       " 38: ['Rio de Janeiro', ' Rio de Janeiro', ' Brazil'],\n",
       " 39: ['Rio de Janeiro', ' Rio de Janeiro', ' Brazil'],\n",
       " 40: ['Rio de Janeiro', ' Rio de Janeiro', ' Brazil'],\n",
       " 41: ['Rio de Janeiro', ' Rio de Janeiro', ' Brazil'],\n",
       " 42: ['Rio de Janeiro', ' Rio de Janeiro', ' Brazil'],\n",
       " 43: ['Rio de Janeiro', ' Rio de Janeiro', ' Brazil'],\n",
       " 44: ['Rio de Janeiro', ' Rio de Janeiro', ' Brazil'],\n",
       " 45: ['Rio de Janeiro', ' Rio de Janeiro', ' Brazil'],\n",
       " 46: ['Rio de Janeiro', ' Rio de Janeiro', ' Brazil'],\n",
       " 47: ['Rio de Janeiro', ' Rio de Janeiro', ' Brazil'],\n",
       " 48: ['Rio de Janeiro', ' Rio de Janeiro', ' Brazil'],\n",
       " 49: ['Rio de Janeiro', ' Rio de Janeiro', ' Brazil'],\n",
       " 50: ['Ottawa', ' Ontario', ' Canada'],\n",
       " 51: ['Ottawa', ' Ontario', ' Canada'],\n",
       " 52: ['Ottawa', ' Ontario', ' Canada'],\n",
       " 53: ['Ottawa', ' Ontario', ' Canada'],\n",
       " 54: ['Ottawa', ' Ontario', ' Canada'],\n",
       " 55: ['Ottawa', ' Ontario', ' Canada'],\n",
       " 56: ['Ottawa', ' Ontario', ' Canada'],\n",
       " 57: ['Ottawa', ' Ontario', ' Canada'],\n",
       " 58: ['Ottawa', ' Ontario', ' Canada'],\n",
       " 59: ['Ottawa', ' Ontario', ' Canada'],\n",
       " 60: ['Ottawa', ' Ontario', ' Canada'],\n",
       " 61: ['Ottawa', ' Ontario', ' Canada'],\n",
       " 62: ['Sunrise', ' Florida', ' USA'],\n",
       " 63: ['Sunrise', ' Florida', ' USA'],\n",
       " 64: ['Sunrise', ' Florida', ' USA'],\n",
       " 65: ['Sunrise', ' Florida', ' USA'],\n",
       " 66: ['Sunrise', ' Florida', ' USA'],\n",
       " 67: ['Sunrise', ' Florida', ' USA'],\n",
       " 68: ['Sunrise', ' Florida', ' USA'],\n",
       " 69: ['Sunrise', ' Florida', ' USA'],\n",
       " 70: ['Sunrise', ' Florida', ' USA'],\n",
       " 71: ['Sunrise', ' Florida', ' USA'],\n",
       " 72: ['Sunrise', ' Florida', ' USA'],\n",
       " 73: ['Sunrise', ' Florida', ' USA'],\n",
       " 74: ['Sunrise', ' Florida', ' USA'],\n",
       " 75: ['Saint Petersburg', ' Saint Petersburg', ' Russia'],\n",
       " 76: ['Saint Petersburg', ' Saint Petersburg', ' Russia'],\n",
       " 77: ['Saint Petersburg', ' Saint Petersburg', ' Russia'],\n",
       " 78: ['Saint Petersburg', ' Saint Petersburg', ' Russia'],\n",
       " 79: ['Saint Petersburg', ' Saint Petersburg', ' Russia'],\n",
       " 80: ['Saint Petersburg', ' Saint Petersburg', ' Russia'],\n",
       " 81: ['Saint Petersburg', ' Saint Petersburg', ' Russia'],\n",
       " 82: ['Saint Petersburg', ' Saint Petersburg', ' Russia'],\n",
       " 83: ['Saint Petersburg', ' Saint Petersburg', ' Russia'],\n",
       " 84: ['Saint Petersburg', ' Saint Petersburg', ' Russia'],\n",
       " 85: ['Saint Petersburg', ' Saint Petersburg', ' Russia'],\n",
       " 86: ['Atlanta', ' Georgia', ' USA'],\n",
       " 87: ['Atlanta', ' Georgia', ' USA'],\n",
       " 88: ['Atlanta', ' Georgia', ' USA'],\n",
       " 89: ['Atlanta', ' Georgia', ' USA'],\n",
       " 90: ['Atlanta', ' Georgia', ' USA'],\n",
       " 91: ['Atlanta', ' Georgia', ' USA'],\n",
       " 92: ['Atlanta', ' Georgia', ' USA'],\n",
       " 93: ['Atlanta', ' Georgia', ' USA'],\n",
       " 94: ['Atlanta', ' Georgia', ' USA'],\n",
       " 95: ['Atlanta', ' Georgia', ' USA'],\n",
       " 96: ['Atlanta', ' Georgia', ' USA'],\n",
       " 97: ['Atlanta', ' Georgia', ' USA'],\n",
       " 98: ['Atlanta', ' Georgia', ' USA'],\n",
       " 99: ['Philadelphia', ' Pennsylvania', ' USA'],\n",
       " 100: ['Philadelphia', ' Pennsylvania', ' USA'],\n",
       " 101: ['Philadelphia', ' Pennsylvania', ' USA'],\n",
       " 102: ['Philadelphia', ' Pennsylvania', ' USA'],\n",
       " 103: ['Philadelphia', ' Pennsylvania', ' USA'],\n",
       " 104: ['Philadelphia', ' Pennsylvania', ' USA'],\n",
       " 105: ['Philadelphia', ' Pennsylvania', ' USA'],\n",
       " 106: ['Philadelphia', ' Pennsylvania', ' USA'],\n",
       " 107: ['Philadelphia', ' Pennsylvania', ' USA'],\n",
       " 108: ['Philadelphia', ' Pennsylvania', ' USA'],\n",
       " 109: ['Philadelphia', ' Pennsylvania', ' USA'],\n",
       " 110: ['Philadelphia', ' Pennsylvania', ' USA'],\n",
       " 111: ['Philadelphia', ' Pennsylvania', ' USA'],\n",
       " 112: ['Nashville', ' Tennessee', ' USA'],\n",
       " 113: ['Nashville', ' Tennessee', ' USA'],\n",
       " 114: ['Nashville', ' Tennessee', ' USA'],\n",
       " 115: ['Nashville', ' Tennessee', ' USA'],\n",
       " 116: ['Nashville', ' Tennessee', ' USA'],\n",
       " 117: ['Nashville', ' Tennessee', ' USA'],\n",
       " 118: ['Nashville', ' Tennessee', ' USA'],\n",
       " 119: ['Nashville', ' Tennessee', ' USA'],\n",
       " 120: ['Nashville', ' Tennessee', ' USA'],\n",
       " 121: ['Nashville', ' Tennessee', ' USA'],\n",
       " 122: ['Nashville', ' Tennessee', ' USA'],\n",
       " 123: ['Nashville', ' Tennessee', ' USA'],\n",
       " 124: ['London', ' England', ' United Kingdom'],\n",
       " 125: ['London', ' England', ' United Kingdom'],\n",
       " 126: ['London', ' England', ' United Kingdom'],\n",
       " 127: ['London', ' England', ' United Kingdom'],\n",
       " 128: ['London', ' England', ' United Kingdom'],\n",
       " 129: ['London', ' England', ' United Kingdom'],\n",
       " 130: ['London', ' England', ' United Kingdom'],\n",
       " 131: ['London', ' England', ' United Kingdom'],\n",
       " 132: ['London', ' England', ' United Kingdom'],\n",
       " 133: ['London', ' England', ' United Kingdom'],\n",
       " 134: ['London', ' England', ' United Kingdom'],\n",
       " 135: ['London', ' England', ' United Kingdom'],\n",
       " 136: ['Wichita', ' Kansas', ' USA'],\n",
       " 137: ['Wichita', ' Kansas', ' USA'],\n",
       " 138: ['Wichita', ' Kansas', ' USA'],\n",
       " 139: ['Wichita', ' Kansas', ' USA'],\n",
       " 140: ['Wichita', ' Kansas', ' USA'],\n",
       " 141: ['Wichita', ' Kansas', ' USA'],\n",
       " 142: ['Wichita', ' Kansas', ' USA'],\n",
       " 143: ['Wichita', ' Kansas', ' USA'],\n",
       " 144: ['Wichita', ' Kansas', ' USA'],\n",
       " 145: ['Wichita', ' Kansas', ' USA'],\n",
       " 146: ['Wichita', ' Kansas', ' USA'],\n",
       " 147: ['Wichita', ' Kansas', ' USA'],\n",
       " 148: ['Wichita', ' Kansas', ' USA'],\n",
       " 149: ['Las Vegas', ' Nevada', ' USA'],\n",
       " 150: ['Las Vegas', ' Nevada', ' USA'],\n",
       " 151: ['Las Vegas', ' Nevada', ' USA'],\n",
       " 152: ['Las Vegas', ' Nevada', ' USA'],\n",
       " 153: ['Las Vegas', ' Nevada', ' USA'],\n",
       " 154: ['Las Vegas', ' Nevada', ' USA'],\n",
       " 155: ['Las Vegas', ' Nevada', ' USA'],\n",
       " 156: ['Las Vegas', ' Nevada', ' USA'],\n",
       " 157: ['Las Vegas', ' Nevada', ' USA'],\n",
       " 158: ['Las Vegas', ' Nevada', ' USA'],\n",
       " 159: ['Las Vegas', ' Nevada', ' USA'],\n",
       " 160: ['Las Vegas', ' Nevada', ' USA'],\n",
       " 161: ['Prague', ' Czech Republic'],\n",
       " 162: ['Prague', ' Czech Republic'],\n",
       " 163: ['Prague', ' Czech Republic'],\n",
       " 164: ['Prague', ' Czech Republic'],\n",
       " 165: ['Prague', ' Czech Republic'],\n",
       " 166: ['Prague', ' Czech Republic'],\n",
       " 167: ['Prague', ' Czech Republic'],\n",
       " 168: ['Prague', ' Czech Republic'],\n",
       " 169: ['Prague', ' Czech Republic'],\n",
       " 170: ['Prague', ' Czech Republic'],\n",
       " 171: ['Prague', ' Czech Republic'],\n",
       " 172: ['Prague', ' Czech Republic'],\n",
       " 173: ['Prague', ' Czech Republic'],\n",
       " 174: ['Phoenix', ' Arizona', ' USA'],\n",
       " 175: ['Phoenix', ' Arizona', ' USA'],\n",
       " 176: ['Phoenix', ' Arizona', ' USA'],\n",
       " 177: ['Phoenix', ' Arizona', ' USA'],\n",
       " 178: ['Phoenix', ' Arizona', ' USA'],\n",
       " 179: ['Phoenix', ' Arizona', ' USA'],\n",
       " 180: ['Phoenix', ' Arizona', ' USA'],\n",
       " 181: ['Phoenix', ' Arizona', ' USA'],\n",
       " 182: ['Phoenix', ' Arizona', ' USA'],\n",
       " 183: ['Phoenix', ' Arizona', ' USA'],\n",
       " 184: ['Phoenix', ' Arizona', ' USA'],\n",
       " 185: ['Phoenix', ' Arizona', ' USA'],\n",
       " 186: ['Melbourne', ' Victoria', ' Australia'],\n",
       " 187: ['Melbourne', ' Victoria', ' Australia'],\n",
       " 188: ['Melbourne', ' Victoria', ' Australia'],\n",
       " 189: ['Melbourne', ' Victoria', ' Australia'],\n",
       " 190: ['Melbourne', ' Victoria', ' Australia'],\n",
       " 191: ['Melbourne', ' Victoria', ' Australia'],\n",
       " 192: ['Melbourne', ' Victoria', ' Australia'],\n",
       " 193: ['Melbourne', ' Victoria', ' Australia'],\n",
       " 194: ['Melbourne', ' Victoria', ' Australia'],\n",
       " 195: ['Melbourne', ' Victoria', ' Australia'],\n",
       " 196: ['Melbourne', ' Victoria', ' Australia'],\n",
       " 197: ['Fortaleza', ' Ceara', ' Brazil'],\n",
       " 198: ['Fortaleza', ' Ceara', ' Brazil'],\n",
       " 199: ['Fortaleza', ' Ceara', ' Brazil'],\n",
       " 200: ['Fortaleza', ' Ceara', ' Brazil'],\n",
       " 201: ['Fortaleza', ' Ceara', ' Brazil'],\n",
       " 202: ['Fortaleza', ' Ceara', ' Brazil'],\n",
       " 203: ['Fortaleza', ' Ceara', ' Brazil'],\n",
       " 204: ['Fortaleza', ' Ceara', ' Brazil'],\n",
       " 205: ['Fortaleza', ' Ceara', ' Brazil'],\n",
       " 206: ['Fortaleza', ' Ceara', ' Brazil'],\n",
       " 207: ['Fortaleza', ' Ceara', ' Brazil'],\n",
       " 208: ['Fortaleza', ' Ceara', ' Brazil'],\n",
       " 209: ['Fortaleza', ' Ceara', ' Brazil'],\n",
       " 210: ['Brooklyn', ' New York', ' USA'],\n",
       " 211: ['Brooklyn', ' New York', ' USA'],\n",
       " 212: ['Brooklyn', ' New York', ' USA'],\n",
       " 213: ['Brooklyn', ' New York', ' USA'],\n",
       " 214: ['Brooklyn', ' New York', ' USA'],\n",
       " 215: ['Brooklyn', ' New York', ' USA'],\n",
       " 216: ['Brooklyn', ' New York', ' USA'],\n",
       " 217: ['Brooklyn', ' New York', ' USA'],\n",
       " 218: ['Brooklyn', ' New York', ' USA'],\n",
       " 219: ['Brooklyn', ' New York', ' USA'],\n",
       " 220: ['Brooklyn', ' New York', ' USA'],\n",
       " 221: ['Brooklyn', ' New York', ' USA'],\n",
       " 222: ['Brooklyn', ' New York', ' USA'],\n",
       " 223: ['Los Angeles', ' California', ' USA'],\n",
       " 224: ['Los Angeles', ' California', ' USA'],\n",
       " 225: ['Los Angeles', ' California', ' USA'],\n",
       " 226: ['Los Angeles', ' California', ' USA'],\n",
       " 227: ['Los Angeles', ' California', ' USA'],\n",
       " 228: ['Los Angeles', ' California', ' USA'],\n",
       " 229: ['Los Angeles', ' California', ' USA'],\n",
       " 230: ['Los Angeles', ' California', ' USA'],\n",
       " 231: ['Los Angeles', ' California', ' USA'],\n",
       " 232: ['Los Angeles', ' California', ' USA'],\n",
       " 233: ['Los Angeles', ' California', ' USA'],\n",
       " 234: ['Los Angeles', ' California', ' USA'],\n",
       " 235: ['Los Angeles', ' California', ' USA'],\n",
       " 236: ['Milwaukee', ' Wisconsin', ' USA'],\n",
       " 237: ['Milwaukee', ' Wisconsin', ' USA'],\n",
       " 238: ['Milwaukee', ' Wisconsin', ' USA'],\n",
       " 239: ['Milwaukee', ' Wisconsin', ' USA'],\n",
       " 240: ['Milwaukee', ' Wisconsin', ' USA'],\n",
       " 241: ['Milwaukee', ' Wisconsin', ' USA'],\n",
       " 242: ['Milwaukee', ' Wisconsin', ' USA'],\n",
       " 243: ['Milwaukee', ' Wisconsin', ' USA'],\n",
       " 244: ['Milwaukee', ' Wisconsin', ' USA'],\n",
       " 245: ['Milwaukee', ' Wisconsin', ' USA'],\n",
       " 246: ['Milwaukee', ' Wisconsin', ' USA'],\n",
       " 247: ['Milwaukee', ' Wisconsin', ' USA'],\n",
       " 248: ['Toronto', ' Ontario', ' Canada'],\n",
       " 249: ['Toronto', ' Ontario', ' Canada'],\n",
       " 250: ['Toronto', ' Ontario', ' Canada'],\n",
       " 251: ['Toronto', ' Ontario', ' Canada'],\n",
       " 252: ['Toronto', ' Ontario', ' Canada'],\n",
       " 253: ['Toronto', ' Ontario', ' Canada'],\n",
       " 254: ['Toronto', ' Ontario', ' Canada'],\n",
       " 255: ['Toronto', ' Ontario', ' Canada'],\n",
       " 256: ['Toronto', ' Ontario', ' Canada'],\n",
       " 257: ['Toronto', ' Ontario', ' Canada'],\n",
       " 258: ['Toronto', ' Ontario', ' Canada'],\n",
       " 259: ['Toronto', ' Ontario', ' Canada'],\n",
       " 260: ['Toronto', ' Ontario', ' Canada'],\n",
       " 261: ['Adelaide', ' South Australia', ' Australia'],\n",
       " 262: ['Adelaide', ' South Australia', ' Australia'],\n",
       " 263: ['Adelaide', ' South Australia', ' Australia'],\n",
       " 264: ['Adelaide', ' South Australia', ' Australia'],\n",
       " 265: ['Adelaide', ' South Australia', ' Australia'],\n",
       " 266: ['Adelaide', ' South Australia', ' Australia'],\n",
       " 267: ['Adelaide', ' South Australia', ' Australia'],\n",
       " 268: ['Adelaide', ' South Australia', ' Australia'],\n",
       " 269: ['Adelaide', ' South Australia', ' Australia'],\n",
       " 270: ['Adelaide', ' South Australia', ' Australia'],\n",
       " 271: ['Adelaide', ' South Australia', ' Australia'],\n",
       " 272: ['Adelaide', ' South Australia', ' Australia'],\n",
       " 273: ['Las Vegas', ' Nevada', ' USA'],\n",
       " 274: ['Las Vegas', ' Nevada', ' USA'],\n",
       " 275: ['Las Vegas', ' Nevada', ' USA'],\n",
       " 276: ['Las Vegas', ' Nevada', ' USA'],\n",
       " 277: ['Las Vegas', ' Nevada', ' USA'],\n",
       " 278: ['Las Vegas', ' Nevada', ' USA'],\n",
       " 279: ['Las Vegas', ' Nevada', ' USA'],\n",
       " 280: ['Las Vegas', ' Nevada', ' USA'],\n",
       " 281: ['Las Vegas', ' Nevada', ' USA'],\n",
       " 282: ['Las Vegas', ' Nevada', ' USA'],\n",
       " 283: ['Las Vegas', ' Nevada', ' USA'],\n",
       " 284: ['Las Vegas', ' Nevada', ' USA'],\n",
       " 285: ['Las Vegas', ' Nevada', ' USA'],\n",
       " 286: ['Beijing', ' China'],\n",
       " 287: ['Beijing', ' China'],\n",
       " 288: ['Beijing', ' China'],\n",
       " 289: ['Beijing', ' China'],\n",
       " 290: ['Beijing', ' China'],\n",
       " 291: ['Beijing', ' China'],\n",
       " 292: ['Beijing', ' China'],\n",
       " 293: ['Beijing', ' China'],\n",
       " 294: ['Beijing', ' China'],\n",
       " 295: ['Beijing', ' China'],\n",
       " 296: ['Beijing', ' China'],\n",
       " 297: ['Beijing', ' China'],\n",
       " 298: ['Buenos Aires', ' Buenos Aires', ' Argentina'],\n",
       " 299: ['Buenos Aires', ' Buenos Aires', ' Argentina'],\n",
       " 300: ['Buenos Aires', ' Buenos Aires', ' Argentina'],\n",
       " 301: ['Buenos Aires', ' Buenos Aires', ' Argentina'],\n",
       " 302: ['Buenos Aires', ' Buenos Aires', ' Argentina'],\n",
       " 303: ['Buenos Aires', ' Buenos Aires', ' Argentina'],\n",
       " 304: ['Buenos Aires', ' Buenos Aires', ' Argentina'],\n",
       " 305: ['Buenos Aires', ' Buenos Aires', ' Argentina'],\n",
       " 306: ['Buenos Aires', ' Buenos Aires', ' Argentina'],\n",
       " 307: ['Buenos Aires', ' Buenos Aires', ' Argentina'],\n",
       " 308: ['Buenos Aires', ' Buenos Aires', ' Argentina'],\n",
       " 309: ['Buenos Aires', ' Buenos Aires', ' Argentina'],\n",
       " 310: ['Denver', ' Colorado', ' USA'],\n",
       " 311: ['Denver', ' Colorado', ' USA'],\n",
       " 312: ['Denver', ' Colorado', ' USA'],\n",
       " 313: ['Denver', ' Colorado', ' USA'],\n",
       " 314: ['Denver', ' Colorado', ' USA'],\n",
       " 315: ['Denver', ' Colorado', ' USA'],\n",
       " 316: ['Denver', ' Colorado', ' USA'],\n",
       " 317: ['Denver', ' Colorado', ' USA'],\n",
       " 318: ['Denver', ' Colorado', ' USA'],\n",
       " 319: ['Denver', ' Colorado', ' USA'],\n",
       " 320: ['Denver', ' Colorado', ' USA'],\n",
       " 321: ['Denver', ' Colorado', ' USA'],\n",
       " 322: ['New York City', ' New York', ' USA'],\n",
       " 323: ['New York City', ' New York', ' USA'],\n",
       " 324: ['New York City', ' New York', ' USA'],\n",
       " 325: ['New York City', ' New York', ' USA'],\n",
       " 326: ['New York City', ' New York', ' USA'],\n",
       " 327: ['New York City', ' New York', ' USA'],\n",
       " 328: ['New York City', ' New York', ' USA'],\n",
       " 329: ['New York City', ' New York', ' USA'],\n",
       " 330: ['New York City', ' New York', ' USA'],\n",
       " 331: ['New York City', ' New York', ' USA'],\n",
       " 332: ['New York City', ' New York', ' USA'],\n",
       " 333: ['New York City', ' New York', ' USA'],\n",
       " 334: ['Moncton', ' New Brunswick', ' Canada'],\n",
       " 335: ['Moncton', ' New Brunswick', ' Canada'],\n",
       " 336: ['Moncton', ' New Brunswick', ' Canada'],\n",
       " 337: ['Moncton', ' New Brunswick', ' Canada'],\n",
       " 338: ['Moncton', ' New Brunswick', ' Canada'],\n",
       " 339: ['Moncton', ' New Brunswick', ' Canada'],\n",
       " 340: ['Moncton', ' New Brunswick', ' Canada'],\n",
       " 341: ['Moncton', ' New Brunswick', ' Canada'],\n",
       " 342: ['Moncton', ' New Brunswick', ' Canada'],\n",
       " 343: ['Moncton', ' New Brunswick', ' Canada'],\n",
       " 344: ['Moncton', ' New Brunswick', ' Canada'],\n",
       " 345: ['Moncton', ' New Brunswick', ' Canada'],\n",
       " 346: ['Moncton', ' New Brunswick', ' Canada'],\n",
       " 347: ['Las Vegas', ' Nevada', ' USA'],\n",
       " 348: ['Las Vegas', ' Nevada', ' USA'],\n",
       " 349: ['Las Vegas', ' Nevada', ' USA'],\n",
       " 350: ['Las Vegas', ' Nevada', ' USA'],\n",
       " 351: ['Las Vegas', ' Nevada', ' USA'],\n",
       " 352: ['Las Vegas', ' Nevada', ' USA'],\n",
       " 353: ['Las Vegas', ' Nevada', ' USA'],\n",
       " 354: ['Las Vegas', ' Nevada', ' USA'],\n",
       " 355: ['Las Vegas', ' Nevada', ' USA'],\n",
       " 356: ['Las Vegas', ' Nevada', ' USA'],\n",
       " 357: ['Las Vegas', ' Nevada', ' USA'],\n",
       " 358: ['Las Vegas', ' Nevada', ' USA'],\n",
       " 359: ['Sao Paulo', ' Sao Paulo', ' Brazil'],\n",
       " 360: ['Sao Paulo', ' Sao Paulo', ' Brazil'],\n",
       " 361: ['Sao Paulo', ' Sao Paulo', ' Brazil'],\n",
       " 362: ['Sao Paulo', ' Sao Paulo', ' Brazil'],\n",
       " 363: ['Sao Paulo', ' Sao Paulo', ' Brazil'],\n",
       " 364: ['Sao Paulo', ' Sao Paulo', ' Brazil'],\n",
       " 365: ['Sao Paulo', ' Sao Paulo', ' Brazil'],\n",
       " 366: ['Sao Paulo', ' Sao Paulo', ' Brazil'],\n",
       " 367: ['Sao Paulo', ' Sao Paulo', ' Brazil'],\n",
       " 368: ['Sao Paulo', ' Sao Paulo', ' Brazil'],\n",
       " 369: ['Sao Paulo', ' Sao Paulo', ' Brazil'],\n",
       " 370: ['Sao Paulo', ' Sao Paulo', ' Brazil'],\n",
       " 371: ['Sao Paulo', ' Sao Paulo', ' Brazil'],\n",
       " 372: ['Sao Paulo', ' Sao Paulo', ' Brazil'],\n",
       " 373: ['Moscow', ' Moscow', ' Russia'],\n",
       " 374: ['Moscow', ' Moscow', ' Russia'],\n",
       " 375: ['Moscow', ' Moscow', ' Russia'],\n",
       " 376: ['Moscow', ' Moscow', ' Russia'],\n",
       " 377: ['Moscow', ' Moscow', ' Russia'],\n",
       " 378: ['Moscow', ' Moscow', ' Russia'],\n",
       " 379: ['Moscow', ' Moscow', ' Russia'],\n",
       " 380: ['Moscow', ' Moscow', ' Russia'],\n",
       " 381: ['Moscow', ' Moscow', ' Russia'],\n",
       " 382: ['Moscow', ' Moscow', ' Russia'],\n",
       " 383: ['Moscow', ' Moscow', ' Russia'],\n",
       " 384: ['Moscow', ' Moscow', ' Russia'],\n",
       " 385: ['Dallas', ' Texas', ' USA'],\n",
       " 386: ['Dallas', ' Texas', ' USA'],\n",
       " 387: ['Dallas', ' Texas', ' USA'],\n",
       " 388: ['Dallas', ' Texas', ' USA'],\n",
       " 389: ['Dallas', ' Texas', ' USA'],\n",
       " 390: ['Dallas', ' Texas', ' USA'],\n",
       " 391: ['Dallas', ' Texas', ' USA'],\n",
       " 392: ['Dallas', ' Texas', ' USA'],\n",
       " 393: ['Dallas', ' Texas', ' USA'],\n",
       " 394: ['Dallas', ' Texas', ' USA'],\n",
       " 395: ['Dallas', ' Texas', ' USA'],\n",
       " 396: ['Dallas', ' Texas', ' USA'],\n",
       " 397: ['Dallas', ' Texas', ' USA'],\n",
       " 398: ['Lincoln', ' Nebraska', ' USA'],\n",
       " 399: ['Lincoln', ' Nebraska', ' USA'],\n",
       " 400: ['Lincoln', ' Nebraska', ' USA'],\n",
       " 401: ['Lincoln', ' Nebraska', ' USA'],\n",
       " 402: ['Lincoln', ' Nebraska', ' USA'],\n",
       " 403: ['Lincoln', ' Nebraska', ' USA'],\n",
       " 404: ['Lincoln', ' Nebraska', ' USA'],\n",
       " 405: ['Lincoln', ' Nebraska', ' USA'],\n",
       " 406: ['Lincoln', ' Nebraska', ' USA'],\n",
       " 407: ['Lincoln', ' Nebraska', ' USA'],\n",
       " 408: ['Lincoln', ' Nebraska', ' USA'],\n",
       " 409: ['Lincoln', ' Nebraska', ' USA'],\n",
       " 410: ['Lincoln', ' Nebraska', ' USA'],\n",
       " 411: ['Los Angeles', ' California', ' USA'],\n",
       " 412: ['Los Angeles', ' California', ' USA'],\n",
       " 413: ['Los Angeles', ' California', ' USA'],\n",
       " 414: ['Los Angeles', ' California', ' USA'],\n",
       " 415: ['Los Angeles', ' California', ' USA'],\n",
       " 416: ['Los Angeles', ' California', ' USA'],\n",
       " 417: ['Los Angeles', ' California', ' USA'],\n",
       " 418: ['Los Angeles', ' California', ' USA'],\n",
       " 419: ['Los Angeles', ' California', ' USA'],\n",
       " 420: ['Los Angeles', ' California', ' USA'],\n",
       " 421: ['Los Angeles', ' California', ' USA'],\n",
       " 422: ['Los Angeles', ' California', ' USA'],\n",
       " 423: ['Calgary', ' Alberta', ' Canada'],\n",
       " 424: ['Calgary', ' Alberta', ' Canada'],\n",
       " 425: ['Calgary', ' Alberta', ' Canada'],\n",
       " 426: ['Calgary', ' Alberta', ' Canada'],\n",
       " 427: ['Calgary', ' Alberta', ' Canada'],\n",
       " 428: ['Calgary', ' Alberta', ' Canada'],\n",
       " 429: ['Calgary', ' Alberta', ' Canada'],\n",
       " 430: ['Calgary', ' Alberta', ' Canada'],\n",
       " 431: ['Calgary', ' Alberta', ' Canada'],\n",
       " 432: ['Calgary', ' Alberta', ' Canada'],\n",
       " 433: ['Calgary', ' Alberta', ' Canada'],\n",
       " 434: ['Calgary', ' Alberta', ' Canada'],\n",
       " 435: ['Calgary', ' Alberta', ' Canada'],\n",
       " 436: ['Hamburg', ' Hamburg', ' Germany'],\n",
       " 437: ['Hamburg', ' Hamburg', ' Germany'],\n",
       " 438: ['Hamburg', ' Hamburg', ' Germany'],\n",
       " 439: ['Hamburg', ' Hamburg', ' Germany'],\n",
       " 440: ['Hamburg', ' Hamburg', ' Germany'],\n",
       " 441: ['Hamburg', ' Hamburg', ' Germany'],\n",
       " 442: ['Hamburg', ' Hamburg', ' Germany'],\n",
       " 443: ['Hamburg', ' Hamburg', ' Germany'],\n",
       " 444: ['Hamburg', ' Hamburg', ' Germany'],\n",
       " 445: ['Hamburg', ' Hamburg', ' Germany'],\n",
       " 446: ['Hamburg', ' Hamburg', ' Germany'],\n",
       " 447: ['Hamburg', ' Hamburg', ' Germany'],\n",
       " 448: ['Hamburg', ' Hamburg', ' Germany'],\n",
       " 449: ['Boise', ' Idaho', ' USA'],\n",
       " 450: ['Boise', ' Idaho', ' USA'],\n",
       " 451: ['Boise', ' Idaho', ' USA'],\n",
       " 452: ['Boise', ' Idaho', ' USA'],\n",
       " 453: ['Boise', ' Idaho', ' USA'],\n",
       " 454: ['Boise', ' Idaho', ' USA'],\n",
       " 455: ['Boise', ' Idaho', ' USA'],\n",
       " 456: ['Boise', ' Idaho', ' USA'],\n",
       " 457: ['Boise', ' Idaho', ' USA'],\n",
       " 458: ['Boise', ' Idaho', ' USA'],\n",
       " 459: ['Boise', ' Idaho', ' USA'],\n",
       " 460: ['Boise', ' Idaho', ' USA'],\n",
       " 461: ['Boise', ' Idaho', ' USA'],\n",
       " 462: ['Las Vegas', ' Nevada', ' USA'],\n",
       " 463: ['Las Vegas', ' Nevada', ' USA'],\n",
       " 464: ['Las Vegas', ' Nevada', ' USA'],\n",
       " 465: ['Las Vegas', ' Nevada', ' USA'],\n",
       " 466: ['Las Vegas', ' Nevada', ' USA'],\n",
       " 467: ['Las Vegas', ' Nevada', ' USA'],\n",
       " 468: ['Las Vegas', ' Nevada', ' USA'],\n",
       " 469: ['Las Vegas', ' Nevada', ' USA'],\n",
       " 470: ['Las Vegas', ' Nevada', ' USA'],\n",
       " 471: ['Las Vegas', ' Nevada', ' USA'],\n",
       " 472: ['Las Vegas', ' Nevada', ' USA'],\n",
       " 473: ['Las Vegas', ' Nevada', ' USA'],\n",
       " 474: ['Las Vegas', ' Nevada', ' USA'],\n",
       " 475: ['Las Vegas', ' Nevada', ' USA'],\n",
       " 476: ['Las Vegas', ' Nevada', ' USA'],\n",
       " 477: ['Las Vegas', ' Nevada', ' USA'],\n",
       " 478: ['Las Vegas', ' Nevada', ' USA'],\n",
       " 479: ['Las Vegas', ' Nevada', ' USA'],\n",
       " 480: ['Las Vegas', ' Nevada', ' USA'],\n",
       " 481: ['Las Vegas', ' Nevada', ' USA'],\n",
       " 482: ['Las Vegas', ' Nevada', ' USA'],\n",
       " 483: ['Las Vegas', ' Nevada', ' USA'],\n",
       " 484: ['Las Vegas', ' Nevada', ' USA'],\n",
       " 485: ['Kallang', ' Singapore'],\n",
       " 486: ['Kallang', ' Singapore'],\n",
       " 487: ['Kallang', ' Singapore'],\n",
       " 488: ['Kallang', ' Singapore'],\n",
       " 489: ['Kallang', ' Singapore'],\n",
       " 490: ['Kallang', ' Singapore'],\n",
       " 491: ['Kallang', ' Singapore'],\n",
       " 492: ['Kallang', ' Singapore'],\n",
       " 493: ['Kallang', ' Singapore'],\n",
       " 494: ['Kallang', ' Singapore'],\n",
       " 495: ['Kallang', ' Singapore'],\n",
       " 496: ['Kallang', ' Singapore'],\n",
       " 497: ['Kallang', ' Singapore'],\n",
       " 498: ['Chicago', ' Illinois', ' USA'],\n",
       " 499: ['Chicago', ' Illinois', ' USA'],\n",
       " 500: ['Chicago', ' Illinois', ' USA'],\n",
       " 501: ['Chicago', ' Illinois', ' USA'],\n",
       " 502: ['Chicago', ' Illinois', ' USA'],\n",
       " 503: ['Chicago', ' Illinois', ' USA'],\n",
       " 504: ['Chicago', ' Illinois', ' USA'],\n",
       " 505: ['Chicago', ' Illinois', ' USA'],\n",
       " 506: ['Chicago', ' Illinois', ' USA'],\n",
       " 507: ['Chicago', ' Illinois', ' USA'],\n",
       " 508: ['Chicago', ' Illinois', ' USA'],\n",
       " 509: ['Chicago', ' Illinois', ' USA'],\n",
       " 510: ['Chicago', ' Illinois', ' USA'],\n",
       " 511: ['Utica', ' New York', ' USA'],\n",
       " 512: ['Utica', ' New York', ' USA'],\n",
       " 513: ['Utica', ' New York', ' USA'],\n",
       " 514: ['Utica', ' New York', ' USA'],\n",
       " 515: ['Utica', ' New York', ' USA'],\n",
       " 516: ['Utica', ' New York', ' USA'],\n",
       " 517: ['Utica', ' New York', ' USA'],\n",
       " 518: ['Utica', ' New York', ' USA'],\n",
       " 519: ['Utica', ' New York', ' USA'],\n",
       " 520: ['Utica', ' New York', ' USA'],\n",
       " 521: ['Utica', ' New York', ' USA'],\n",
       " 522: ['Utica', ' New York', ' USA'],\n",
       " 523: ['Liverpool', ' England', ' United Kingdom'],\n",
       " 524: ['Liverpool', ' England', ' United Kingdom'],\n",
       " 525: ['Liverpool', ' England', ' United Kingdom'],\n",
       " 526: ['Liverpool', ' England', ' United Kingdom'],\n",
       " 527: ['Liverpool', ' England', ' United Kingdom'],\n",
       " 528: ['Liverpool', ' England', ' United Kingdom'],\n",
       " 529: ['Liverpool', ' England', ' United Kingdom'],\n",
       " 530: ['Liverpool', ' England', ' United Kingdom'],\n",
       " 531: ['Liverpool', ' England', ' United Kingdom'],\n",
       " 532: ['Liverpool', ' England', ' United Kingdom'],\n",
       " 533: ['Liverpool', ' England', ' United Kingdom'],\n",
       " 534: ['Santiago', ' Chile'],\n",
       " 535: ['Santiago', ' Chile'],\n",
       " 536: ['Santiago', ' Chile'],\n",
       " 537: ['Santiago', ' Chile'],\n",
       " 538: ['Santiago', ' Chile'],\n",
       " 539: ['Santiago', ' Chile'],\n",
       " 540: ['Santiago', ' Chile'],\n",
       " 541: ['Santiago', ' Chile'],\n",
       " 542: ['Santiago', ' Chile'],\n",
       " 543: ['Santiago', ' Chile'],\n",
       " 544: ['Santiago', ' Chile'],\n",
       " 545: ['Santiago', ' Chile'],\n",
       " 546: ['Santiago', ' Chile'],\n",
       " 547: ['Rio de Janeiro', ' Rio de Janeiro', ' Brazil'],\n",
       " 548: ['Rio de Janeiro', ' Rio de Janeiro', ' Brazil'],\n",
       " 549: ['Rio de Janeiro', ' Rio de Janeiro', ' Brazil'],\n",
       " 550: ['Rio de Janeiro', ' Rio de Janeiro', ' Brazil'],\n",
       " 551: ['Rio de Janeiro', ' Rio de Janeiro', ' Brazil'],\n",
       " 552: ['Rio de Janeiro', ' Rio de Janeiro', ' Brazil'],\n",
       " 553: ['Rio de Janeiro', ' Rio de Janeiro', ' Brazil'],\n",
       " 554: ['Rio de Janeiro', ' Rio de Janeiro', ' Brazil'],\n",
       " 555: ['Rio de Janeiro', ' Rio de Janeiro', ' Brazil'],\n",
       " 556: ['Rio de Janeiro', ' Rio de Janeiro', ' Brazil'],\n",
       " 557: ['Rio de Janeiro', ' Rio de Janeiro', ' Brazil'],\n",
       " 558: ['Rio de Janeiro', ' Rio de Janeiro', ' Brazil'],\n",
       " 559: ['Rio de Janeiro', ' Rio de Janeiro', ' Brazil'],\n",
       " 560: ['Atlantic City', ' New Jersey', ' USA'],\n",
       " 561: ['Atlantic City', ' New Jersey', ' USA'],\n",
       " 562: ['Atlantic City', ' New Jersey', ' USA'],\n",
       " 563: ['Atlantic City', ' New Jersey', ' USA'],\n",
       " 564: ['Atlantic City', ' New Jersey', ' USA'],\n",
       " 565: ['Atlantic City', ' New Jersey', ' USA'],\n",
       " 566: ['Atlantic City', ' New Jersey', ' USA'],\n",
       " 567: ['Atlantic City', ' New Jersey', ' USA'],\n",
       " 568: ['Atlantic City', ' New Jersey', ' USA'],\n",
       " 569: ['Atlantic City', ' New Jersey', ' USA'],\n",
       " 570: ['Atlantic City', ' New Jersey', ' USA'],\n",
       " 571: ['Glendale', ' Arizona', ' USA'],\n",
       " 572: ['Glendale', ' Arizona', ' USA'],\n",
       " 573: ['Glendale', ' Arizona', ' USA'],\n",
       " 574: ['Glendale', ' Arizona', ' USA'],\n",
       " 575: ['Glendale', ' Arizona', ' USA'],\n",
       " 576: ['Glendale', ' Arizona', ' USA'],\n",
       " 577: ['Glendale', ' Arizona', ' USA'],\n",
       " 578: ['Glendale', ' Arizona', ' USA'],\n",
       " 579: ['Glendale', ' Arizona', ' USA'],\n",
       " 580: ['Glendale', ' Arizona', ' USA'],\n",
       " 581: ['Glendale', ' Arizona', ' USA'],\n",
       " 582: ['Glendale', ' Arizona', ' USA'],\n",
       " 583: ['Glendale', ' Arizona', ' USA'],\n",
       " 584: ['Glendale', ' Arizona', ' USA'],\n",
       " 585: ['Brooklyn', ' New York', ' USA'],\n",
       " 586: ['Brooklyn', ' New York', ' USA'],\n",
       " 587: ['Brooklyn', ' New York', ' USA'],\n",
       " 588: ['Brooklyn', ' New York', ' USA'],\n",
       " 589: ['Brooklyn', ' New York', ' USA'],\n",
       " 590: ['Brooklyn', ' New York', ' USA'],\n",
       " 591: ['Brooklyn', ' New York', ' USA'],\n",
       " 592: ['Brooklyn', ' New York', ' USA'],\n",
       " 593: ['Brooklyn', ' New York', ' USA'],\n",
       " 594: ['London', ' England', ' United Kingdom'],\n",
       " 595: ['London', ' England', ' United Kingdom'],\n",
       " 596: ['London', ' England', ' United Kingdom'],\n",
       " 597: ['London', ' England', ' United Kingdom'],\n",
       " 598: ['London', ' England', ' United Kingdom'],\n",
       " 599: ['London', ' England', ' United Kingdom'],\n",
       " 600: ['London', ' England', ' United Kingdom'],\n",
       " 601: ['London', ' England', ' United Kingdom'],\n",
       " 602: ['London', ' England', ' United Kingdom'],\n",
       " 603: ['London', ' England', ' United Kingdom'],\n",
       " 604: ['Las Vegas', ' Nevada', ' USA'],\n",
       " 605: ['Las Vegas', ' Nevada', ' USA'],\n",
       " 606: ['Las Vegas', ' Nevada', ' USA'],\n",
       " 607: ['Las Vegas', ' Nevada', ' USA'],\n",
       " 608: ['Las Vegas', ' Nevada', ' USA'],\n",
       " 609: ['Las Vegas', ' Nevada', ' USA'],\n",
       " 610: ['Las Vegas', ' Nevada', ' USA'],\n",
       " 611: ['Las Vegas', ' Nevada', ' USA'],\n",
       " 612: ['Las Vegas', ' Nevada', ' USA'],\n",
       " 613: ['Las Vegas', ' Nevada', ' USA'],\n",
       " 614: ['Las Vegas', ' Nevada', ' USA'],\n",
       " 615: ['Las Vegas', ' Nevada', ' USA'],\n",
       " 616: ['Orlando', ' Florida', ' USA'],\n",
       " 617: ['Orlando', ' Florida', ' USA'],\n",
       " 618: ['Orlando', ' Florida', ' USA'],\n",
       " 619: ['Orlando', ' Florida', ' USA'],\n",
       " 620: ['Orlando', ' Florida', ' USA'],\n",
       " 621: ['Orlando', ' Florida', ' USA'],\n",
       " 622: ['Orlando', ' Florida', ' USA'],\n",
       " 623: ['Orlando', ' Florida', ' USA'],\n",
       " 624: ['Orlando', ' Florida', ' USA'],\n",
       " 625: ['Orlando', ' Florida', ' USA'],\n",
       " 626: ['Orlando', ' Florida', ' USA'],\n",
       " 627: ['Orlando', ' Florida', ' USA'],\n",
       " 628: ['Austin', ' Texas', ' USA'],\n",
       " 629: ['Austin', ' Texas', ' USA'],\n",
       " 630: ['Austin', ' Texas', ' USA'],\n",
       " 631: ['Austin', ' Texas', ' USA'],\n",
       " 632: ['Austin', ' Texas', ' USA'],\n",
       " 633: ['Austin', ' Texas', ' USA'],\n",
       " 634: ['Austin', ' Texas', ' USA'],\n",
       " 635: ['Austin', ' Texas', ' USA'],\n",
       " 636: ['Austin', ' Texas', ' USA'],\n",
       " 637: ['Austin', ' Texas', ' USA'],\n",
       " 638: ['Austin', ' Texas', ' USA'],\n",
       " 639: ['Austin', ' Texas', ' USA'],\n",
       " 640: ['Perth', ' Western Australia', ' Australia'],\n",
       " 641: ['Perth', ' Western Australia', ' Australia'],\n",
       " 642: ['Perth', ' Western Australia', ' Australia'],\n",
       " 643: ['Perth', ' Western Australia', ' Australia'],\n",
       " 644: ['Perth', ' Western Australia', ' Australia'],\n",
       " 645: ['Perth', ' Western Australia', ' Australia'],\n",
       " 646: ['Perth', ' Western Australia', ' Australia'],\n",
       " 647: ['Perth', ' Western Australia', ' Australia'],\n",
       " 648: ['Perth', ' Western Australia', ' Australia'],\n",
       " 649: ['Perth', ' Western Australia', ' Australia'],\n",
       " 650: ['Perth', ' Western Australia', ' Australia'],\n",
       " 651: ['Perth', ' Western Australia', ' Australia'],\n",
       " 652: ['Belem', ' Para', ' Brazil'],\n",
       " 653: ['Belem', ' Para', ' Brazil'],\n",
       " 654: ['Belem', ' Para', ' Brazil'],\n",
       " 655: ['Belem', ' Para', ' Brazil'],\n",
       " 656: ['Belem', ' Para', ' Brazil'],\n",
       " 657: ['Belem', ' Para', ' Brazil'],\n",
       " 658: ['Belem', ' Para', ' Brazil'],\n",
       " 659: ['Belem', ' Para', ' Brazil'],\n",
       " 660: ['Belem', ' Para', ' Brazil'],\n",
       " 661: ['Belem', ' Para', ' Brazil'],\n",
       " 662: ['Belem', ' Para', ' Brazil'],\n",
       " 663: ['Charlotte', ' North Carolina', ' USA'],\n",
       " 664: ['Charlotte', ' North Carolina', ' USA'],\n",
       " 665: ['Charlotte', ' North Carolina', ' USA'],\n",
       " 666: ['Charlotte', ' North Carolina', ' USA'],\n",
       " 667: ['Charlotte', ' North Carolina', ' USA'],\n",
       " 668: ['Charlotte', ' North Carolina', ' USA'],\n",
       " 669: ['Charlotte', ' North Carolina', ' USA'],\n",
       " 670: ['Charlotte', ' North Carolina', ' USA'],\n",
       " 671: ['Charlotte', ' North Carolina', ' USA'],\n",
       " 672: ['Charlotte', ' North Carolina', ' USA'],\n",
       " 673: ['Charlotte', ' North Carolina', ' USA'],\n",
       " 674: ['Charlotte', ' North Carolina', ' USA'],\n",
       " 675: ['Boston', ' Massachusetts', ' USA'],\n",
       " 676: ['Boston', ' Massachusetts', ' USA'],\n",
       " 677: ['Boston', ' Massachusetts', ' USA'],\n",
       " 678: ['Boston', ' Massachusetts', ' USA'],\n",
       " 679: ['Boston', ' Massachusetts', ' USA'],\n",
       " 680: ['Boston', ' Massachusetts', ' USA'],\n",
       " 681: ['Boston', ' Massachusetts', ' USA'],\n",
       " 682: ['Boston', ' Massachusetts', ' USA'],\n",
       " 683: ['Boston', ' Massachusetts', ' USA'],\n",
       " 684: ['Boston', ' Massachusetts', ' USA'],\n",
       " 685: ['Boston', ' Massachusetts', ' USA'],\n",
       " 686: ['St. Louis', ' Missouri', ' USA'],\n",
       " 687: ['St. Louis', ' Missouri', ' USA'],\n",
       " 688: ['St. Louis', ' Missouri', ' USA'],\n",
       " 689: ['St. Louis', ' Missouri', ' USA'],\n",
       " 690: ['St. Louis', ' Missouri', ' USA'],\n",
       " 691: ['St. Louis', ' Missouri', ' USA'],\n",
       " 692: ['St. Louis', ' Missouri', ' USA'],\n",
       " 693: ['St. Louis', ' Missouri', ' USA'],\n",
       " 694: ['St. Louis', ' Missouri', ' USA'],\n",
       " 695: ['St. Louis', ' Missouri', ' USA'],\n",
       " 696: ['St. Louis', ' Missouri', ' USA'],\n",
       " 697: ['Las Vegas', ' Nevada', ' USA'],\n",
       " 698: ['Las Vegas', ' Nevada', ' USA'],\n",
       " 699: ['Las Vegas', ' Nevada', ' USA'],\n",
       " 700: ['Las Vegas', ' Nevada', ' USA'],\n",
       " 701: ['Las Vegas', ' Nevada', ' USA'],\n",
       " 702: ['Las Vegas', ' Nevada', ' USA'],\n",
       " 703: ['Las Vegas', ' Nevada', ' USA'],\n",
       " 704: ['Las Vegas', ' Nevada', ' USA'],\n",
       " 705: ['Las Vegas', ' Nevada', ' USA'],\n",
       " 706: ['Las Vegas', ' Nevada', ' USA'],\n",
       " 707: ['Winnipeg', ' Manitoba', ' Canada'],\n",
       " 708: ['Winnipeg', ' Manitoba', ' Canada'],\n",
       " 709: ['Winnipeg', ' Manitoba', ' Canada'],\n",
       " 710: ['Winnipeg', ' Manitoba', ' Canada'],\n",
       " 711: ['Winnipeg', ' Manitoba', ' Canada'],\n",
       " 712: ['Winnipeg', ' Manitoba', ' Canada'],\n",
       " 713: ['Winnipeg', ' Manitoba', ' Canada'],\n",
       " 714: ['Winnipeg', ' Manitoba', ' Canada'],\n",
       " 715: ['Winnipeg', ' Manitoba', ' Canada'],\n",
       " 716: ['Winnipeg', ' Manitoba', ' Canada'],\n",
       " 717: ['Winnipeg', ' Manitoba', ' Canada'],\n",
       " 718: ['Fresno', ' California', ' USA'],\n",
       " 719: ['Fresno', ' California', ' USA'],\n",
       " 720: ['Fresno', ' California', ' USA'],\n",
       " 721: ['Fresno', ' California', ' USA'],\n",
       " 722: ['Fresno', ' California', ' USA'],\n",
       " 723: ['Fresno', ' California', ' USA'],\n",
       " 724: ['Fresno', ' California', ' USA'],\n",
       " 725: ['Fresno', ' California', ' USA'],\n",
       " 726: ['Fresno', ' California', ' USA'],\n",
       " 727: ['Fresno', ' California', ' USA'],\n",
       " 728: ['Fresno', ' California', ' USA'],\n",
       " 729: ['Fresno', ' California', ' USA'],\n",
       " 730: ['Fresno', ' California', ' USA'],\n",
       " 731: ['Detroit', ' Michigan', ' USA'],\n",
       " 732: ['Detroit', ' Michigan', ' USA'],\n",
       " 733: ['Detroit', ' Michigan', ' USA'],\n",
       " 734: ['Detroit', ' Michigan', ' USA'],\n",
       " 735: ['Detroit', ' Michigan', ' USA'],\n",
       " 736: ['Detroit', ' Michigan', ' USA'],\n",
       " 737: ['Detroit', ' Michigan', ' USA'],\n",
       " 738: ['Detroit', ' Michigan', ' USA'],\n",
       " 739: ['Detroit', ' Michigan', ' USA'],\n",
       " 740: ['Detroit', ' Michigan', ' USA'],\n",
       " 741: ['Detroit', ' Michigan', ' USA'],\n",
       " 742: ['Detroit', ' Michigan', ' USA'],\n",
       " 743: ['Detroit', ' Michigan', ' USA'],\n",
       " 744: ['Las Vegas', ' Nevada', ' USA'],\n",
       " 745: ['Las Vegas', ' Nevada', ' USA'],\n",
       " 746: ['Las Vegas', ' Nevada', ' USA'],\n",
       " 747: ['Las Vegas', ' Nevada', ' USA'],\n",
       " 748: ['Las Vegas', ' Nevada', ' USA'],\n",
       " 749: ['Las Vegas', ' Nevada', ' USA'],\n",
       " 750: ['Las Vegas', ' Nevada', ' USA'],\n",
       " 751: ['Las Vegas', ' Nevada', ' USA'],\n",
       " 752: ['Las Vegas', ' Nevada', ' USA'],\n",
       " 753: ['Las Vegas', ' Nevada', ' USA'],\n",
       " 754: ['Las Vegas', ' Nevada', ' USA'],\n",
       " 755: ['Shanghai', ' Hebei', ' China'],\n",
       " 756: ['Shanghai', ' Hebei', ' China'],\n",
       " 757: ['Shanghai', ' Hebei', ' China'],\n",
       " 758: ['Shanghai', ' Hebei', ' China'],\n",
       " 759: ['Shanghai', ' Hebei', ' China'],\n",
       " 760: ['Shanghai', ' Hebei', ' China'],\n",
       " 761: ['Shanghai', ' Hebei', ' China'],\n",
       " 762: ['Shanghai', ' Hebei', ' China'],\n",
       " 763: ['Shanghai', ' Hebei', ' China'],\n",
       " 764: ['Shanghai', ' Hebei', ' China'],\n",
       " 765: ['Shanghai', ' Hebei', ' China'],\n",
       " 766: ['Shanghai', ' Hebei', ' China'],\n",
       " 767: ['Sydney', ' New South Wales', ' Australia'],\n",
       " 768: ['Sydney', ' New South Wales', ' Australia'],\n",
       " 769: ['Sydney', ' New South Wales', ' Australia'],\n",
       " 770: ['Sydney', ' New South Wales', ' Australia'],\n",
       " 771: ['Sydney', ' New South Wales', ' Australia'],\n",
       " 772: ['Sydney', ' New South Wales', ' Australia'],\n",
       " 773: ['Sydney', ' New South Wales', ' Australia'],\n",
       " 774: ['Sydney', ' New South Wales', ' Australia'],\n",
       " 775: ['Sydney', ' New South Wales', ' Australia'],\n",
       " 776: ['Sydney', ' New South Wales', ' Australia'],\n",
       " 777: ['Sydney', ' New South Wales', ' Australia'],\n",
       " 778: ['Sydney', ' New South Wales', ' Australia'],\n",
       " 779: ['Sydney', ' New South Wales', ' Australia'],\n",
       " 780: ['Norfolk', ' Virginia', ' USA'],\n",
       " 781: ['Norfolk', ' Virginia', ' USA'],\n",
       " 782: ['Norfolk', ' Virginia', ' USA'],\n",
       " 783: ['Norfolk', ' Virginia', ' USA'],\n",
       " 784: ['Norfolk', ' Virginia', ' USA'],\n",
       " 785: ['Norfolk', ' Virginia', ' USA'],\n",
       " 786: ['Norfolk', ' Virginia', ' USA'],\n",
       " 787: ['Norfolk', ' Virginia', ' USA'],\n",
       " 788: ['Norfolk', ' Virginia', ' USA'],\n",
       " 789: ['Norfolk', ' Virginia', ' USA'],\n",
       " 790: ['Norfolk', ' Virginia', ' USA'],\n",
       " 791: ['Norfolk', ' Virginia', ' USA'],\n",
       " 792: ['Norfolk', ' Virginia', ' USA'],\n",
       " 793: ['New York City', ' New York', ' USA'],\n",
       " 794: ['New York City', ' New York', ' USA'],\n",
       " 795: ['New York City', ' New York', ' USA'],\n",
       " 796: ['New York City', ' New York', ' USA'],\n",
       " 797: ['New York City', ' New York', ' USA'],\n",
       " 798: ['New York City', ' New York', ' USA'],\n",
       " 799: ['New York City', ' New York', ' USA'],\n",
       " 800: ['New York City', ' New York', ' USA'],\n",
       " 801: ['New York City', ' New York', ' USA'],\n",
       " 802: ['New York City', ' New York', ' USA'],\n",
       " 803: ['New York City', ' New York', ' USA'],\n",
       " 804: ['Sao Paulo', ' Sao Paulo', ' Brazil'],\n",
       " 805: ['Sao Paulo', ' Sao Paulo', ' Brazil'],\n",
       " 806: ['Sao Paulo', ' Sao Paulo', ' Brazil'],\n",
       " 807: ['Sao Paulo', ' Sao Paulo', ' Brazil'],\n",
       " 808: ['Sao Paulo', ' Sao Paulo', ' Brazil'],\n",
       " 809: ['Sao Paulo', ' Sao Paulo', ' Brazil'],\n",
       " 810: ['Sao Paulo', ' Sao Paulo', ' Brazil'],\n",
       " 811: ['Sao Paulo', ' Sao Paulo', ' Brazil'],\n",
       " 812: ['Sao Paulo', ' Sao Paulo', ' Brazil'],\n",
       " 813: ['Sao Paulo', ' Sao Paulo', ' Brazil'],\n",
       " 814: ['Sao Paulo', ' Sao Paulo', ' Brazil'],\n",
       " 815: ['Sao Paulo', ' Sao Paulo', ' Brazil'],\n",
       " 816: ['Gdansk', ' Poland'],\n",
       " 817: ['Gdansk', ' Poland'],\n",
       " 818: ['Gdansk', ' Poland'],\n",
       " 819: ['Gdansk', ' Poland'],\n",
       " 820: ['Gdansk', ' Poland'],\n",
       " 821: ['Gdansk', ' Poland'],\n",
       " 822: ['Gdansk', ' Poland'],\n",
       " 823: ['Gdansk', ' Poland'],\n",
       " 824: ['Gdansk', ' Poland'],\n",
       " 825: ['Gdansk', ' Poland'],\n",
       " 826: ['Gdansk', ' Poland'],\n",
       " 827: ['Las Vegas', ' Nevada', ' USA'],\n",
       " 828: ['Las Vegas', ' Nevada', ' USA'],\n",
       " 829: ['Las Vegas', ' Nevada', ' USA'],\n",
       " 830: ['Las Vegas', ' Nevada', ' USA'],\n",
       " 831: ['Las Vegas', ' Nevada', ' USA'],\n",
       " 832: ['Las Vegas', ' Nevada', ' USA'],\n",
       " 833: ['Las Vegas', ' Nevada', ' USA'],\n",
       " 834: ['Las Vegas', ' Nevada', ' USA'],\n",
       " 835: ['Las Vegas', ' Nevada', ' USA'],\n",
       " 836: ['Las Vegas', ' Nevada', ' USA'],\n",
       " 837: ['Las Vegas', ' Nevada', ' USA'],\n",
       " 838: ['Saitama', ' Saitama', ' Japan'],\n",
       " 839: ['Saitama', ' Saitama', ' Japan'],\n",
       " 840: ['Saitama', ' Saitama', ' Japan'],\n",
       " 841: ['Saitama', ' Saitama', ' Japan'],\n",
       " 842: ['Saitama', ' Saitama', ' Japan'],\n",
       " 843: ['Saitama', ' Saitama', ' Japan'],\n",
       " 844: ['Saitama', ' Saitama', ' Japan'],\n",
       " 845: ['Saitama', ' Saitama', ' Japan'],\n",
       " 846: ['Saitama', ' Saitama', ' Japan'],\n",
       " 847: ['Saitama', ' Saitama', ' Japan'],\n",
       " 848: ['Pittsburgh', ' Pennsylvania', ' USA'],\n",
       " 849: ['Pittsburgh', ' Pennsylvania', ' USA'],\n",
       " 850: ['Pittsburgh', ' Pennsylvania', ' USA'],\n",
       " 851: ['Pittsburgh', ' Pennsylvania', ' USA'],\n",
       " 852: ['Pittsburgh', ' Pennsylvania', ' USA'],\n",
       " 853: ['Pittsburgh', ' Pennsylvania', ' USA'],\n",
       " 854: ['Pittsburgh', ' Pennsylvania', ' USA'],\n",
       " 855: ['Pittsburgh', ' Pennsylvania', ' USA'],\n",
       " 856: ['Pittsburgh', ' Pennsylvania', ' USA'],\n",
       " 857: ['Pittsburgh', ' Pennsylvania', ' USA'],\n",
       " 858: ['Edmonton', ' Alberta', ' Canada'],\n",
       " 859: ['Edmonton', ' Alberta', ' Canada'],\n",
       " 860: ['Edmonton', ' Alberta', ' Canada'],\n",
       " 861: ['Edmonton', ' Alberta', ' Canada'],\n",
       " 862: ['Edmonton', ' Alberta', ' Canada'],\n",
       " 863: ['Edmonton', ' Alberta', ' Canada'],\n",
       " 864: ['Edmonton', ' Alberta', ' Canada'],\n",
       " 865: ['Edmonton', ' Alberta', ' Canada'],\n",
       " 866: ['Edmonton', ' Alberta', ' Canada'],\n",
       " 867: ['Edmonton', ' Alberta', ' Canada'],\n",
       " 868: ['Edmonton', ' Alberta', ' Canada'],\n",
       " 869: ['Rotterdam', ' Zuid-Holland', ' Netherlands'],\n",
       " 870: ['Rotterdam', ' Zuid-Holland', ' Netherlands'],\n",
       " 871: ['Rotterdam', ' Zuid-Holland', ' Netherlands'],\n",
       " 872: ['Rotterdam', ' Zuid-Holland', ' Netherlands'],\n",
       " 873: ['Rotterdam', ' Zuid-Holland', ' Netherlands'],\n",
       " 874: ['Rotterdam', ' Zuid-Holland', ' Netherlands'],\n",
       " 875: ['Rotterdam', ' Zuid-Holland', ' Netherlands'],\n",
       " 876: ['Rotterdam', ' Zuid-Holland', ' Netherlands'],\n",
       " 877: ['Rotterdam', ' Zuid-Holland', ' Netherlands'],\n",
       " 878: ['Rotterdam', ' Zuid-Holland', ' Netherlands'],\n",
       " 879: ['Rotterdam', ' Zuid-Holland', ' Netherlands'],\n",
       " 880: ['Rotterdam', ' Zuid-Holland', ' Netherlands'],\n",
       " 881: ['Mexico City', ' Distrito Federal', ' Mexico'],\n",
       " 882: ['Mexico City', ' Distrito Federal', ' Mexico'],\n",
       " 883: ['Mexico City', ' Distrito Federal', ' Mexico'],\n",
       " 884: ['Mexico City', ' Distrito Federal', ' Mexico'],\n",
       " 885: ['Mexico City', ' Distrito Federal', ' Mexico'],\n",
       " 886: ['Mexico City', ' Distrito Federal', ' Mexico'],\n",
       " 887: ['Mexico City', ' Distrito Federal', ' Mexico'],\n",
       " 888: ['Mexico City', ' Distrito Federal', ' Mexico'],\n",
       " 889: ['Mexico City', ' Distrito Federal', ' Mexico'],\n",
       " 890: ['Mexico City', ' Distrito Federal', ' Mexico'],\n",
       " 891: ['Mexico City', ' Distrito Federal', ' Mexico'],\n",
       " 892: ['Mexico City', ' Distrito Federal', ' Mexico'],\n",
       " 893: ['Anaheim', ' California', ' USA'],\n",
       " 894: ['Anaheim', ' California', ' USA'],\n",
       " 895: ['Anaheim', ' California', ' USA'],\n",
       " 896: ['Anaheim', ' California', ' USA'],\n",
       " 897: ['Anaheim', ' California', ' USA'],\n",
       " 898: ['Anaheim', ' California', ' USA'],\n",
       " 899: ['Anaheim', ' California', ' USA'],\n",
       " 900: ['Anaheim', ' California', ' USA'],\n",
       " 901: ['Anaheim', ' California', ' USA'],\n",
       " 902: ['Anaheim', ' California', ' USA'],\n",
       " 903: ['Anaheim', ' California', ' USA'],\n",
       " 904: ['Anaheim', ' California', ' USA'],\n",
       " 905: ['Uniondale', ' New York', ' USA'],\n",
       " 906: ['Uniondale', ' New York', ' USA'],\n",
       " 907: ['Uniondale', ' New York', ' USA'],\n",
       " 908: ['Uniondale', ' New York', ' USA'],\n",
       " 909: ['Uniondale', ' New York', ' USA'],\n",
       " 910: ['Uniondale', ' New York', ' USA'],\n",
       " 911: ['Uniondale', ' New York', ' USA'],\n",
       " 912: ['Uniondale', ' New York', ' USA'],\n",
       " 913: ['Uniondale', ' New York', ' USA'],\n",
       " 914: ['Uniondale', ' New York', ' USA'],\n",
       " 915: ['Uniondale', ' New York', ' USA'],\n",
       " 916: ['Uniondale', ' New York', ' USA'],\n",
       " 917: ['Uniondale', ' New York', ' USA'],\n",
       " 918: ['Glasgow', ' Scotland', ' United Kingdom'],\n",
       " 919: ['Glasgow', ' Scotland', ' United Kingdom'],\n",
       " 920: ['Glasgow', ' Scotland', ' United Kingdom'],\n",
       " 921: ['Glasgow', ' Scotland', ' United Kingdom'],\n",
       " 922: ['Glasgow', ' Scotland', ' United Kingdom'],\n",
       " 923: ['Glasgow', ' Scotland', ' United Kingdom'],\n",
       " 924: ['Glasgow', ' Scotland', ' United Kingdom'],\n",
       " 925: ['Glasgow', ' Scotland', ' United Kingdom'],\n",
       " 926: ['Glasgow', ' Scotland', ' United Kingdom'],\n",
       " 927: ['Glasgow', ' Scotland', ' United Kingdom'],\n",
       " 928: ['Glasgow', ' Scotland', ' United Kingdom'],\n",
       " 929: ['Glasgow', ' Scotland', ' United Kingdom'],\n",
       " 930: ['Las Vegas', ' Nevada', ' USA'],\n",
       " 931: ['Las Vegas', ' Nevada', ' USA'],\n",
       " 932: ['Las Vegas', ' Nevada', ' USA'],\n",
       " 933: ['Las Vegas', ' Nevada', ' USA'],\n",
       " 934: ['Las Vegas', ' Nevada', ' USA'],\n",
       " 935: ['Las Vegas', ' Nevada', ' USA'],\n",
       " 936: ['Las Vegas', ' Nevada', ' USA'],\n",
       " 937: ['Las Vegas', ' Nevada', ' USA'],\n",
       " 938: ['Las Vegas', ' Nevada', ' USA'],\n",
       " 939: ['Las Vegas', ' Nevada', ' USA'],\n",
       " 940: ['Las Vegas', ' Nevada', ' USA'],\n",
       " 941: ['Las Vegas', ' Nevada', ' USA'],\n",
       " 942: ['Las Vegas', ' Nevada', ' USA'],\n",
       " 943: ['Las Vegas', ' Nevada', ' USA'],\n",
       " 944: ['Las Vegas', ' Nevada', ' USA'],\n",
       " 945: ['Las Vegas', ' Nevada', ' USA'],\n",
       " 946: ['Las Vegas', ' Nevada', ' USA'],\n",
       " 947: ['Las Vegas', ' Nevada', ' USA'],\n",
       " 948: ['Las Vegas', ' Nevada', ' USA'],\n",
       " 949: ['Las Vegas', ' Nevada', ' USA'],\n",
       " 950: ['Las Vegas', ' Nevada', ' USA'],\n",
       " 951: ['Oklahoma City', ' Oklahoma', ' USA'],\n",
       " 952: ['Oklahoma City', ' Oklahoma', ' USA'],\n",
       " 953: ['Oklahoma City', ' Oklahoma', ' USA'],\n",
       " 954: ['Oklahoma City', ' Oklahoma', ' USA'],\n",
       " 955: ['Oklahoma City', ' Oklahoma', ' USA'],\n",
       " 956: ['Oklahoma City', ' Oklahoma', ' USA'],\n",
       " 957: ['Oklahoma City', ' Oklahoma', ' USA'],\n",
       " 958: ['Oklahoma City', ' Oklahoma', ' USA'],\n",
       " 959: ['Oklahoma City', ' Oklahoma', ' USA'],\n",
       " 960: ['Oklahoma City', ' Oklahoma', ' USA'],\n",
       " 961: ['Oklahoma City', ' Oklahoma', ' USA'],\n",
       " 962: ['Kallang', ' Singapore'],\n",
       " 963: ['Kallang', ' Singapore'],\n",
       " 964: ['Kallang', ' Singapore'],\n",
       " 965: ['Kallang', ' Singapore'],\n",
       " 966: ['Kallang', ' Singapore'],\n",
       " 967: ['Kallang', ' Singapore'],\n",
       " 968: ['Kallang', ' Singapore'],\n",
       " 969: ['Kallang', ' Singapore'],\n",
       " 970: ['Kallang', ' Singapore'],\n",
       " 971: ['Kallang', ' Singapore'],\n",
       " 972: ['Kallang', ' Singapore'],\n",
       " 973: ['Auckland', ' New Zealand'],\n",
       " 974: ['Auckland', ' New Zealand'],\n",
       " 975: ['Auckland', ' New Zealand'],\n",
       " 976: ['Auckland', ' New Zealand'],\n",
       " 977: ['Auckland', ' New Zealand'],\n",
       " 978: ['Auckland', ' New Zealand'],\n",
       " 979: ['Auckland', ' New Zealand'],\n",
       " 980: ['Auckland', ' New Zealand'],\n",
       " 981: ['Auckland', ' New Zealand'],\n",
       " 982: ['Auckland', ' New Zealand'],\n",
       " 983: ['Auckland', ' New Zealand'],\n",
       " 984: ['Rio de Janeiro', ' Rio de Janeiro', ' Brazil'],\n",
       " 985: ['Rio de Janeiro', ' Rio de Janeiro', ' Brazil'],\n",
       " 986: ['Rio de Janeiro', ' Rio de Janeiro', ' Brazil'],\n",
       " 987: ['Rio de Janeiro', ' Rio de Janeiro', ' Brazil'],\n",
       " 988: ['Rio de Janeiro', ' Rio de Janeiro', ' Brazil'],\n",
       " 989: ['Rio de Janeiro', ' Rio de Janeiro', ' Brazil'],\n",
       " 990: ['Rio de Janeiro', ' Rio de Janeiro', ' Brazil'],\n",
       " 991: ['Rio de Janeiro', ' Rio de Janeiro', ' Brazil'],\n",
       " 992: ['Rio de Janeiro', ' Rio de Janeiro', ' Brazil'],\n",
       " 993: ['Rio de Janeiro', ' Rio de Janeiro', ' Brazil'],\n",
       " 994: ['Stockholm', ' Sweden'],\n",
       " 995: ['Stockholm', ' Sweden'],\n",
       " 996: ['Stockholm', ' Sweden'],\n",
       " 997: ['Stockholm', ' Sweden'],\n",
       " 998: ['Stockholm', ' Sweden'],\n",
       " 999: ['Stockholm', ' Sweden'],\n",
       " ...}"
      ]
     },
     "execution_count": 4,
     "metadata": {},
     "output_type": "execute_result"
    }
   ],
   "source": [
    "locations = {}\n",
    "for idx, location in enumerate(df['location']):\n",
    "    locations[idx] = location.split(',')\n",
    "locations"
   ]
  },
  {
   "cell_type": "markdown",
   "metadata": {},
   "source": [
    "лучше так"
   ]
  },
  {
   "cell_type": "code",
   "execution_count": 5,
   "metadata": {
    "slideshow": {
     "slide_type": "subslide"
    }
   },
   "outputs": [
    {
     "data": {
      "text/plain": [
       "0    [Chicago,  Illinois,  USA]\n",
       "1    [Chicago,  Illinois,  USA]\n",
       "2    [Chicago,  Illinois,  USA]\n",
       "3    [Chicago,  Illinois,  USA]\n",
       "4    [Chicago,  Illinois,  USA]\n",
       "Name: location, dtype: object"
      ]
     },
     "execution_count": 5,
     "metadata": {},
     "output_type": "execute_result"
    }
   ],
   "source": [
    "df['location'].str.split(',').head()"
   ]
  },
  {
   "cell_type": "markdown",
   "metadata": {},
   "source": [
    "Посчитать длину"
   ]
  },
  {
   "cell_type": "code",
   "execution_count": null,
   "metadata": {
    "slideshow": {
     "slide_type": "fragment"
    }
   },
   "outputs": [],
   "source": []
  },
  {
   "cell_type": "markdown",
   "metadata": {},
   "source": [
    "Вытащить в виде колонок"
   ]
  },
  {
   "cell_type": "code",
   "execution_count": null,
   "metadata": {
    "slideshow": {
     "slide_type": "subslide"
    }
   },
   "outputs": [],
   "source": []
  },
  {
   "cell_type": "markdown",
   "metadata": {},
   "source": [
    "Можно конкатенировать к фрейму на ходу с помощью pd.concat()"
   ]
  },
  {
   "cell_type": "code",
   "execution_count": 6,
   "metadata": {
    "jupyter": {
     "outputs_hidden": true
    },
    "slideshow": {
     "slide_type": "fragment"
    }
   },
   "outputs": [
    {
     "ename": "TypeError",
     "evalue": "concat() missing 1 required positional argument: 'objs'",
     "output_type": "error",
     "traceback": [
      "\u001b[0;31m---------------------------------------------------------------------------\u001b[0m",
      "\u001b[0;31mTypeError\u001b[0m                                 Traceback (most recent call last)",
      "\u001b[0;32m<ipython-input-6-975d0a638e88>\u001b[0m in \u001b[0;36m<module>\u001b[0;34m\u001b[0m\n\u001b[0;32m----> 1\u001b[0;31m \u001b[0mpd\u001b[0m\u001b[0;34m.\u001b[0m\u001b[0mconcat\u001b[0m\u001b[0;34m(\u001b[0m\u001b[0;34m)\u001b[0m\u001b[0;34m\u001b[0m\u001b[0;34m\u001b[0m\u001b[0m\n\u001b[0m",
      "\u001b[0;31mTypeError\u001b[0m: concat() missing 1 required positional argument: 'objs'"
     ]
    }
   ],
   "source": [
    "pd.concat()"
   ]
  },
  {
   "cell_type": "markdown",
   "metadata": {
    "slideshow": {
     "slide_type": "slide"
    }
   },
   "source": [
    "### Конвертирование чисел"
   ]
  },
  {
   "cell_type": "markdown",
   "metadata": {
    "slideshow": {
     "slide_type": "fragment"
    }
   },
   "source": [
    "<center> <img  src=\"imgs/laying_pandas.jpeg\" width=800> </img>"
   ]
  },
  {
   "cell_type": "code",
   "execution_count": null,
   "metadata": {
    "slideshow": {
     "slide_type": "subslide"
    }
   },
   "outputs": [],
   "source": [
    "df['R_SIG_STR_pct'].head()"
   ]
  },
  {
   "cell_type": "code",
   "execution_count": null,
   "metadata": {
    "slideshow": {
     "slide_type": "fragment"
    }
   },
   "outputs": [],
   "source": [
    "df['R_SIG_STR_pct'].dtype"
   ]
  },
  {
   "cell_type": "markdown",
   "metadata": {},
   "source": [
    "Убрать знак процента"
   ]
  },
  {
   "cell_type": "code",
   "execution_count": null,
   "metadata": {},
   "outputs": [],
   "source": []
  },
  {
   "cell_type": "markdown",
   "metadata": {},
   "source": [
    "Превратить в numerical dtype - pd.to_numeric"
   ]
  },
  {
   "cell_type": "code",
   "execution_count": null,
   "metadata": {},
   "outputs": [],
   "source": []
  },
  {
   "cell_type": "markdown",
   "metadata": {},
   "source": [
    "Можно в виде десячтичных чисел"
   ]
  },
  {
   "cell_type": "markdown",
   "metadata": {
    "slideshow": {
     "slide_type": "slide"
    }
   },
   "source": [
    "### Конвертирование дат"
   ]
  },
  {
   "cell_type": "markdown",
   "metadata": {
    "slideshow": {
     "slide_type": "fragment"
    }
   },
   "source": [
    "<center> <img  src=\"imgs/3.jpeg\" width=800> </img>"
   ]
  },
  {
   "cell_type": "code",
   "execution_count": null,
   "metadata": {
    "slideshow": {
     "slide_type": "subslide"
    }
   },
   "outputs": [],
   "source": [
    "df['date'].head()"
   ]
  },
  {
   "cell_type": "markdown",
   "metadata": {},
   "source": [
    "Конвертация в datetime - pd.to_datetime"
   ]
  },
  {
   "cell_type": "code",
   "execution_count": null,
   "metadata": {},
   "outputs": [],
   "source": []
  },
  {
   "cell_type": "markdown",
   "metadata": {},
   "source": [
    "Посмотрим на изменение в потребление памяти"
   ]
  },
  {
   "cell_type": "code",
   "execution_count": null,
   "metadata": {
    "slideshow": {
     "slide_type": "subslide"
    }
   },
   "outputs": [],
   "source": [
    "old_mem_usage = df['date'].memory_usage(deep='True')\n",
    "new_mem_usage = date.memory_usage(deep='True')\n",
    "print('Прежнее потребление памяти: ', old_mem_usage)\n",
    "print('После конвертации ', new_mem_usage)\n",
    "print('Улучшение в потребляемой памяти {:.2f}'.format(old_mem_usage / new_mem_usage))"
   ]
  },
  {
   "cell_type": "markdown",
   "metadata": {},
   "source": [
    "Теперь к датам - dt"
   ]
  },
  {
   "cell_type": "markdown",
   "metadata": {},
   "source": [
    "Вытащить день недели - dayofweek"
   ]
  },
  {
   "cell_type": "code",
   "execution_count": null,
   "metadata": {},
   "outputs": [],
   "source": []
  },
  {
   "cell_type": "markdown",
   "metadata": {},
   "source": [
    "Конвертировать в период например год - to_period"
   ]
  },
  {
   "cell_type": "markdown",
   "metadata": {
    "slideshow": {
     "slide_type": "subslide"
    }
   },
   "source": [
    "##### потребление RAM"
   ]
  },
  {
   "cell_type": "code",
   "execution_count": null,
   "metadata": {
    "slideshow": {
     "slide_type": "subslide"
    }
   },
   "outputs": [],
   "source": []
  },
  {
   "cell_type": "markdown",
   "metadata": {
    "slideshow": {
     "slide_type": "slide"
    }
   },
   "source": [
    "# Resources"
   ]
  },
  {
   "cell_type": "markdown",
   "metadata": {
    "slideshow": {
     "slide_type": "fragment"
    }
   },
   "source": [
    "Книга по Pandas и не только:  <br>\n",
    "https://jakevdp.github.io/PythonDataScienceHandbook/  <br>\n",
    "<br>\n",
    "Серия статей по продвинотому pandas:  <br>\n",
    "https://tomaugspurger.github.io/modern-1-intro<br>\n",
    "<br>\n",
    "Список туториалов от самого pandas:  <br>\n",
    "https://pandas.pydata.org/pandas-docs/stable/getting_started/tutorials.html<br>\n"
   ]
  },
  {
   "cell_type": "markdown",
   "metadata": {
    "slideshow": {
     "slide_type": "fragment"
    }
   },
   "source": [
    "Презентацию можно будет достать по ссылке:   \n",
    "https://github.com/carnotaur/pandas_tutorial"
   ]
  }
 ],
 "metadata": {
  "kernelspec": {
   "display_name": "Python 3",
   "language": "python",
   "name": "python3"
  },
  "language_info": {
   "codemirror_mode": {
    "name": "ipython",
    "version": 3
   },
   "file_extension": ".py",
   "mimetype": "text/x-python",
   "name": "python",
   "nbconvert_exporter": "python",
   "pygments_lexer": "ipython3",
   "version": "3.6.8"
  }
 },
 "nbformat": 4,
 "nbformat_minor": 4
}
